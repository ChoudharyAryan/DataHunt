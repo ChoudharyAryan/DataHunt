{
 "cells": [
  {
   "cell_type": "markdown",
   "id": "c9f3a475",
   "metadata": {
    "execution": {
     "iopub.execute_input": "2022-10-21T07:20:35.577437Z",
     "iopub.status.busy": "2022-10-21T07:20:35.576984Z",
     "iopub.status.idle": "2022-10-21T07:20:35.615287Z",
     "shell.execute_reply": "2022-10-21T07:20:35.613711Z",
     "shell.execute_reply.started": "2022-10-21T07:20:35.577349Z"
    },
    "papermill": {
     "duration": 0.019113,
     "end_time": "2022-10-21T07:27:57.753755",
     "exception": false,
     "start_time": "2022-10-21T07:27:57.734642",
     "status": "completed"
    },
    "tags": []
   },
   "source": [
    "<h2><center> <span style = \"font-family: Babas; font-size: 2em;\">Perfect Classifier : Machine Learning Marathon[2nd Rank]</span> </center></h2>\n",
    "<h4><center> <span style = \"font-family: Babas; font-size: 2em; font-style: italic\"> Devendra Parihar </span> </center></h4>\n",
    "<!-- <h4><center> <span style = \"font-family: Babas; font-size: 2em;\"> Sugata Ghosh </span> </center></h4> -->"
   ]
  },
  {
   "cell_type": "markdown",
   "id": "a825c13b",
   "metadata": {
    "papermill": {
     "duration": 0.019048,
     "end_time": "2022-10-21T07:27:57.788536",
     "exception": false,
     "start_time": "2022-10-21T07:27:57.769488",
     "status": "completed"
    },
    "tags": []
   },
   "source": [
    "# Importing the Libraries"
   ]
  },
  {
   "cell_type": "code",
   "execution_count": 1,
   "id": "681601ff",
   "metadata": {
    "execution": {
     "iopub.execute_input": "2022-10-21T07:27:57.826694Z",
     "iopub.status.busy": "2022-10-21T07:27:57.825347Z",
     "iopub.status.idle": "2022-10-21T07:27:59.291232Z",
     "shell.execute_reply": "2022-10-21T07:27:59.290289Z"
    },
    "papermill": {
     "duration": 1.486012,
     "end_time": "2022-10-21T07:27:59.293954",
     "exception": false,
     "start_time": "2022-10-21T07:27:57.807942",
     "status": "completed"
    },
    "tags": []
   },
   "outputs": [],
   "source": [
    "import numpy as np\n",
    "import pandas as pd\n",
    "import matplotlib.pyplot as plt\n",
    "import seaborn as sns\n",
    "\n",
    "from sklearn.model_selection import train_test_split, cross_val_score\n",
    "from sklearn.preprocessing import OneHotEncoder, LabelEncoder\n",
    "from sklearn.tree import DecisionTreeClassifier\n",
    "from sklearn.ensemble import RandomForestClassifier\n",
    "from sklearn.metrics import recall_score, make_scorer, confusion_matrix, classification_report, fbeta_score\n",
    "\n",
    "#to filter future warning annd remove them\n",
    "import warnings\n",
    "warnings.filterwarnings('ignore')\n",
    "\n",
    "# Define seed for repeatability\n",
    "SEED = 42\n",
    "np.random.seed(SEED)"
   ]
  },
  {
   "cell_type": "markdown",
   "id": "90c4533d",
   "metadata": {
    "papermill": {
     "duration": 0.014984,
     "end_time": "2022-10-21T07:27:59.324502",
     "exception": false,
     "start_time": "2022-10-21T07:27:59.309518",
     "status": "completed"
    },
    "tags": []
   },
   "source": [
    "# Data Reading(training and testing data)"
   ]
  },
  {
   "cell_type": "code",
   "execution_count": 2,
   "id": "1c294100",
   "metadata": {
    "execution": {
     "iopub.execute_input": "2022-10-21T07:27:59.357853Z",
     "iopub.status.busy": "2022-10-21T07:27:59.357420Z",
     "iopub.status.idle": "2022-10-21T07:27:59.443299Z",
     "shell.execute_reply": "2022-10-21T07:27:59.442156Z"
    },
    "papermill": {
     "duration": 0.107584,
     "end_time": "2022-10-21T07:27:59.447362",
     "exception": false,
     "start_time": "2022-10-21T07:27:59.339778",
     "status": "completed"
    },
    "tags": []
   },
   "outputs": [
    {
     "data": {
      "text/html": [
       "<div>\n",
       "<style scoped>\n",
       "    .dataframe tbody tr th:only-of-type {\n",
       "        vertical-align: middle;\n",
       "    }\n",
       "\n",
       "    .dataframe tbody tr th {\n",
       "        vertical-align: top;\n",
       "    }\n",
       "\n",
       "    .dataframe thead th {\n",
       "        text-align: right;\n",
       "    }\n",
       "</style>\n",
       "<table border=\"1\" class=\"dataframe\">\n",
       "  <thead>\n",
       "    <tr style=\"text-align: right;\">\n",
       "      <th></th>\n",
       "      <th>age</th>\n",
       "      <th>job</th>\n",
       "      <th>marital</th>\n",
       "      <th>education</th>\n",
       "      <th>default</th>\n",
       "      <th>balance</th>\n",
       "      <th>housing</th>\n",
       "      <th>loan</th>\n",
       "      <th>contact</th>\n",
       "      <th>day</th>\n",
       "      <th>month</th>\n",
       "      <th>duration</th>\n",
       "      <th>campaign</th>\n",
       "      <th>pdays</th>\n",
       "      <th>previous</th>\n",
       "      <th>poutcome</th>\n",
       "      <th>deposit</th>\n",
       "    </tr>\n",
       "  </thead>\n",
       "  <tbody>\n",
       "    <tr>\n",
       "      <th>0</th>\n",
       "      <td>38</td>\n",
       "      <td>technician</td>\n",
       "      <td>married</td>\n",
       "      <td>tertiary</td>\n",
       "      <td>no</td>\n",
       "      <td>127</td>\n",
       "      <td>yes</td>\n",
       "      <td>no</td>\n",
       "      <td>cellular</td>\n",
       "      <td>14</td>\n",
       "      <td>oct</td>\n",
       "      <td>113</td>\n",
       "      <td>1</td>\n",
       "      <td>50</td>\n",
       "      <td>2</td>\n",
       "      <td>success</td>\n",
       "      <td>no</td>\n",
       "    </tr>\n",
       "    <tr>\n",
       "      <th>1</th>\n",
       "      <td>41</td>\n",
       "      <td>housemaid</td>\n",
       "      <td>married</td>\n",
       "      <td>primary</td>\n",
       "      <td>no</td>\n",
       "      <td>365</td>\n",
       "      <td>no</td>\n",
       "      <td>no</td>\n",
       "      <td>cellular</td>\n",
       "      <td>8</td>\n",
       "      <td>aug</td>\n",
       "      <td>203</td>\n",
       "      <td>5</td>\n",
       "      <td>-1</td>\n",
       "      <td>0</td>\n",
       "      <td>unknown</td>\n",
       "      <td>no</td>\n",
       "    </tr>\n",
       "    <tr>\n",
       "      <th>2</th>\n",
       "      <td>39</td>\n",
       "      <td>management</td>\n",
       "      <td>single</td>\n",
       "      <td>tertiary</td>\n",
       "      <td>no</td>\n",
       "      <td>2454</td>\n",
       "      <td>yes</td>\n",
       "      <td>no</td>\n",
       "      <td>cellular</td>\n",
       "      <td>4</td>\n",
       "      <td>may</td>\n",
       "      <td>716</td>\n",
       "      <td>3</td>\n",
       "      <td>263</td>\n",
       "      <td>2</td>\n",
       "      <td>failure</td>\n",
       "      <td>yes</td>\n",
       "    </tr>\n",
       "    <tr>\n",
       "      <th>3</th>\n",
       "      <td>49</td>\n",
       "      <td>blue-collar</td>\n",
       "      <td>married</td>\n",
       "      <td>primary</td>\n",
       "      <td>no</td>\n",
       "      <td>6215</td>\n",
       "      <td>yes</td>\n",
       "      <td>no</td>\n",
       "      <td>cellular</td>\n",
       "      <td>11</td>\n",
       "      <td>may</td>\n",
       "      <td>549</td>\n",
       "      <td>1</td>\n",
       "      <td>-1</td>\n",
       "      <td>0</td>\n",
       "      <td>unknown</td>\n",
       "      <td>no</td>\n",
       "    </tr>\n",
       "    <tr>\n",
       "      <th>4</th>\n",
       "      <td>37</td>\n",
       "      <td>services</td>\n",
       "      <td>married</td>\n",
       "      <td>secondary</td>\n",
       "      <td>no</td>\n",
       "      <td>1694</td>\n",
       "      <td>yes</td>\n",
       "      <td>yes</td>\n",
       "      <td>cellular</td>\n",
       "      <td>29</td>\n",
       "      <td>jan</td>\n",
       "      <td>404</td>\n",
       "      <td>2</td>\n",
       "      <td>251</td>\n",
       "      <td>6</td>\n",
       "      <td>failure</td>\n",
       "      <td>no</td>\n",
       "    </tr>\n",
       "  </tbody>\n",
       "</table>\n",
       "</div>"
      ],
      "text/plain": [
       "   age          job  marital  education default  balance housing loan  \\\n",
       "0   38   technician  married   tertiary      no      127     yes   no   \n",
       "1   41    housemaid  married    primary      no      365      no   no   \n",
       "2   39   management   single   tertiary      no     2454     yes   no   \n",
       "3   49  blue-collar  married    primary      no     6215     yes   no   \n",
       "4   37     services  married  secondary      no     1694     yes  yes   \n",
       "\n",
       "    contact  day month  duration  campaign  pdays  previous poutcome deposit  \n",
       "0  cellular   14   oct       113         1     50         2  success      no  \n",
       "1  cellular    8   aug       203         5     -1         0  unknown      no  \n",
       "2  cellular    4   may       716         3    263         2  failure     yes  \n",
       "3  cellular   11   may       549         1     -1         0  unknown      no  \n",
       "4  cellular   29   jan       404         2    251         6  failure      no  "
      ]
     },
     "execution_count": 2,
     "metadata": {},
     "output_type": "execute_result"
    }
   ],
   "source": [
    "# Read in train data\n",
    "train_df = pd.read_csv('../input/ml-marathon-dataset-by-azure-developer-community/data.csv')\n",
    "train_df.head()"
   ]
  },
  {
   "cell_type": "code",
   "execution_count": 3,
   "id": "80e6d598",
   "metadata": {
    "execution": {
     "iopub.execute_input": "2022-10-21T07:27:59.488688Z",
     "iopub.status.busy": "2022-10-21T07:27:59.487697Z",
     "iopub.status.idle": "2022-10-21T07:27:59.494246Z",
     "shell.execute_reply": "2022-10-21T07:27:59.493509Z"
    },
    "papermill": {
     "duration": 0.030312,
     "end_time": "2022-10-21T07:27:59.497207",
     "exception": false,
     "start_time": "2022-10-21T07:27:59.466895",
     "status": "completed"
    },
    "tags": []
   },
   "outputs": [
    {
     "name": "stdout",
     "output_type": "stream",
     "text": [
      "Index(['age', 'job', 'marital', 'education', 'default', 'balance', 'housing',\n",
      "       'loan', 'contact', 'day', 'month', 'duration', 'campaign', 'pdays',\n",
      "       'previous', 'poutcome', 'deposit'],\n",
      "      dtype='object')\n"
     ]
    }
   ],
   "source": [
    "print(train_df.columns)"
   ]
  },
  {
   "cell_type": "code",
   "execution_count": 4,
   "id": "786b4e69",
   "metadata": {
    "execution": {
     "iopub.execute_input": "2022-10-21T07:27:59.533428Z",
     "iopub.status.busy": "2022-10-21T07:27:59.532720Z",
     "iopub.status.idle": "2022-10-21T07:27:59.568983Z",
     "shell.execute_reply": "2022-10-21T07:27:59.567865Z"
    },
    "papermill": {
     "duration": 0.056284,
     "end_time": "2022-10-21T07:27:59.571302",
     "exception": false,
     "start_time": "2022-10-21T07:27:59.515018",
     "status": "completed"
    },
    "tags": []
   },
   "outputs": [
    {
     "data": {
      "text/html": [
       "<div>\n",
       "<style scoped>\n",
       "    .dataframe tbody tr th:only-of-type {\n",
       "        vertical-align: middle;\n",
       "    }\n",
       "\n",
       "    .dataframe tbody tr th {\n",
       "        vertical-align: top;\n",
       "    }\n",
       "\n",
       "    .dataframe thead th {\n",
       "        text-align: right;\n",
       "    }\n",
       "</style>\n",
       "<table border=\"1\" class=\"dataframe\">\n",
       "  <thead>\n",
       "    <tr style=\"text-align: right;\">\n",
       "      <th></th>\n",
       "      <th>age</th>\n",
       "      <th>job</th>\n",
       "      <th>marital</th>\n",
       "      <th>education</th>\n",
       "      <th>default</th>\n",
       "      <th>balance</th>\n",
       "      <th>housing</th>\n",
       "      <th>loan</th>\n",
       "      <th>contact</th>\n",
       "      <th>day</th>\n",
       "      <th>month</th>\n",
       "      <th>duration</th>\n",
       "      <th>campaign</th>\n",
       "      <th>pdays</th>\n",
       "      <th>previous</th>\n",
       "      <th>poutcome</th>\n",
       "    </tr>\n",
       "  </thead>\n",
       "  <tbody>\n",
       "    <tr>\n",
       "      <th>0</th>\n",
       "      <td>31</td>\n",
       "      <td>blue-collar</td>\n",
       "      <td>single</td>\n",
       "      <td>secondary</td>\n",
       "      <td>yes</td>\n",
       "      <td>477</td>\n",
       "      <td>no</td>\n",
       "      <td>no</td>\n",
       "      <td>cellular</td>\n",
       "      <td>20</td>\n",
       "      <td>nov</td>\n",
       "      <td>426</td>\n",
       "      <td>2</td>\n",
       "      <td>189</td>\n",
       "      <td>6</td>\n",
       "      <td>failure</td>\n",
       "    </tr>\n",
       "    <tr>\n",
       "      <th>1</th>\n",
       "      <td>49</td>\n",
       "      <td>blue-collar</td>\n",
       "      <td>married</td>\n",
       "      <td>primary</td>\n",
       "      <td>no</td>\n",
       "      <td>599</td>\n",
       "      <td>no</td>\n",
       "      <td>no</td>\n",
       "      <td>cellular</td>\n",
       "      <td>23</td>\n",
       "      <td>jul</td>\n",
       "      <td>464</td>\n",
       "      <td>1</td>\n",
       "      <td>-1</td>\n",
       "      <td>0</td>\n",
       "      <td>unknown</td>\n",
       "    </tr>\n",
       "    <tr>\n",
       "      <th>2</th>\n",
       "      <td>51</td>\n",
       "      <td>self-employed</td>\n",
       "      <td>single</td>\n",
       "      <td>tertiary</td>\n",
       "      <td>no</td>\n",
       "      <td>400</td>\n",
       "      <td>no</td>\n",
       "      <td>yes</td>\n",
       "      <td>cellular</td>\n",
       "      <td>27</td>\n",
       "      <td>may</td>\n",
       "      <td>200</td>\n",
       "      <td>1</td>\n",
       "      <td>-1</td>\n",
       "      <td>0</td>\n",
       "      <td>unknown</td>\n",
       "    </tr>\n",
       "    <tr>\n",
       "      <th>3</th>\n",
       "      <td>33</td>\n",
       "      <td>technician</td>\n",
       "      <td>married</td>\n",
       "      <td>secondary</td>\n",
       "      <td>no</td>\n",
       "      <td>488</td>\n",
       "      <td>yes</td>\n",
       "      <td>no</td>\n",
       "      <td>unknown</td>\n",
       "      <td>8</td>\n",
       "      <td>may</td>\n",
       "      <td>703</td>\n",
       "      <td>1</td>\n",
       "      <td>-1</td>\n",
       "      <td>0</td>\n",
       "      <td>unknown</td>\n",
       "    </tr>\n",
       "    <tr>\n",
       "      <th>4</th>\n",
       "      <td>34</td>\n",
       "      <td>admin.</td>\n",
       "      <td>married</td>\n",
       "      <td>secondary</td>\n",
       "      <td>no</td>\n",
       "      <td>40</td>\n",
       "      <td>yes</td>\n",
       "      <td>no</td>\n",
       "      <td>telephone</td>\n",
       "      <td>5</td>\n",
       "      <td>may</td>\n",
       "      <td>125</td>\n",
       "      <td>2</td>\n",
       "      <td>-1</td>\n",
       "      <td>0</td>\n",
       "      <td>unknown</td>\n",
       "    </tr>\n",
       "  </tbody>\n",
       "</table>\n",
       "</div>"
      ],
      "text/plain": [
       "   age            job  marital  education default  balance housing loan  \\\n",
       "0   31    blue-collar   single  secondary     yes      477      no   no   \n",
       "1   49    blue-collar  married    primary      no      599      no   no   \n",
       "2   51  self-employed   single   tertiary      no      400      no  yes   \n",
       "3   33     technician  married  secondary      no      488     yes   no   \n",
       "4   34         admin.  married  secondary      no       40     yes   no   \n",
       "\n",
       "     contact  day month  duration  campaign  pdays  previous poutcome  \n",
       "0   cellular   20   nov       426         2    189         6  failure  \n",
       "1   cellular   23   jul       464         1     -1         0  unknown  \n",
       "2   cellular   27   may       200         1     -1         0  unknown  \n",
       "3    unknown    8   may       703         1     -1         0  unknown  \n",
       "4  telephone    5   may       125         2     -1         0  unknown  "
      ]
     },
     "execution_count": 4,
     "metadata": {},
     "output_type": "execute_result"
    }
   ],
   "source": [
    "# Read in test data\n",
    "test_df = pd.read_csv('../input/ml-marathon-dataset-by-azure-developer-community/test_data.csv')\n",
    "test_df.head()"
   ]
  },
  {
   "cell_type": "markdown",
   "id": "37419483",
   "metadata": {
    "papermill": {
     "duration": 0.015574,
     "end_time": "2022-10-21T07:27:59.602749",
     "exception": false,
     "start_time": "2022-10-21T07:27:59.587175",
     "status": "completed"
    },
    "tags": []
   },
   "source": [
    "# Explore training & testing data"
   ]
  },
  {
   "cell_type": "code",
   "execution_count": 5,
   "id": "fcba1ef9",
   "metadata": {
    "execution": {
     "iopub.execute_input": "2022-10-21T07:27:59.636354Z",
     "iopub.status.busy": "2022-10-21T07:27:59.635972Z",
     "iopub.status.idle": "2022-10-21T07:27:59.664605Z",
     "shell.execute_reply": "2022-10-21T07:27:59.663173Z"
    },
    "papermill": {
     "duration": 0.048334,
     "end_time": "2022-10-21T07:27:59.667115",
     "exception": false,
     "start_time": "2022-10-21T07:27:59.618781",
     "status": "completed"
    },
    "tags": []
   },
   "outputs": [
    {
     "name": "stdout",
     "output_type": "stream",
     "text": [
      "<class 'pandas.core.frame.DataFrame'>\n",
      "RangeIndex: 8371 entries, 0 to 8370\n",
      "Data columns (total 17 columns):\n",
      " #   Column     Non-Null Count  Dtype \n",
      "---  ------     --------------  ----- \n",
      " 0   age        8371 non-null   int64 \n",
      " 1   job        8371 non-null   object\n",
      " 2   marital    8371 non-null   object\n",
      " 3   education  8371 non-null   object\n",
      " 4   default    8371 non-null   object\n",
      " 5   balance    8371 non-null   int64 \n",
      " 6   housing    8371 non-null   object\n",
      " 7   loan       8371 non-null   object\n",
      " 8   contact    8371 non-null   object\n",
      " 9   day        8371 non-null   int64 \n",
      " 10  month      8371 non-null   object\n",
      " 11  duration   8371 non-null   int64 \n",
      " 12  campaign   8371 non-null   int64 \n",
      " 13  pdays      8371 non-null   int64 \n",
      " 14  previous   8371 non-null   int64 \n",
      " 15  poutcome   8371 non-null   object\n",
      " 16  deposit    8371 non-null   object\n",
      "dtypes: int64(7), object(10)\n",
      "memory usage: 1.1+ MB\n"
     ]
    }
   ],
   "source": [
    "train_df.info()"
   ]
  },
  {
   "cell_type": "markdown",
   "id": "28db522e",
   "metadata": {
    "papermill": {
     "duration": 0.01589,
     "end_time": "2022-10-21T07:27:59.699189",
     "exception": false,
     "start_time": "2022-10-21T07:27:59.683299",
     "status": "completed"
    },
    "tags": []
   },
   "source": [
    "We have no missing information. According to the data dictionary missing values are labeled as `unknown`."
   ]
  },
  {
   "cell_type": "code",
   "execution_count": 6,
   "id": "71a2b93a",
   "metadata": {
    "execution": {
     "iopub.execute_input": "2022-10-21T07:27:59.733163Z",
     "iopub.status.busy": "2022-10-21T07:27:59.732515Z",
     "iopub.status.idle": "2022-10-21T07:27:59.745307Z",
     "shell.execute_reply": "2022-10-21T07:27:59.743998Z"
    },
    "papermill": {
     "duration": 0.032236,
     "end_time": "2022-10-21T07:27:59.747551",
     "exception": false,
     "start_time": "2022-10-21T07:27:59.715315",
     "status": "completed"
    },
    "tags": []
   },
   "outputs": [
    {
     "data": {
      "text/plain": [
       "count    8371.000000\n",
       "mean       41.197467\n",
       "std        11.809300\n",
       "min        18.000000\n",
       "25%        32.000000\n",
       "50%        39.000000\n",
       "75%        49.000000\n",
       "max        95.000000\n",
       "Name: age, dtype: float64"
      ]
     },
     "execution_count": 6,
     "metadata": {},
     "output_type": "execute_result"
    }
   ],
   "source": [
    "train_df['age'].describe()"
   ]
  },
  {
   "cell_type": "code",
   "execution_count": 7,
   "id": "57292188",
   "metadata": {
    "execution": {
     "iopub.execute_input": "2022-10-21T07:27:59.781548Z",
     "iopub.status.busy": "2022-10-21T07:27:59.781153Z",
     "iopub.status.idle": "2022-10-21T07:28:01.381701Z",
     "shell.execute_reply": "2022-10-21T07:28:01.380436Z"
    },
    "papermill": {
     "duration": 1.620974,
     "end_time": "2022-10-21T07:28:01.384600",
     "exception": false,
     "start_time": "2022-10-21T07:27:59.763626",
     "status": "completed"
    },
    "tags": []
   },
   "outputs": [
    {
     "data": {
      "text/plain": [
       "<AxesSubplot:xlabel='poutcome', ylabel='count'>"
      ]
     },
     "execution_count": 7,
     "metadata": {},
     "output_type": "execute_result"
    },
    {
     "data": {
      "image/png": "[encoded data removed]",
      "text/plain": [
       "<Figure size 1080x2160 with 7 Axes>"
      ]
     },
     "metadata": {
      "needs_background": "light"
     },
     "output_type": "display_data"
    }
   ],
   "source": [
    "#Yes and No vs (Job, Month, Marital status, Education, poutcome, Housing, Contact, default)\n",
    "\n",
    "plt.figure(figsize = (15, 30))\n",
    "sx = plt.subplot(5,2,1)\n",
    "sns.countplot(x=\"job\",hue=\"deposit\", data=train_df, palette=\"Set2\")\n",
    "sx.set_xticklabels(sx.get_xticklabels(),rotation=45)\n",
    "sx = plt.subplot(5,2,2)\n",
    "\n",
    "bde_copy = train_df.copy()\n",
    "bde_copy.month = bde_copy.month.astype(\"category\")\n",
    "bde_copy.month.cat.set_categories(['jan','feb','mar','apr','may','jun','jul','aug','sep','oct','nov','dec'], inplace=True)\n",
    "\n",
    "sns.countplot(x=\"month\",hue=\"deposit\", data=train_df.sort_values(['month']), palette=\"Set2\")\n",
    "sx = plt.subplot(5,2,3)\n",
    "sns.countplot(x=\"marital\",hue=\"deposit\", data=train_df, palette=\"Set2\")\n",
    "sx = plt.subplot(5,2,4)\n",
    "sns.countplot(x=\"education\",hue=\"deposit\", data=train_df, palette=\"Set2\")\n",
    "sx.set_xticklabels(sx.get_xticklabels(),rotation=45)\n",
    "sx = plt.subplot(5,2,5)\n",
    "sns.countplot(x=\"housing\",hue=\"deposit\", data=train_df, palette=\"Set2\")\n",
    "sx = plt.subplot(5,2,6)\n",
    "sns.countplot(x=\"loan\",hue=\"deposit\", data=train_df, palette=\"Set2\")\n",
    "sx = plt.subplot(5,2,7)\n",
    "sns.countplot(x=\"poutcome\",hue=\"deposit\", data=train_df, palette=\"Set2\")"
   ]
  },
  {
   "cell_type": "code",
   "execution_count": 8,
   "id": "575f890b",
   "metadata": {
    "execution": {
     "iopub.execute_input": "2022-10-21T07:28:01.421402Z",
     "iopub.status.busy": "2022-10-21T07:28:01.420793Z",
     "iopub.status.idle": "2022-10-21T07:28:01.680177Z",
     "shell.execute_reply": "2022-10-21T07:28:01.679083Z"
    },
    "papermill": {
     "duration": 0.280679,
     "end_time": "2022-10-21T07:28:01.682681",
     "exception": false,
     "start_time": "2022-10-21T07:28:01.402002",
     "status": "completed"
    },
    "tags": []
   },
   "outputs": [
    {
     "data": {
      "image/png": "[encoded data removed]",
      "text/plain": [
       "<Figure size 432x288 with 1 Axes>"
      ]
     },
     "metadata": {
      "needs_background": "light"
     },
     "output_type": "display_data"
    }
   ],
   "source": [
    "train_df['age'].plot.hist(bins=30, density=True)\n",
    "plt.show()"
   ]
  },
  {
   "cell_type": "code",
   "execution_count": 9,
   "id": "7f8b021e",
   "metadata": {
    "execution": {
     "iopub.execute_input": "2022-10-21T07:28:01.720069Z",
     "iopub.status.busy": "2022-10-21T07:28:01.719007Z",
     "iopub.status.idle": "2022-10-21T07:28:01.728214Z",
     "shell.execute_reply": "2022-10-21T07:28:01.727345Z"
    },
    "papermill": {
     "duration": 0.029914,
     "end_time": "2022-10-21T07:28:01.730263",
     "exception": false,
     "start_time": "2022-10-21T07:28:01.700349",
     "status": "completed"
    },
    "tags": []
   },
   "outputs": [
    {
     "data": {
      "text/plain": [
       "management       0.229722\n",
       "blue-collar      0.175845\n",
       "technician       0.163780\n",
       "admin.           0.121491\n",
       "services         0.080158\n",
       "retired          0.067256\n",
       "self-employed    0.036674\n",
       "unemployed       0.033688\n",
       "student          0.032613\n",
       "entrepreneur     0.029148\n",
       "housemaid        0.023534\n",
       "unknown          0.006092\n",
       "Name: job, dtype: float64"
      ]
     },
     "execution_count": 9,
     "metadata": {},
     "output_type": "execute_result"
    }
   ],
   "source": [
    "train_df['job'].value_counts(normalize=True)"
   ]
  },
  {
   "cell_type": "code",
   "execution_count": 10,
   "id": "644dbeff",
   "metadata": {
    "execution": {
     "iopub.execute_input": "2022-10-21T07:28:01.767765Z",
     "iopub.status.busy": "2022-10-21T07:28:01.767306Z",
     "iopub.status.idle": "2022-10-21T07:28:01.777092Z",
     "shell.execute_reply": "2022-10-21T07:28:01.776150Z"
    },
    "papermill": {
     "duration": 0.031153,
     "end_time": "2022-10-21T07:28:01.779103",
     "exception": false,
     "start_time": "2022-10-21T07:28:01.747950",
     "status": "completed"
    },
    "tags": []
   },
   "outputs": [
    {
     "data": {
      "text/plain": [
       "married     0.566718\n",
       "single      0.315972\n",
       "divorced    0.117310\n",
       "Name: marital, dtype: float64"
      ]
     },
     "execution_count": 10,
     "metadata": {},
     "output_type": "execute_result"
    }
   ],
   "source": [
    "train_df['marital'].value_counts(normalize=True)"
   ]
  },
  {
   "cell_type": "code",
   "execution_count": 11,
   "id": "c808e1bd",
   "metadata": {
    "execution": {
     "iopub.execute_input": "2022-10-21T07:28:01.816502Z",
     "iopub.status.busy": "2022-10-21T07:28:01.815761Z",
     "iopub.status.idle": "2022-10-21T07:28:01.824203Z",
     "shell.execute_reply": "2022-10-21T07:28:01.823213Z"
    },
    "papermill": {
     "duration": 0.029308,
     "end_time": "2022-10-21T07:28:01.826175",
     "exception": false,
     "start_time": "2022-10-21T07:28:01.796867",
     "status": "completed"
    },
    "tags": []
   },
   "outputs": [
    {
     "data": {
      "text/plain": [
       "secondary    0.491339\n",
       "tertiary     0.328993\n",
       "primary      0.134751\n",
       "unknown      0.044917\n",
       "Name: education, dtype: float64"
      ]
     },
     "execution_count": 11,
     "metadata": {},
     "output_type": "execute_result"
    }
   ],
   "source": [
    "train_df['education'].value_counts(normalize=True)"
   ]
  },
  {
   "cell_type": "code",
   "execution_count": 12,
   "id": "c1a2aa34",
   "metadata": {
    "execution": {
     "iopub.execute_input": "2022-10-21T07:28:01.863966Z",
     "iopub.status.busy": "2022-10-21T07:28:01.863334Z",
     "iopub.status.idle": "2022-10-21T07:28:01.872979Z",
     "shell.execute_reply": "2022-10-21T07:28:01.871676Z"
    },
    "papermill": {
     "duration": 0.031344,
     "end_time": "2022-10-21T07:28:01.875345",
     "exception": false,
     "start_time": "2022-10-21T07:28:01.844001",
     "status": "completed"
    },
    "tags": []
   },
   "outputs": [
    {
     "data": {
      "text/plain": [
       "no     0.984829\n",
       "yes    0.015171\n",
       "Name: default, dtype: float64"
      ]
     },
     "execution_count": 12,
     "metadata": {},
     "output_type": "execute_result"
    }
   ],
   "source": [
    "train_df['default'].value_counts(normalize=True)"
   ]
  },
  {
   "cell_type": "code",
   "execution_count": 13,
   "id": "d33653ad",
   "metadata": {
    "execution": {
     "iopub.execute_input": "2022-10-21T07:28:01.914350Z",
     "iopub.status.busy": "2022-10-21T07:28:01.913359Z",
     "iopub.status.idle": "2022-10-21T07:28:01.924767Z",
     "shell.execute_reply": "2022-10-21T07:28:01.923814Z"
    },
    "papermill": {
     "duration": 0.033432,
     "end_time": "2022-10-21T07:28:01.926898",
     "exception": false,
     "start_time": "2022-10-21T07:28:01.893466",
     "status": "completed"
    },
    "tags": []
   },
   "outputs": [
    {
     "data": {
      "text/plain": [
       "count     8371.000000\n",
       "mean      1517.811134\n",
       "std       3225.312218\n",
       "min      -3058.000000\n",
       "25%        116.000000\n",
       "50%        532.000000\n",
       "75%       1694.000000\n",
       "max      81204.000000\n",
       "Name: balance, dtype: float64"
      ]
     },
     "execution_count": 13,
     "metadata": {},
     "output_type": "execute_result"
    }
   ],
   "source": [
    "train_df['balance'].describe()"
   ]
  },
  {
   "cell_type": "code",
   "execution_count": 14,
   "id": "cad9b638",
   "metadata": {
    "execution": {
     "iopub.execute_input": "2022-10-21T07:28:01.965227Z",
     "iopub.status.busy": "2022-10-21T07:28:01.964495Z",
     "iopub.status.idle": "2022-10-21T07:28:02.226783Z",
     "shell.execute_reply": "2022-10-21T07:28:02.225645Z"
    },
    "papermill": {
     "duration": 0.284528,
     "end_time": "2022-10-21T07:28:02.229542",
     "exception": false,
     "start_time": "2022-10-21T07:28:01.945014",
     "status": "completed"
    },
    "tags": []
   },
   "outputs": [
    {
     "data": {
      "image/png": "[encoded data removed]",
      "text/plain": [
       "<Figure size 432x288 with 1 Axes>"
      ]
     },
     "metadata": {
      "needs_background": "light"
     },
     "output_type": "display_data"
    }
   ],
   "source": [
    "train_df['balance'].plot.hist(bins=50, density=True)\n",
    "plt.show()"
   ]
  },
  {
   "cell_type": "code",
   "execution_count": 15,
   "id": "16e1430a",
   "metadata": {
    "execution": {
     "iopub.execute_input": "2022-10-21T07:28:02.268036Z",
     "iopub.status.busy": "2022-10-21T07:28:02.267630Z",
     "iopub.status.idle": "2022-10-21T07:28:02.435043Z",
     "shell.execute_reply": "2022-10-21T07:28:02.434265Z"
    },
    "papermill": {
     "duration": 0.189112,
     "end_time": "2022-10-21T07:28:02.437203",
     "exception": false,
     "start_time": "2022-10-21T07:28:02.248091",
     "status": "completed"
    },
    "tags": []
   },
   "outputs": [
    {
     "data": {
      "image/png": "[encoded data removed]",
      "text/plain": [
       "<Figure size 432x288 with 1 Axes>"
      ]
     },
     "metadata": {
      "needs_background": "light"
     },
     "output_type": "display_data"
    }
   ],
   "source": [
    "train_df['balance'].plot.box()\n",
    "plt.show()"
   ]
  },
  {
   "cell_type": "markdown",
   "id": "7c0fec6b",
   "metadata": {
    "papermill": {
     "duration": 0.017935,
     "end_time": "2022-10-21T07:28:02.473747",
     "exception": false,
     "start_time": "2022-10-21T07:28:02.455812",
     "status": "completed"
    },
    "tags": []
   },
   "source": [
    "We do have outliers in the balance column. There are a few ways to deal with the outliers:\n",
    "- We set a maximum value, say at 90 percentile. Additionally, create a new column that indicates the balance value is greater than the threshold.\n",
    "- We let the values be and hope the model is robust to the outliers."
   ]
  },
  {
   "cell_type": "code",
   "execution_count": 16,
   "id": "bff30346",
   "metadata": {
    "execution": {
     "iopub.execute_input": "2022-10-21T07:28:02.512986Z",
     "iopub.status.busy": "2022-10-21T07:28:02.512116Z",
     "iopub.status.idle": "2022-10-21T07:28:02.520979Z",
     "shell.execute_reply": "2022-10-21T07:28:02.520008Z"
    },
    "papermill": {
     "duration": 0.030891,
     "end_time": "2022-10-21T07:28:02.522961",
     "exception": false,
     "start_time": "2022-10-21T07:28:02.492070",
     "status": "completed"
    },
    "tags": []
   },
   "outputs": [
    {
     "data": {
      "text/plain": [
       "no     0.520129\n",
       "yes    0.479871\n",
       "Name: housing, dtype: float64"
      ]
     },
     "execution_count": 16,
     "metadata": {},
     "output_type": "execute_result"
    }
   ],
   "source": [
    "train_df['housing'].value_counts(normalize=True)"
   ]
  },
  {
   "cell_type": "code",
   "execution_count": 17,
   "id": "52f7957d",
   "metadata": {
    "execution": {
     "iopub.execute_input": "2022-10-21T07:28:02.561961Z",
     "iopub.status.busy": "2022-10-21T07:28:02.561243Z",
     "iopub.status.idle": "2022-10-21T07:28:02.569861Z",
     "shell.execute_reply": "2022-10-21T07:28:02.568818Z"
    },
    "papermill": {
     "duration": 0.030629,
     "end_time": "2022-10-21T07:28:02.572059",
     "exception": false,
     "start_time": "2022-10-21T07:28:02.541430",
     "status": "completed"
    },
    "tags": []
   },
   "outputs": [
    {
     "data": {
      "text/plain": [
       "no     0.866085\n",
       "yes    0.133915\n",
       "Name: loan, dtype: float64"
      ]
     },
     "execution_count": 17,
     "metadata": {},
     "output_type": "execute_result"
    }
   ],
   "source": [
    "train_df['loan'].value_counts(normalize=True)"
   ]
  },
  {
   "cell_type": "code",
   "execution_count": 18,
   "id": "e4267ea6",
   "metadata": {
    "execution": {
     "iopub.execute_input": "2022-10-21T07:28:02.611108Z",
     "iopub.status.busy": "2022-10-21T07:28:02.610701Z",
     "iopub.status.idle": "2022-10-21T07:28:02.619957Z",
     "shell.execute_reply": "2022-10-21T07:28:02.619170Z"
    },
    "papermill": {
     "duration": 0.030933,
     "end_time": "2022-10-21T07:28:02.621777",
     "exception": false,
     "start_time": "2022-10-21T07:28:02.590844",
     "status": "completed"
    },
    "tags": []
   },
   "outputs": [
    {
     "data": {
      "text/plain": [
       "cellular     0.721658\n",
       "unknown      0.210608\n",
       "telephone    0.067734\n",
       "Name: contact, dtype: float64"
      ]
     },
     "execution_count": 18,
     "metadata": {},
     "output_type": "execute_result"
    }
   ],
   "source": [
    "train_df['contact'].value_counts(normalize=True)"
   ]
  },
  {
   "cell_type": "code",
   "execution_count": 19,
   "id": "8af2508d",
   "metadata": {
    "execution": {
     "iopub.execute_input": "2022-10-21T07:28:02.661688Z",
     "iopub.status.busy": "2022-10-21T07:28:02.660551Z",
     "iopub.status.idle": "2022-10-21T07:28:02.669652Z",
     "shell.execute_reply": "2022-10-21T07:28:02.668691Z"
    },
    "papermill": {
     "duration": 0.031133,
     "end_time": "2022-10-21T07:28:02.671676",
     "exception": false,
     "start_time": "2022-10-21T07:28:02.640543",
     "status": "completed"
    },
    "tags": []
   },
   "outputs": [
    {
     "data": {
      "text/plain": [
       "20    0.051965\n",
       "18    0.050412\n",
       "5     0.043245\n",
       "15    0.043125\n",
       "30    0.041811\n",
       "12    0.041333\n",
       "13    0.040975\n",
       "6     0.040139\n",
       "14    0.039900\n",
       "21    0.039661\n",
       "8     0.038347\n",
       "28    0.037869\n",
       "4     0.036077\n",
       "17    0.035241\n",
       "11    0.034285\n",
       "7     0.034285\n",
       "16    0.033807\n",
       "19    0.033449\n",
       "29    0.032732\n",
       "9     0.031896\n",
       "2     0.030821\n",
       "3     0.027356\n",
       "27    0.024848\n",
       "22    0.022458\n",
       "23    0.022100\n",
       "26    0.021861\n",
       "25    0.020189\n",
       "10    0.014694\n",
       "31    0.012902\n",
       "24    0.011468\n",
       "1     0.010751\n",
       "Name: day, dtype: float64"
      ]
     },
     "execution_count": 19,
     "metadata": {},
     "output_type": "execute_result"
    }
   ],
   "source": [
    "train_df['day'].value_counts(normalize=True)"
   ]
  },
  {
   "cell_type": "code",
   "execution_count": 20,
   "id": "a75b055a",
   "metadata": {
    "execution": {
     "iopub.execute_input": "2022-10-21T07:28:02.711080Z",
     "iopub.status.busy": "2022-10-21T07:28:02.710664Z",
     "iopub.status.idle": "2022-10-21T07:28:02.722514Z",
     "shell.execute_reply": "2022-10-21T07:28:02.721389Z"
    },
    "papermill": {
     "duration": 0.034187,
     "end_time": "2022-10-21T07:28:02.724719",
     "exception": false,
     "start_time": "2022-10-21T07:28:02.690532",
     "status": "completed"
    },
    "tags": []
   },
   "outputs": [
    {
     "data": {
      "text/plain": [
       "count    31.000000\n",
       "mean      0.032258\n",
       "std       0.010951\n",
       "min       0.010751\n",
       "25%       0.023653\n",
       "50%       0.034285\n",
       "75%       0.040019\n",
       "max       0.051965\n",
       "Name: day, dtype: float64"
      ]
     },
     "execution_count": 20,
     "metadata": {},
     "output_type": "execute_result"
    }
   ],
   "source": [
    "train_df['day'].value_counts(normalize=True).describe()"
   ]
  },
  {
   "cell_type": "code",
   "execution_count": 21,
   "id": "78232df1",
   "metadata": {
    "execution": {
     "iopub.execute_input": "2022-10-21T07:28:02.765449Z",
     "iopub.status.busy": "2022-10-21T07:28:02.764572Z",
     "iopub.status.idle": "2022-10-21T07:28:02.773949Z",
     "shell.execute_reply": "2022-10-21T07:28:02.773013Z"
    },
    "papermill": {
     "duration": 0.032185,
     "end_time": "2022-10-21T07:28:02.775969",
     "exception": false,
     "start_time": "2022-10-21T07:28:02.743784",
     "status": "completed"
    },
    "tags": []
   },
   "outputs": [
    {
     "data": {
      "text/plain": [
       "may    0.255047\n",
       "jul    0.137618\n",
       "aug    0.137379\n",
       "jun    0.108948\n",
       "nov    0.083383\n",
       "apr    0.078963\n",
       "feb    0.071079\n",
       "oct    0.033449\n",
       "jan    0.030701\n",
       "sep    0.028790\n",
       "mar    0.023773\n",
       "dec    0.010871\n",
       "Name: month, dtype: float64"
      ]
     },
     "execution_count": 21,
     "metadata": {},
     "output_type": "execute_result"
    }
   ],
   "source": [
    "train_df['month'].value_counts(normalize=True)"
   ]
  },
  {
   "cell_type": "markdown",
   "id": "63ce5729",
   "metadata": {
    "papermill": {
     "duration": 0.018617,
     "end_time": "2022-10-21T07:28:02.813798",
     "exception": false,
     "start_time": "2022-10-21T07:28:02.795181",
     "status": "completed"
    },
    "tags": []
   },
   "source": [
    "Customers are rarely contacted in the month of `December`. This makes sense, it is the holiday season and customers would not like to be bothered during this time of the year. But given December is a festive month, are customers more likely to say yes during this time?"
   ]
  },
  {
   "cell_type": "code",
   "execution_count": 22,
   "id": "65c6bff6",
   "metadata": {
    "execution": {
     "iopub.execute_input": "2022-10-21T07:28:02.854290Z",
     "iopub.status.busy": "2022-10-21T07:28:02.853116Z",
     "iopub.status.idle": "2022-10-21T07:28:02.864056Z",
     "shell.execute_reply": "2022-10-21T07:28:02.863160Z"
    },
    "papermill": {
     "duration": 0.033403,
     "end_time": "2022-10-21T07:28:02.866250",
     "exception": false,
     "start_time": "2022-10-21T07:28:02.832847",
     "status": "completed"
    },
    "tags": []
   },
   "outputs": [
    {
     "data": {
      "text/plain": [
       "count    8371.000000\n",
       "mean      372.898698\n",
       "std       346.706743\n",
       "min         2.000000\n",
       "25%       137.000000\n",
       "50%       255.000000\n",
       "75%       504.000000\n",
       "max      3284.000000\n",
       "Name: duration, dtype: float64"
      ]
     },
     "execution_count": 22,
     "metadata": {},
     "output_type": "execute_result"
    }
   ],
   "source": [
    "train_df['duration'].describe()"
   ]
  },
  {
   "cell_type": "code",
   "execution_count": 23,
   "id": "4e3b3bbc",
   "metadata": {
    "execution": {
     "iopub.execute_input": "2022-10-21T07:28:02.907151Z",
     "iopub.status.busy": "2022-10-21T07:28:02.906122Z",
     "iopub.status.idle": "2022-10-21T07:28:03.180950Z",
     "shell.execute_reply": "2022-10-21T07:28:03.179913Z"
    },
    "papermill": {
     "duration": 0.297842,
     "end_time": "2022-10-21T07:28:03.183306",
     "exception": false,
     "start_time": "2022-10-21T07:28:02.885464",
     "status": "completed"
    },
    "tags": []
   },
   "outputs": [
    {
     "data": {
      "image/png": "[encoded data removed]",
      "text/plain": [
       "<Figure size 432x288 with 1 Axes>"
      ]
     },
     "metadata": {
      "needs_background": "light"
     },
     "output_type": "display_data"
    }
   ],
   "source": [
    "train_df['duration'].plot.hist(bins=50, density=True)\n",
    "plt.show()"
   ]
  },
  {
   "cell_type": "code",
   "execution_count": 24,
   "id": "8740ea4e",
   "metadata": {
    "execution": {
     "iopub.execute_input": "2022-10-21T07:28:03.225158Z",
     "iopub.status.busy": "2022-10-21T07:28:03.224366Z",
     "iopub.status.idle": "2022-10-21T07:28:03.542289Z",
     "shell.execute_reply": "2022-10-21T07:28:03.541237Z"
    },
    "papermill": {
     "duration": 0.342162,
     "end_time": "2022-10-21T07:28:03.545346",
     "exception": false,
     "start_time": "2022-10-21T07:28:03.203184",
     "status": "completed"
    },
    "tags": []
   },
   "outputs": [
    {
     "data": {
      "image/png": "[encoded data removed]",
      "text/plain": [
       "<Figure size 432x288 with 1 Axes>"
      ]
     },
     "metadata": {
      "needs_background": "light"
     },
     "output_type": "display_data"
    }
   ],
   "source": [
    "train_df['duration'].plot.box()\n",
    "plt.show()"
   ]
  },
  {
   "cell_type": "markdown",
   "id": "5ca51bc7",
   "metadata": {
    "papermill": {
     "duration": 0.019017,
     "end_time": "2022-10-21T07:28:03.583998",
     "exception": false,
     "start_time": "2022-10-21T07:28:03.564981",
     "status": "completed"
    },
    "tags": []
   },
   "source": [
    "The distribution of duration is similar to that of balance. We can clip the outliers and create an additional column to record this information."
   ]
  },
  {
   "cell_type": "code",
   "execution_count": 25,
   "id": "aaa02931",
   "metadata": {
    "execution": {
     "iopub.execute_input": "2022-10-21T07:28:03.625935Z",
     "iopub.status.busy": "2022-10-21T07:28:03.625535Z",
     "iopub.status.idle": "2022-10-21T07:28:03.637720Z",
     "shell.execute_reply": "2022-10-21T07:28:03.636567Z"
    },
    "papermill": {
     "duration": 0.036541,
     "end_time": "2022-10-21T07:28:03.640034",
     "exception": false,
     "start_time": "2022-10-21T07:28:03.603493",
     "status": "completed"
    },
    "tags": []
   },
   "outputs": [
    {
     "data": {
      "text/html": [
       "<div>\n",
       "<style scoped>\n",
       "    .dataframe tbody tr th:only-of-type {\n",
       "        vertical-align: middle;\n",
       "    }\n",
       "\n",
       "    .dataframe tbody tr th {\n",
       "        vertical-align: top;\n",
       "    }\n",
       "\n",
       "    .dataframe thead th {\n",
       "        text-align: right;\n",
       "    }\n",
       "</style>\n",
       "<table border=\"1\" class=\"dataframe\">\n",
       "  <thead>\n",
       "    <tr style=\"text-align: right;\">\n",
       "      <th></th>\n",
       "      <th>age</th>\n",
       "      <th>job</th>\n",
       "      <th>marital</th>\n",
       "      <th>education</th>\n",
       "      <th>default</th>\n",
       "      <th>balance</th>\n",
       "      <th>housing</th>\n",
       "      <th>loan</th>\n",
       "      <th>contact</th>\n",
       "      <th>day</th>\n",
       "      <th>month</th>\n",
       "      <th>duration</th>\n",
       "      <th>campaign</th>\n",
       "      <th>pdays</th>\n",
       "      <th>previous</th>\n",
       "      <th>poutcome</th>\n",
       "      <th>deposit</th>\n",
       "    </tr>\n",
       "  </thead>\n",
       "  <tbody>\n",
       "  </tbody>\n",
       "</table>\n",
       "</div>"
      ],
      "text/plain": [
       "Empty DataFrame\n",
       "Columns: [age, job, marital, education, default, balance, housing, loan, contact, day, month, duration, campaign, pdays, previous, poutcome, deposit]\n",
       "Index: []"
      ]
     },
     "execution_count": 25,
     "metadata": {},
     "output_type": "execute_result"
    }
   ],
   "source": [
    "# Investigate duration values that are 0\n",
    "train_df[train_df['duration'] == 0]"
   ]
  },
  {
   "cell_type": "markdown",
   "id": "6e702050",
   "metadata": {
    "papermill": {
     "duration": 0.019631,
     "end_time": "2022-10-21T07:28:03.679604",
     "exception": false,
     "start_time": "2022-10-21T07:28:03.659973",
     "status": "completed"
    },
    "tags": []
   },
   "source": [
    "If the customer was contacted but never answered his/her phone the `duration` value can be `0`"
   ]
  },
  {
   "cell_type": "code",
   "execution_count": 26,
   "id": "18ae5414",
   "metadata": {
    "execution": {
     "iopub.execute_input": "2022-10-21T07:28:03.721526Z",
     "iopub.status.busy": "2022-10-21T07:28:03.721079Z",
     "iopub.status.idle": "2022-10-21T07:28:03.731319Z",
     "shell.execute_reply": "2022-10-21T07:28:03.730420Z"
    },
    "papermill": {
     "duration": 0.033904,
     "end_time": "2022-10-21T07:28:03.733312",
     "exception": false,
     "start_time": "2022-10-21T07:28:03.699408",
     "status": "completed"
    },
    "tags": []
   },
   "outputs": [
    {
     "data": {
      "text/plain": [
       "count    8371.000000\n",
       "mean        2.512603\n",
       "std         2.734037\n",
       "min         1.000000\n",
       "25%         1.000000\n",
       "50%         2.000000\n",
       "75%         3.000000\n",
       "max        63.000000\n",
       "Name: campaign, dtype: float64"
      ]
     },
     "execution_count": 26,
     "metadata": {},
     "output_type": "execute_result"
    }
   ],
   "source": [
    "train_df['campaign'].describe()"
   ]
  },
  {
   "cell_type": "code",
   "execution_count": 27,
   "id": "a973c408",
   "metadata": {
    "execution": {
     "iopub.execute_input": "2022-10-21T07:28:03.775237Z",
     "iopub.status.busy": "2022-10-21T07:28:03.774510Z",
     "iopub.status.idle": "2022-10-21T07:28:04.023041Z",
     "shell.execute_reply": "2022-10-21T07:28:04.021916Z"
    },
    "papermill": {
     "duration": 0.272297,
     "end_time": "2022-10-21T07:28:04.025471",
     "exception": false,
     "start_time": "2022-10-21T07:28:03.753174",
     "status": "completed"
    },
    "tags": []
   },
   "outputs": [
    {
     "data": {
      "image/png": "[encoded data removed]",
      "text/plain": [
       "<Figure size 432x288 with 1 Axes>"
      ]
     },
     "metadata": {
      "needs_background": "light"
     },
     "output_type": "display_data"
    }
   ],
   "source": [
    "train_df['campaign'].plot.hist(bins=30, density=True)\n",
    "plt.show()"
   ]
  },
  {
   "cell_type": "code",
   "execution_count": 28,
   "id": "fc95157d",
   "metadata": {
    "execution": {
     "iopub.execute_input": "2022-10-21T07:28:04.067781Z",
     "iopub.status.busy": "2022-10-21T07:28:04.067318Z",
     "iopub.status.idle": "2022-10-21T07:28:04.079106Z",
     "shell.execute_reply": "2022-10-21T07:28:04.077919Z"
    },
    "papermill": {
     "duration": 0.03558,
     "end_time": "2022-10-21T07:28:04.081348",
     "exception": false,
     "start_time": "2022-10-21T07:28:04.045768",
     "status": "completed"
    },
    "tags": []
   },
   "outputs": [
    {
     "data": {
      "text/plain": [
       "count    8371.000000\n",
       "mean       49.911958\n",
       "std       107.308417\n",
       "min        -1.000000\n",
       "25%        -1.000000\n",
       "50%        -1.000000\n",
       "75%         2.000000\n",
       "max       854.000000\n",
       "Name: pdays, dtype: float64"
      ]
     },
     "execution_count": 28,
     "metadata": {},
     "output_type": "execute_result"
    }
   ],
   "source": [
    "train_df['pdays'].describe()"
   ]
  },
  {
   "cell_type": "code",
   "execution_count": 29,
   "id": "421858ea",
   "metadata": {
    "execution": {
     "iopub.execute_input": "2022-10-21T07:28:04.124296Z",
     "iopub.status.busy": "2022-10-21T07:28:04.123480Z",
     "iopub.status.idle": "2022-10-21T07:28:04.132562Z",
     "shell.execute_reply": "2022-10-21T07:28:04.131093Z"
    },
    "papermill": {
     "duration": 0.033278,
     "end_time": "2022-10-21T07:28:04.134944",
     "exception": false,
     "start_time": "2022-10-21T07:28:04.101666",
     "status": "completed"
    },
    "tags": []
   },
   "outputs": [
    {
     "name": "stdout",
     "output_type": "stream",
     "text": [
      "6268\n",
      "74.87755345836817\n"
     ]
    }
   ],
   "source": [
    "# Investigate first time contact\n",
    "print(train_df.loc[train_df['pdays'] == -1, 'pdays'].count())\n",
    "print(train_df.loc[train_df['pdays'] == -1, 'pdays'].count()/train_df.shape[0]*100)"
   ]
  },
  {
   "cell_type": "markdown",
   "id": "5a7a3544",
   "metadata": {
    "papermill": {
     "duration": 0.019934,
     "end_time": "2022-10-21T07:28:04.175445",
     "exception": false,
     "start_time": "2022-10-21T07:28:04.155511",
     "status": "completed"
    },
    "tags": []
   },
   "source": [
    "81% of customers were contacted for the first time."
   ]
  },
  {
   "cell_type": "code",
   "execution_count": 30,
   "id": "fb0bd025",
   "metadata": {
    "execution": {
     "iopub.execute_input": "2022-10-21T07:28:04.218441Z",
     "iopub.status.busy": "2022-10-21T07:28:04.217319Z",
     "iopub.status.idle": "2022-10-21T07:28:04.227802Z",
     "shell.execute_reply": "2022-10-21T07:28:04.226979Z"
    },
    "papermill": {
     "duration": 0.034225,
     "end_time": "2022-10-21T07:28:04.229868",
     "exception": false,
     "start_time": "2022-10-21T07:28:04.195643",
     "status": "completed"
    },
    "tags": []
   },
   "outputs": [
    {
     "data": {
      "text/plain": [
       "count    2103.000000\n",
       "mean      201.655254\n",
       "std       122.825116\n",
       "min         1.000000\n",
       "25%        97.000000\n",
       "50%       182.000000\n",
       "75%       277.000000\n",
       "max       854.000000\n",
       "Name: pdays, dtype: float64"
      ]
     },
     "execution_count": 30,
     "metadata": {},
     "output_type": "execute_result"
    }
   ],
   "source": [
    "# Investigate repeat contacts\n",
    "train_df.loc[train_df['pdays'] != -1, 'pdays'].describe()"
   ]
  },
  {
   "cell_type": "code",
   "execution_count": 31,
   "id": "822463b7",
   "metadata": {
    "execution": {
     "iopub.execute_input": "2022-10-21T07:28:04.273459Z",
     "iopub.status.busy": "2022-10-21T07:28:04.272289Z",
     "iopub.status.idle": "2022-10-21T07:28:04.491326Z",
     "shell.execute_reply": "2022-10-21T07:28:04.490545Z"
    },
    "papermill": {
     "duration": 0.242934,
     "end_time": "2022-10-21T07:28:04.493407",
     "exception": false,
     "start_time": "2022-10-21T07:28:04.250473",
     "status": "completed"
    },
    "tags": []
   },
   "outputs": [
    {
     "data": {
      "image/png": "[encoded data removed]",
      "text/plain": [
       "<Figure size 432x288 with 1 Axes>"
      ]
     },
     "metadata": {
      "needs_background": "light"
     },
     "output_type": "display_data"
    }
   ],
   "source": [
    "train_df.loc[train_df['pdays'] != -1, 'pdays'].plot.hist(bins=20, density=True)\n",
    "plt.show()"
   ]
  },
  {
   "cell_type": "code",
   "execution_count": 32,
   "id": "6f847fc5",
   "metadata": {
    "execution": {
     "iopub.execute_input": "2022-10-21T07:28:04.537902Z",
     "iopub.status.busy": "2022-10-21T07:28:04.536784Z",
     "iopub.status.idle": "2022-10-21T07:28:04.544900Z",
     "shell.execute_reply": "2022-10-21T07:28:04.543949Z"
    },
    "papermill": {
     "duration": 0.032771,
     "end_time": "2022-10-21T07:28:04.547130",
     "exception": false,
     "start_time": "2022-10-21T07:28:04.514359",
     "status": "completed"
    },
    "tags": []
   },
   "outputs": [
    {
     "data": {
      "text/plain": [
       "0     6268\n",
       "1      648\n",
       "2      521\n",
       "3      333\n",
       "4      183\n",
       "5      122\n",
       "6       79\n",
       "7       50\n",
       "8       48\n",
       "9       25\n",
       "11      20\n",
       "10      19\n",
       "12      12\n",
       "17       8\n",
       "13       8\n",
       "14       5\n",
       "19       3\n",
       "15       3\n",
       "16       2\n",
       "23       2\n",
       "20       2\n",
       "27       2\n",
       "40       1\n",
       "58       1\n",
       "26       1\n",
       "21       1\n",
       "22       1\n",
       "30       1\n",
       "41       1\n",
       "55       1\n",
       "Name: previous, dtype: int64"
      ]
     },
     "execution_count": 32,
     "metadata": {},
     "output_type": "execute_result"
    }
   ],
   "source": [
    "train_df['previous'].value_counts()"
   ]
  },
  {
   "cell_type": "markdown",
   "id": "192c881f",
   "metadata": {
    "papermill": {
     "duration": 0.02065,
     "end_time": "2022-10-21T07:28:04.588713",
     "exception": false,
     "start_time": "2022-10-21T07:28:04.568063",
     "status": "completed"
    },
    "tags": []
   },
   "source": [
    "- Majority of the values are 0. This matches with what we found with `pdays`. \n",
    "- One customer was contacted 275 times. This looks like a data error. We will replace this value with the mean of non-zero values."
   ]
  },
  {
   "cell_type": "code",
   "execution_count": 33,
   "id": "3228fbf0",
   "metadata": {
    "execution": {
     "iopub.execute_input": "2022-10-21T07:28:04.632240Z",
     "iopub.status.busy": "2022-10-21T07:28:04.631818Z",
     "iopub.status.idle": "2022-10-21T07:28:04.645160Z",
     "shell.execute_reply": "2022-10-21T07:28:04.644106Z"
    },
    "papermill": {
     "duration": 0.037871,
     "end_time": "2022-10-21T07:28:04.647495",
     "exception": false,
     "start_time": "2022-10-21T07:28:04.609624",
     "status": "completed"
    },
    "tags": []
   },
   "outputs": [
    {
     "data": {
      "text/plain": [
       "count    8371.000000\n",
       "mean        0.823677\n",
       "std         2.315285\n",
       "min         0.000000\n",
       "25%         0.000000\n",
       "50%         0.000000\n",
       "75%         1.000000\n",
       "max        58.000000\n",
       "Name: previous, dtype: float64"
      ]
     },
     "execution_count": 33,
     "metadata": {},
     "output_type": "execute_result"
    }
   ],
   "source": [
    "train_df.loc[train_df['previous'] == 275, 'previous'] = train_df.loc[train_df['previous'] != 0, 'previous'].median()\n",
    "train_df['previous'].describe()"
   ]
  },
  {
   "cell_type": "code",
   "execution_count": 34,
   "id": "9c3325d9",
   "metadata": {
    "execution": {
     "iopub.execute_input": "2022-10-21T07:28:04.691314Z",
     "iopub.status.busy": "2022-10-21T07:28:04.690934Z",
     "iopub.status.idle": "2022-10-21T07:28:04.699030Z",
     "shell.execute_reply": "2022-10-21T07:28:04.698052Z"
    },
    "papermill": {
     "duration": 0.032437,
     "end_time": "2022-10-21T07:28:04.701095",
     "exception": false,
     "start_time": "2022-10-21T07:28:04.668658",
     "status": "completed"
    },
    "tags": []
   },
   "outputs": [
    {
     "data": {
      "text/plain": [
       "9.0"
      ]
     },
     "execution_count": 34,
     "metadata": {},
     "output_type": "execute_result"
    }
   ],
   "source": [
    "np.percentile(train_df.loc[train_df['previous'] != 0, 'previous'], q=95)"
   ]
  },
  {
   "cell_type": "code",
   "execution_count": 35,
   "id": "3e86284d",
   "metadata": {
    "execution": {
     "iopub.execute_input": "2022-10-21T07:28:04.745793Z",
     "iopub.status.busy": "2022-10-21T07:28:04.745068Z",
     "iopub.status.idle": "2022-10-21T07:28:04.753222Z",
     "shell.execute_reply": "2022-10-21T07:28:04.752442Z"
    },
    "papermill": {
     "duration": 0.032825,
     "end_time": "2022-10-21T07:28:04.755159",
     "exception": false,
     "start_time": "2022-10-21T07:28:04.722334",
     "status": "completed"
    },
    "tags": []
   },
   "outputs": [
    {
     "data": {
      "text/plain": [
       "yes    76\n",
       "no     43\n",
       "Name: deposit, dtype: int64"
      ]
     },
     "execution_count": 35,
     "metadata": {},
     "output_type": "execute_result"
    }
   ],
   "source": [
    "train_df.loc[train_df['previous'] >= 9, 'deposit'].value_counts()"
   ]
  },
  {
   "cell_type": "code",
   "execution_count": 36,
   "id": "9c4e0966",
   "metadata": {
    "execution": {
     "iopub.execute_input": "2022-10-21T07:28:04.799786Z",
     "iopub.status.busy": "2022-10-21T07:28:04.799330Z",
     "iopub.status.idle": "2022-10-21T07:28:04.807877Z",
     "shell.execute_reply": "2022-10-21T07:28:04.807120Z"
    },
    "papermill": {
     "duration": 0.033456,
     "end_time": "2022-10-21T07:28:04.809954",
     "exception": false,
     "start_time": "2022-10-21T07:28:04.776498",
     "status": "completed"
    },
    "tags": []
   },
   "outputs": [
    {
     "data": {
      "text/plain": [
       "unknown    0.748895\n",
       "failure    0.106917\n",
       "success    0.096404\n",
       "other      0.047784\n",
       "Name: poutcome, dtype: float64"
      ]
     },
     "execution_count": 36,
     "metadata": {},
     "output_type": "execute_result"
    }
   ],
   "source": [
    "train_df['poutcome'].value_counts(normalize=True)"
   ]
  },
  {
   "cell_type": "code",
   "execution_count": 37,
   "id": "cc09d1e5",
   "metadata": {
    "execution": {
     "iopub.execute_input": "2022-10-21T07:28:04.855113Z",
     "iopub.status.busy": "2022-10-21T07:28:04.854447Z",
     "iopub.status.idle": "2022-10-21T07:28:04.865721Z",
     "shell.execute_reply": "2022-10-21T07:28:04.864648Z"
    },
    "papermill": {
     "duration": 0.036637,
     "end_time": "2022-10-21T07:28:04.867988",
     "exception": false,
     "start_time": "2022-10-21T07:28:04.831351",
     "status": "completed"
    },
    "tags": []
   },
   "outputs": [
    {
     "data": {
      "text/plain": [
       "poutcome  deposit\n",
       "failure   no          447\n",
       "          yes         448\n",
       "other     no          181\n",
       "          yes         219\n",
       "success   no           73\n",
       "          yes         734\n",
       "unknown   no         3727\n",
       "          yes        2542\n",
       "Name: deposit, dtype: int64"
      ]
     },
     "execution_count": 37,
     "metadata": {},
     "output_type": "execute_result"
    }
   ],
   "source": [
    "train_df.groupby(['poutcome', 'deposit'])['deposit'].count()"
   ]
  },
  {
   "cell_type": "markdown",
   "id": "f62dbdce",
   "metadata": {
    "papermill": {
     "duration": 0.021219,
     "end_time": "2022-10-21T07:28:04.910511",
     "exception": false,
     "start_time": "2022-10-21T07:28:04.889292",
     "status": "completed"
    },
    "tags": []
   },
   "source": [
    "Build a machine learning model using the data as it is. After we set a baseline we apply feature engineering techniques to try and improve the performance of the model."
   ]
  },
  {
   "cell_type": "code",
   "execution_count": 38,
   "id": "8571f78b",
   "metadata": {
    "execution": {
     "iopub.execute_input": "2022-10-21T07:28:04.955968Z",
     "iopub.status.busy": "2022-10-21T07:28:04.955148Z",
     "iopub.status.idle": "2022-10-21T07:28:04.974521Z",
     "shell.execute_reply": "2022-10-21T07:28:04.973359Z"
    },
    "papermill": {
     "duration": 0.044851,
     "end_time": "2022-10-21T07:28:04.976812",
     "exception": false,
     "start_time": "2022-10-21T07:28:04.931961",
     "status": "completed"
    },
    "tags": []
   },
   "outputs": [
    {
     "data": {
      "text/html": [
       "<div>\n",
       "<style scoped>\n",
       "    .dataframe tbody tr th:only-of-type {\n",
       "        vertical-align: middle;\n",
       "    }\n",
       "\n",
       "    .dataframe tbody tr th {\n",
       "        vertical-align: top;\n",
       "    }\n",
       "\n",
       "    .dataframe thead th {\n",
       "        text-align: right;\n",
       "    }\n",
       "</style>\n",
       "<table border=\"1\" class=\"dataframe\">\n",
       "  <thead>\n",
       "    <tr style=\"text-align: right;\">\n",
       "      <th></th>\n",
       "      <th>age</th>\n",
       "      <th>job</th>\n",
       "      <th>marital</th>\n",
       "      <th>education</th>\n",
       "      <th>default</th>\n",
       "      <th>balance</th>\n",
       "      <th>housing</th>\n",
       "      <th>loan</th>\n",
       "      <th>contact</th>\n",
       "      <th>day</th>\n",
       "      <th>month</th>\n",
       "      <th>duration</th>\n",
       "      <th>campaign</th>\n",
       "      <th>pdays</th>\n",
       "      <th>previous</th>\n",
       "      <th>poutcome</th>\n",
       "    </tr>\n",
       "  </thead>\n",
       "  <tbody>\n",
       "    <tr>\n",
       "      <th>0</th>\n",
       "      <td>38</td>\n",
       "      <td>technician</td>\n",
       "      <td>married</td>\n",
       "      <td>tertiary</td>\n",
       "      <td>no</td>\n",
       "      <td>127</td>\n",
       "      <td>yes</td>\n",
       "      <td>no</td>\n",
       "      <td>cellular</td>\n",
       "      <td>14</td>\n",
       "      <td>oct</td>\n",
       "      <td>113</td>\n",
       "      <td>1</td>\n",
       "      <td>50</td>\n",
       "      <td>2</td>\n",
       "      <td>success</td>\n",
       "    </tr>\n",
       "    <tr>\n",
       "      <th>1</th>\n",
       "      <td>41</td>\n",
       "      <td>housemaid</td>\n",
       "      <td>married</td>\n",
       "      <td>primary</td>\n",
       "      <td>no</td>\n",
       "      <td>365</td>\n",
       "      <td>no</td>\n",
       "      <td>no</td>\n",
       "      <td>cellular</td>\n",
       "      <td>8</td>\n",
       "      <td>aug</td>\n",
       "      <td>203</td>\n",
       "      <td>5</td>\n",
       "      <td>-1</td>\n",
       "      <td>0</td>\n",
       "      <td>unknown</td>\n",
       "    </tr>\n",
       "    <tr>\n",
       "      <th>2</th>\n",
       "      <td>39</td>\n",
       "      <td>management</td>\n",
       "      <td>single</td>\n",
       "      <td>tertiary</td>\n",
       "      <td>no</td>\n",
       "      <td>2454</td>\n",
       "      <td>yes</td>\n",
       "      <td>no</td>\n",
       "      <td>cellular</td>\n",
       "      <td>4</td>\n",
       "      <td>may</td>\n",
       "      <td>716</td>\n",
       "      <td>3</td>\n",
       "      <td>263</td>\n",
       "      <td>2</td>\n",
       "      <td>failure</td>\n",
       "    </tr>\n",
       "    <tr>\n",
       "      <th>3</th>\n",
       "      <td>49</td>\n",
       "      <td>blue-collar</td>\n",
       "      <td>married</td>\n",
       "      <td>primary</td>\n",
       "      <td>no</td>\n",
       "      <td>6215</td>\n",
       "      <td>yes</td>\n",
       "      <td>no</td>\n",
       "      <td>cellular</td>\n",
       "      <td>11</td>\n",
       "      <td>may</td>\n",
       "      <td>549</td>\n",
       "      <td>1</td>\n",
       "      <td>-1</td>\n",
       "      <td>0</td>\n",
       "      <td>unknown</td>\n",
       "    </tr>\n",
       "    <tr>\n",
       "      <th>4</th>\n",
       "      <td>37</td>\n",
       "      <td>services</td>\n",
       "      <td>married</td>\n",
       "      <td>secondary</td>\n",
       "      <td>no</td>\n",
       "      <td>1694</td>\n",
       "      <td>yes</td>\n",
       "      <td>yes</td>\n",
       "      <td>cellular</td>\n",
       "      <td>29</td>\n",
       "      <td>jan</td>\n",
       "      <td>404</td>\n",
       "      <td>2</td>\n",
       "      <td>251</td>\n",
       "      <td>6</td>\n",
       "      <td>failure</td>\n",
       "    </tr>\n",
       "  </tbody>\n",
       "</table>\n",
       "</div>"
      ],
      "text/plain": [
       "   age          job  marital  education default  balance housing loan  \\\n",
       "0   38   technician  married   tertiary      no      127     yes   no   \n",
       "1   41    housemaid  married    primary      no      365      no   no   \n",
       "2   39   management   single   tertiary      no     2454     yes   no   \n",
       "3   49  blue-collar  married    primary      no     6215     yes   no   \n",
       "4   37     services  married  secondary      no     1694     yes  yes   \n",
       "\n",
       "    contact  day month  duration  campaign  pdays  previous poutcome  \n",
       "0  cellular   14   oct       113         1     50         2  success  \n",
       "1  cellular    8   aug       203         5     -1         0  unknown  \n",
       "2  cellular    4   may       716         3    263         2  failure  \n",
       "3  cellular   11   may       549         1     -1         0  unknown  \n",
       "4  cellular   29   jan       404         2    251         6  failure  "
      ]
     },
     "execution_count": 38,
     "metadata": {},
     "output_type": "execute_result"
    }
   ],
   "source": [
    "# Create train_x dataframe\n",
    "train_x = train_df.iloc[:, :-1]\n",
    "train_x.head()"
   ]
  },
  {
   "cell_type": "code",
   "execution_count": 39,
   "id": "b20dc4a7",
   "metadata": {
    "execution": {
     "iopub.execute_input": "2022-10-21T07:28:05.022401Z",
     "iopub.status.busy": "2022-10-21T07:28:05.021746Z",
     "iopub.status.idle": "2022-10-21T07:28:05.032057Z",
     "shell.execute_reply": "2022-10-21T07:28:05.031081Z"
    },
    "papermill": {
     "duration": 0.035473,
     "end_time": "2022-10-21T07:28:05.034095",
     "exception": false,
     "start_time": "2022-10-21T07:28:04.998622",
     "status": "completed"
    },
    "tags": []
   },
   "outputs": [
    {
     "data": {
      "text/html": [
       "<div>\n",
       "<style scoped>\n",
       "    .dataframe tbody tr th:only-of-type {\n",
       "        vertical-align: middle;\n",
       "    }\n",
       "\n",
       "    .dataframe tbody tr th {\n",
       "        vertical-align: top;\n",
       "    }\n",
       "\n",
       "    .dataframe thead th {\n",
       "        text-align: right;\n",
       "    }\n",
       "</style>\n",
       "<table border=\"1\" class=\"dataframe\">\n",
       "  <thead>\n",
       "    <tr style=\"text-align: right;\">\n",
       "      <th></th>\n",
       "      <th>deposit</th>\n",
       "    </tr>\n",
       "  </thead>\n",
       "  <tbody>\n",
       "    <tr>\n",
       "      <th>0</th>\n",
       "      <td>no</td>\n",
       "    </tr>\n",
       "    <tr>\n",
       "      <th>1</th>\n",
       "      <td>no</td>\n",
       "    </tr>\n",
       "    <tr>\n",
       "      <th>2</th>\n",
       "      <td>yes</td>\n",
       "    </tr>\n",
       "    <tr>\n",
       "      <th>3</th>\n",
       "      <td>no</td>\n",
       "    </tr>\n",
       "    <tr>\n",
       "      <th>4</th>\n",
       "      <td>no</td>\n",
       "    </tr>\n",
       "  </tbody>\n",
       "</table>\n",
       "</div>"
      ],
      "text/plain": [
       "  deposit\n",
       "0      no\n",
       "1      no\n",
       "2     yes\n",
       "3      no\n",
       "4      no"
      ]
     },
     "execution_count": 39,
     "metadata": {},
     "output_type": "execute_result"
    }
   ],
   "source": [
    "# Create train_y dataframe\n",
    "train_y = train_df[['deposit']]\n",
    "train_y.head()"
   ]
  },
  {
   "cell_type": "code",
   "execution_count": 40,
   "id": "b8da31f7",
   "metadata": {
    "execution": {
     "iopub.execute_input": "2022-10-21T07:28:05.079643Z",
     "iopub.status.busy": "2022-10-21T07:28:05.079214Z",
     "iopub.status.idle": "2022-10-21T07:28:05.096991Z",
     "shell.execute_reply": "2022-10-21T07:28:05.095209Z"
    },
    "papermill": {
     "duration": 0.04368,
     "end_time": "2022-10-21T07:28:05.099523",
     "exception": false,
     "start_time": "2022-10-21T07:28:05.055843",
     "status": "completed"
    },
    "tags": []
   },
   "outputs": [
    {
     "name": "stdout",
     "output_type": "stream",
     "text": [
      "<class 'pandas.core.frame.DataFrame'>\n",
      "RangeIndex: 8371 entries, 0 to 8370\n",
      "Data columns (total 16 columns):\n",
      " #   Column     Non-Null Count  Dtype \n",
      "---  ------     --------------  ----- \n",
      " 0   age        8371 non-null   int64 \n",
      " 1   job        8371 non-null   object\n",
      " 2   marital    8371 non-null   object\n",
      " 3   education  8371 non-null   object\n",
      " 4   default    8371 non-null   object\n",
      " 5   balance    8371 non-null   int64 \n",
      " 6   housing    8371 non-null   object\n",
      " 7   loan       8371 non-null   object\n",
      " 8   contact    8371 non-null   object\n",
      " 9   day        8371 non-null   int64 \n",
      " 10  month      8371 non-null   object\n",
      " 11  duration   8371 non-null   int64 \n",
      " 12  campaign   8371 non-null   int64 \n",
      " 13  pdays      8371 non-null   int64 \n",
      " 14  previous   8371 non-null   int64 \n",
      " 15  poutcome   8371 non-null   object\n",
      "dtypes: int64(7), object(9)\n",
      "memory usage: 1.0+ MB\n"
     ]
    }
   ],
   "source": [
    "train_x.info()"
   ]
  },
  {
   "cell_type": "code",
   "execution_count": 41,
   "id": "be6230d2",
   "metadata": {
    "execution": {
     "iopub.execute_input": "2022-10-21T07:28:05.145601Z",
     "iopub.status.busy": "2022-10-21T07:28:05.144905Z",
     "iopub.status.idle": "2022-10-21T07:28:05.155618Z",
     "shell.execute_reply": "2022-10-21T07:28:05.154446Z"
    },
    "papermill": {
     "duration": 0.036367,
     "end_time": "2022-10-21T07:28:05.157781",
     "exception": false,
     "start_time": "2022-10-21T07:28:05.121414",
     "status": "completed"
    },
    "tags": []
   },
   "outputs": [
    {
     "data": {
      "text/plain": [
       "['job',\n",
       " 'marital',\n",
       " 'default',\n",
       " 'housing',\n",
       " 'loan',\n",
       " 'contact',\n",
       " 'month',\n",
       " 'poutcome']"
      ]
     },
     "execution_count": 41,
     "metadata": {},
     "output_type": "execute_result"
    }
   ],
   "source": [
    "# Get a list of columns for one-hot encoding\n",
    "ohe_cols = list(train_x.select_dtypes(include='object').columns.values)\n",
    "\n",
    "# We want to label encode education\n",
    "le_col = ['education']\n",
    "\n",
    "# Drop education \n",
    "ohe_cols.remove('education')\n",
    "ohe_cols"
   ]
  },
  {
   "cell_type": "code",
   "execution_count": 42,
   "id": "13d5e032",
   "metadata": {
    "execution": {
     "iopub.execute_input": "2022-10-21T07:28:05.203796Z",
     "iopub.status.busy": "2022-10-21T07:28:05.203016Z",
     "iopub.status.idle": "2022-10-21T07:28:05.239833Z",
     "shell.execute_reply": "2022-10-21T07:28:05.238640Z"
    },
    "papermill": {
     "duration": 0.06258,
     "end_time": "2022-10-21T07:28:05.242279",
     "exception": false,
     "start_time": "2022-10-21T07:28:05.179699",
     "status": "completed"
    },
    "tags": []
   },
   "outputs": [
    {
     "data": {
      "text/html": [
       "<div>\n",
       "<style scoped>\n",
       "    .dataframe tbody tr th:only-of-type {\n",
       "        vertical-align: middle;\n",
       "    }\n",
       "\n",
       "    .dataframe tbody tr th {\n",
       "        vertical-align: top;\n",
       "    }\n",
       "\n",
       "    .dataframe thead th {\n",
       "        text-align: right;\n",
       "    }\n",
       "</style>\n",
       "<table border=\"1\" class=\"dataframe\">\n",
       "  <thead>\n",
       "    <tr style=\"text-align: right;\">\n",
       "      <th></th>\n",
       "      <th>age</th>\n",
       "      <th>education</th>\n",
       "      <th>balance</th>\n",
       "      <th>day</th>\n",
       "      <th>duration</th>\n",
       "      <th>campaign</th>\n",
       "      <th>pdays</th>\n",
       "      <th>previous</th>\n",
       "      <th>job_blue-collar</th>\n",
       "      <th>job_entrepreneur</th>\n",
       "      <th>...</th>\n",
       "      <th>month_jul</th>\n",
       "      <th>month_jun</th>\n",
       "      <th>month_mar</th>\n",
       "      <th>month_may</th>\n",
       "      <th>month_nov</th>\n",
       "      <th>month_oct</th>\n",
       "      <th>month_sep</th>\n",
       "      <th>poutcome_other</th>\n",
       "      <th>poutcome_success</th>\n",
       "      <th>poutcome_unknown</th>\n",
       "    </tr>\n",
       "  </thead>\n",
       "  <tbody>\n",
       "    <tr>\n",
       "      <th>0</th>\n",
       "      <td>38</td>\n",
       "      <td>tertiary</td>\n",
       "      <td>127</td>\n",
       "      <td>14</td>\n",
       "      <td>113</td>\n",
       "      <td>1</td>\n",
       "      <td>50</td>\n",
       "      <td>2</td>\n",
       "      <td>0</td>\n",
       "      <td>0</td>\n",
       "      <td>...</td>\n",
       "      <td>0</td>\n",
       "      <td>0</td>\n",
       "      <td>0</td>\n",
       "      <td>0</td>\n",
       "      <td>0</td>\n",
       "      <td>1</td>\n",
       "      <td>0</td>\n",
       "      <td>0</td>\n",
       "      <td>1</td>\n",
       "      <td>0</td>\n",
       "    </tr>\n",
       "    <tr>\n",
       "      <th>1</th>\n",
       "      <td>41</td>\n",
       "      <td>primary</td>\n",
       "      <td>365</td>\n",
       "      <td>8</td>\n",
       "      <td>203</td>\n",
       "      <td>5</td>\n",
       "      <td>-1</td>\n",
       "      <td>0</td>\n",
       "      <td>0</td>\n",
       "      <td>0</td>\n",
       "      <td>...</td>\n",
       "      <td>0</td>\n",
       "      <td>0</td>\n",
       "      <td>0</td>\n",
       "      <td>0</td>\n",
       "      <td>0</td>\n",
       "      <td>0</td>\n",
       "      <td>0</td>\n",
       "      <td>0</td>\n",
       "      <td>0</td>\n",
       "      <td>1</td>\n",
       "    </tr>\n",
       "    <tr>\n",
       "      <th>2</th>\n",
       "      <td>39</td>\n",
       "      <td>tertiary</td>\n",
       "      <td>2454</td>\n",
       "      <td>4</td>\n",
       "      <td>716</td>\n",
       "      <td>3</td>\n",
       "      <td>263</td>\n",
       "      <td>2</td>\n",
       "      <td>0</td>\n",
       "      <td>0</td>\n",
       "      <td>...</td>\n",
       "      <td>0</td>\n",
       "      <td>0</td>\n",
       "      <td>0</td>\n",
       "      <td>1</td>\n",
       "      <td>0</td>\n",
       "      <td>0</td>\n",
       "      <td>0</td>\n",
       "      <td>0</td>\n",
       "      <td>0</td>\n",
       "      <td>0</td>\n",
       "    </tr>\n",
       "    <tr>\n",
       "      <th>3</th>\n",
       "      <td>49</td>\n",
       "      <td>primary</td>\n",
       "      <td>6215</td>\n",
       "      <td>11</td>\n",
       "      <td>549</td>\n",
       "      <td>1</td>\n",
       "      <td>-1</td>\n",
       "      <td>0</td>\n",
       "      <td>1</td>\n",
       "      <td>0</td>\n",
       "      <td>...</td>\n",
       "      <td>0</td>\n",
       "      <td>0</td>\n",
       "      <td>0</td>\n",
       "      <td>1</td>\n",
       "      <td>0</td>\n",
       "      <td>0</td>\n",
       "      <td>0</td>\n",
       "      <td>0</td>\n",
       "      <td>0</td>\n",
       "      <td>1</td>\n",
       "    </tr>\n",
       "    <tr>\n",
       "      <th>4</th>\n",
       "      <td>37</td>\n",
       "      <td>secondary</td>\n",
       "      <td>1694</td>\n",
       "      <td>29</td>\n",
       "      <td>404</td>\n",
       "      <td>2</td>\n",
       "      <td>251</td>\n",
       "      <td>6</td>\n",
       "      <td>0</td>\n",
       "      <td>0</td>\n",
       "      <td>...</td>\n",
       "      <td>0</td>\n",
       "      <td>0</td>\n",
       "      <td>0</td>\n",
       "      <td>0</td>\n",
       "      <td>0</td>\n",
       "      <td>0</td>\n",
       "      <td>0</td>\n",
       "      <td>0</td>\n",
       "      <td>0</td>\n",
       "      <td>0</td>\n",
       "    </tr>\n",
       "  </tbody>\n",
       "</table>\n",
       "<p>5 rows × 40 columns</p>\n",
       "</div>"
      ],
      "text/plain": [
       "   age  education  balance  day  duration  campaign  pdays  previous  \\\n",
       "0   38   tertiary      127   14       113         1     50         2   \n",
       "1   41    primary      365    8       203         5     -1         0   \n",
       "2   39   tertiary     2454    4       716         3    263         2   \n",
       "3   49    primary     6215   11       549         1     -1         0   \n",
       "4   37  secondary     1694   29       404         2    251         6   \n",
       "\n",
       "   job_blue-collar  job_entrepreneur  ...  month_jul  month_jun  month_mar  \\\n",
       "0                0                 0  ...          0          0          0   \n",
       "1                0                 0  ...          0          0          0   \n",
       "2                0                 0  ...          0          0          0   \n",
       "3                1                 0  ...          0          0          0   \n",
       "4                0                 0  ...          0          0          0   \n",
       "\n",
       "   month_may  month_nov  month_oct  month_sep  poutcome_other  \\\n",
       "0          0          0          1          0               0   \n",
       "1          0          0          0          0               0   \n",
       "2          1          0          0          0               0   \n",
       "3          1          0          0          0               0   \n",
       "4          0          0          0          0               0   \n",
       "\n",
       "   poutcome_success  poutcome_unknown  \n",
       "0                 1                 0  \n",
       "1                 0                 1  \n",
       "2                 0                 0  \n",
       "3                 0                 1  \n",
       "4                 0                 0  \n",
       "\n",
       "[5 rows x 40 columns]"
      ]
     },
     "execution_count": 42,
     "metadata": {},
     "output_type": "execute_result"
    }
   ],
   "source": [
    "train_x = pd.get_dummies(train_x, prefix=ohe_cols, columns=ohe_cols, drop_first=True)\n",
    "train_x.head()"
   ]
  },
  {
   "cell_type": "code",
   "execution_count": 43,
   "id": "acf69aac",
   "metadata": {
    "execution": {
     "iopub.execute_input": "2022-10-21T07:28:05.289176Z",
     "iopub.status.busy": "2022-10-21T07:28:05.288496Z",
     "iopub.status.idle": "2022-10-21T07:28:05.303706Z",
     "shell.execute_reply": "2022-10-21T07:28:05.302459Z"
    },
    "papermill": {
     "duration": 0.041249,
     "end_time": "2022-10-21T07:28:05.305977",
     "exception": false,
     "start_time": "2022-10-21T07:28:05.264728",
     "status": "completed"
    },
    "tags": []
   },
   "outputs": [
    {
     "data": {
      "text/plain": [
       "2    0.491339\n",
       "3    0.328993\n",
       "1    0.134751\n",
       "0    0.044917\n",
       "Name: education, dtype: float64"
      ]
     },
     "execution_count": 43,
     "metadata": {},
     "output_type": "execute_result"
    }
   ],
   "source": [
    "# Perform label encoding on education\n",
    "ed_cat = {'unknown': 0, \n",
    "          'primary': 1,\n",
    "          'secondary': 2,\n",
    "          'tertiary': 3}\n",
    "train_x['education'] = train_x['education'].replace(ed_cat)\n",
    "train_x['education'].value_counts(normalize=True)"
   ]
  },
  {
   "cell_type": "code",
   "execution_count": 44,
   "id": "58a3cd9e",
   "metadata": {
    "execution": {
     "iopub.execute_input": "2022-10-21T07:28:05.352856Z",
     "iopub.status.busy": "2022-10-21T07:28:05.352162Z",
     "iopub.status.idle": "2022-10-21T07:28:05.370728Z",
     "shell.execute_reply": "2022-10-21T07:28:05.369531Z"
    },
    "papermill": {
     "duration": 0.044586,
     "end_time": "2022-10-21T07:28:05.372924",
     "exception": false,
     "start_time": "2022-10-21T07:28:05.328338",
     "status": "completed"
    },
    "tags": []
   },
   "outputs": [
    {
     "data": {
      "text/html": [
       "<div>\n",
       "<style scoped>\n",
       "    .dataframe tbody tr th:only-of-type {\n",
       "        vertical-align: middle;\n",
       "    }\n",
       "\n",
       "    .dataframe tbody tr th {\n",
       "        vertical-align: top;\n",
       "    }\n",
       "\n",
       "    .dataframe thead th {\n",
       "        text-align: right;\n",
       "    }\n",
       "</style>\n",
       "<table border=\"1\" class=\"dataframe\">\n",
       "  <thead>\n",
       "    <tr style=\"text-align: right;\">\n",
       "      <th></th>\n",
       "      <th>age</th>\n",
       "      <th>education</th>\n",
       "      <th>balance</th>\n",
       "      <th>day</th>\n",
       "      <th>duration</th>\n",
       "      <th>campaign</th>\n",
       "      <th>pdays</th>\n",
       "      <th>previous</th>\n",
       "      <th>job_blue-collar</th>\n",
       "      <th>job_entrepreneur</th>\n",
       "      <th>...</th>\n",
       "      <th>month_jul</th>\n",
       "      <th>month_jun</th>\n",
       "      <th>month_mar</th>\n",
       "      <th>month_may</th>\n",
       "      <th>month_nov</th>\n",
       "      <th>month_oct</th>\n",
       "      <th>month_sep</th>\n",
       "      <th>poutcome_other</th>\n",
       "      <th>poutcome_success</th>\n",
       "      <th>poutcome_unknown</th>\n",
       "    </tr>\n",
       "  </thead>\n",
       "  <tbody>\n",
       "    <tr>\n",
       "      <th>0</th>\n",
       "      <td>38</td>\n",
       "      <td>3</td>\n",
       "      <td>127</td>\n",
       "      <td>14</td>\n",
       "      <td>113</td>\n",
       "      <td>1</td>\n",
       "      <td>50</td>\n",
       "      <td>2</td>\n",
       "      <td>0</td>\n",
       "      <td>0</td>\n",
       "      <td>...</td>\n",
       "      <td>0</td>\n",
       "      <td>0</td>\n",
       "      <td>0</td>\n",
       "      <td>0</td>\n",
       "      <td>0</td>\n",
       "      <td>1</td>\n",
       "      <td>0</td>\n",
       "      <td>0</td>\n",
       "      <td>1</td>\n",
       "      <td>0</td>\n",
       "    </tr>\n",
       "    <tr>\n",
       "      <th>1</th>\n",
       "      <td>41</td>\n",
       "      <td>1</td>\n",
       "      <td>365</td>\n",
       "      <td>8</td>\n",
       "      <td>203</td>\n",
       "      <td>5</td>\n",
       "      <td>-1</td>\n",
       "      <td>0</td>\n",
       "      <td>0</td>\n",
       "      <td>0</td>\n",
       "      <td>...</td>\n",
       "      <td>0</td>\n",
       "      <td>0</td>\n",
       "      <td>0</td>\n",
       "      <td>0</td>\n",
       "      <td>0</td>\n",
       "      <td>0</td>\n",
       "      <td>0</td>\n",
       "      <td>0</td>\n",
       "      <td>0</td>\n",
       "      <td>1</td>\n",
       "    </tr>\n",
       "    <tr>\n",
       "      <th>2</th>\n",
       "      <td>39</td>\n",
       "      <td>3</td>\n",
       "      <td>2454</td>\n",
       "      <td>4</td>\n",
       "      <td>716</td>\n",
       "      <td>3</td>\n",
       "      <td>263</td>\n",
       "      <td>2</td>\n",
       "      <td>0</td>\n",
       "      <td>0</td>\n",
       "      <td>...</td>\n",
       "      <td>0</td>\n",
       "      <td>0</td>\n",
       "      <td>0</td>\n",
       "      <td>1</td>\n",
       "      <td>0</td>\n",
       "      <td>0</td>\n",
       "      <td>0</td>\n",
       "      <td>0</td>\n",
       "      <td>0</td>\n",
       "      <td>0</td>\n",
       "    </tr>\n",
       "    <tr>\n",
       "      <th>3</th>\n",
       "      <td>49</td>\n",
       "      <td>1</td>\n",
       "      <td>6215</td>\n",
       "      <td>11</td>\n",
       "      <td>549</td>\n",
       "      <td>1</td>\n",
       "      <td>-1</td>\n",
       "      <td>0</td>\n",
       "      <td>1</td>\n",
       "      <td>0</td>\n",
       "      <td>...</td>\n",
       "      <td>0</td>\n",
       "      <td>0</td>\n",
       "      <td>0</td>\n",
       "      <td>1</td>\n",
       "      <td>0</td>\n",
       "      <td>0</td>\n",
       "      <td>0</td>\n",
       "      <td>0</td>\n",
       "      <td>0</td>\n",
       "      <td>1</td>\n",
       "    </tr>\n",
       "    <tr>\n",
       "      <th>4</th>\n",
       "      <td>37</td>\n",
       "      <td>2</td>\n",
       "      <td>1694</td>\n",
       "      <td>29</td>\n",
       "      <td>404</td>\n",
       "      <td>2</td>\n",
       "      <td>251</td>\n",
       "      <td>6</td>\n",
       "      <td>0</td>\n",
       "      <td>0</td>\n",
       "      <td>...</td>\n",
       "      <td>0</td>\n",
       "      <td>0</td>\n",
       "      <td>0</td>\n",
       "      <td>0</td>\n",
       "      <td>0</td>\n",
       "      <td>0</td>\n",
       "      <td>0</td>\n",
       "      <td>0</td>\n",
       "      <td>0</td>\n",
       "      <td>0</td>\n",
       "    </tr>\n",
       "  </tbody>\n",
       "</table>\n",
       "<p>5 rows × 40 columns</p>\n",
       "</div>"
      ],
      "text/plain": [
       "   age  education  balance  day  duration  campaign  pdays  previous  \\\n",
       "0   38          3      127   14       113         1     50         2   \n",
       "1   41          1      365    8       203         5     -1         0   \n",
       "2   39          3     2454    4       716         3    263         2   \n",
       "3   49          1     6215   11       549         1     -1         0   \n",
       "4   37          2     1694   29       404         2    251         6   \n",
       "\n",
       "   job_blue-collar  job_entrepreneur  ...  month_jul  month_jun  month_mar  \\\n",
       "0                0                 0  ...          0          0          0   \n",
       "1                0                 0  ...          0          0          0   \n",
       "2                0                 0  ...          0          0          0   \n",
       "3                1                 0  ...          0          0          0   \n",
       "4                0                 0  ...          0          0          0   \n",
       "\n",
       "   month_may  month_nov  month_oct  month_sep  poutcome_other  \\\n",
       "0          0          0          1          0               0   \n",
       "1          0          0          0          0               0   \n",
       "2          1          0          0          0               0   \n",
       "3          1          0          0          0               0   \n",
       "4          0          0          0          0               0   \n",
       "\n",
       "   poutcome_success  poutcome_unknown  \n",
       "0                 1                 0  \n",
       "1                 0                 1  \n",
       "2                 0                 0  \n",
       "3                 0                 1  \n",
       "4                 0                 0  \n",
       "\n",
       "[5 rows x 40 columns]"
      ]
     },
     "execution_count": 44,
     "metadata": {},
     "output_type": "execute_result"
    }
   ],
   "source": [
    "train_x.head()"
   ]
  },
  {
   "cell_type": "code",
   "execution_count": 45,
   "id": "b93808fb",
   "metadata": {
    "execution": {
     "iopub.execute_input": "2022-10-21T07:28:05.420542Z",
     "iopub.status.busy": "2022-10-21T07:28:05.419891Z",
     "iopub.status.idle": "2022-10-21T07:28:05.433517Z",
     "shell.execute_reply": "2022-10-21T07:28:05.432478Z"
    },
    "papermill": {
     "duration": 0.04004,
     "end_time": "2022-10-21T07:28:05.435688",
     "exception": false,
     "start_time": "2022-10-21T07:28:05.395648",
     "status": "completed"
    },
    "tags": []
   },
   "outputs": [
    {
     "data": {
      "text/plain": [
       "0    0.528969\n",
       "1    0.471031\n",
       "Name: deposit, dtype: float64"
      ]
     },
     "execution_count": 45,
     "metadata": {},
     "output_type": "execute_result"
    }
   ],
   "source": [
    "# Encode target variable\n",
    "y_cat = {'no': 0, \n",
    "         'yes': 1}\n",
    "train_y['deposit'] = train_y['deposit'].replace(y_cat)\n",
    "train_y['deposit'].value_counts(normalize=True)"
   ]
  },
  {
   "cell_type": "code",
   "execution_count": 46,
   "id": "1abf54d7",
   "metadata": {
    "execution": {
     "iopub.execute_input": "2022-10-21T07:28:05.483432Z",
     "iopub.status.busy": "2022-10-21T07:28:05.482665Z",
     "iopub.status.idle": "2022-10-21T07:28:05.517420Z",
     "shell.execute_reply": "2022-10-21T07:28:05.516264Z"
    },
    "papermill": {
     "duration": 0.061598,
     "end_time": "2022-10-21T07:28:05.520260",
     "exception": false,
     "start_time": "2022-10-21T07:28:05.458662",
     "status": "completed"
    },
    "tags": []
   },
   "outputs": [],
   "source": [
    "# Create the test_x dataframe\n",
    "test_x = train_df.iloc[:, :-1]\n",
    "\n",
    "# # # Create train_y dataframe\n",
    "# test_y = test_df[['deposit']]\n",
    "test_y = train_df[['deposit']]\n",
    "\n",
    "# # One-hot encode columns\n",
    "test_x = pd.get_dummies(test_x, prefix=ohe_cols, columns=ohe_cols, drop_first=True)\n",
    "\n",
    "# # Label encode education\n",
    "test_x['education'] = test_x['education'].replace(ed_cat)\n",
    "\n",
    "# test_y = train_\n",
    "test_y['deposit'] = test_y['deposit'].replace(y_cat)"
   ]
  },
  {
   "cell_type": "code",
   "execution_count": 47,
   "id": "12b14051",
   "metadata": {
    "execution": {
     "iopub.execute_input": "2022-10-21T07:28:05.568477Z",
     "iopub.status.busy": "2022-10-21T07:28:05.567611Z",
     "iopub.status.idle": "2022-10-21T07:28:05.584853Z",
     "shell.execute_reply": "2022-10-21T07:28:05.584081Z"
    },
    "papermill": {
     "duration": 0.043519,
     "end_time": "2022-10-21T07:28:05.586917",
     "exception": false,
     "start_time": "2022-10-21T07:28:05.543398",
     "status": "completed"
    },
    "tags": []
   },
   "outputs": [
    {
     "data": {
      "text/html": [
       "<div>\n",
       "<style scoped>\n",
       "    .dataframe tbody tr th:only-of-type {\n",
       "        vertical-align: middle;\n",
       "    }\n",
       "\n",
       "    .dataframe tbody tr th {\n",
       "        vertical-align: top;\n",
       "    }\n",
       "\n",
       "    .dataframe thead th {\n",
       "        text-align: right;\n",
       "    }\n",
       "</style>\n",
       "<table border=\"1\" class=\"dataframe\">\n",
       "  <thead>\n",
       "    <tr style=\"text-align: right;\">\n",
       "      <th></th>\n",
       "      <th>age</th>\n",
       "      <th>education</th>\n",
       "      <th>balance</th>\n",
       "      <th>day</th>\n",
       "      <th>duration</th>\n",
       "      <th>campaign</th>\n",
       "      <th>pdays</th>\n",
       "      <th>previous</th>\n",
       "      <th>job_blue-collar</th>\n",
       "      <th>job_entrepreneur</th>\n",
       "      <th>...</th>\n",
       "      <th>month_jul</th>\n",
       "      <th>month_jun</th>\n",
       "      <th>month_mar</th>\n",
       "      <th>month_may</th>\n",
       "      <th>month_nov</th>\n",
       "      <th>month_oct</th>\n",
       "      <th>month_sep</th>\n",
       "      <th>poutcome_other</th>\n",
       "      <th>poutcome_success</th>\n",
       "      <th>poutcome_unknown</th>\n",
       "    </tr>\n",
       "  </thead>\n",
       "  <tbody>\n",
       "    <tr>\n",
       "      <th>0</th>\n",
       "      <td>38</td>\n",
       "      <td>3</td>\n",
       "      <td>127</td>\n",
       "      <td>14</td>\n",
       "      <td>113</td>\n",
       "      <td>1</td>\n",
       "      <td>50</td>\n",
       "      <td>2</td>\n",
       "      <td>0</td>\n",
       "      <td>0</td>\n",
       "      <td>...</td>\n",
       "      <td>0</td>\n",
       "      <td>0</td>\n",
       "      <td>0</td>\n",
       "      <td>0</td>\n",
       "      <td>0</td>\n",
       "      <td>1</td>\n",
       "      <td>0</td>\n",
       "      <td>0</td>\n",
       "      <td>1</td>\n",
       "      <td>0</td>\n",
       "    </tr>\n",
       "    <tr>\n",
       "      <th>1</th>\n",
       "      <td>41</td>\n",
       "      <td>1</td>\n",
       "      <td>365</td>\n",
       "      <td>8</td>\n",
       "      <td>203</td>\n",
       "      <td>5</td>\n",
       "      <td>-1</td>\n",
       "      <td>0</td>\n",
       "      <td>0</td>\n",
       "      <td>0</td>\n",
       "      <td>...</td>\n",
       "      <td>0</td>\n",
       "      <td>0</td>\n",
       "      <td>0</td>\n",
       "      <td>0</td>\n",
       "      <td>0</td>\n",
       "      <td>0</td>\n",
       "      <td>0</td>\n",
       "      <td>0</td>\n",
       "      <td>0</td>\n",
       "      <td>1</td>\n",
       "    </tr>\n",
       "    <tr>\n",
       "      <th>2</th>\n",
       "      <td>39</td>\n",
       "      <td>3</td>\n",
       "      <td>2454</td>\n",
       "      <td>4</td>\n",
       "      <td>716</td>\n",
       "      <td>3</td>\n",
       "      <td>263</td>\n",
       "      <td>2</td>\n",
       "      <td>0</td>\n",
       "      <td>0</td>\n",
       "      <td>...</td>\n",
       "      <td>0</td>\n",
       "      <td>0</td>\n",
       "      <td>0</td>\n",
       "      <td>1</td>\n",
       "      <td>0</td>\n",
       "      <td>0</td>\n",
       "      <td>0</td>\n",
       "      <td>0</td>\n",
       "      <td>0</td>\n",
       "      <td>0</td>\n",
       "    </tr>\n",
       "    <tr>\n",
       "      <th>3</th>\n",
       "      <td>49</td>\n",
       "      <td>1</td>\n",
       "      <td>6215</td>\n",
       "      <td>11</td>\n",
       "      <td>549</td>\n",
       "      <td>1</td>\n",
       "      <td>-1</td>\n",
       "      <td>0</td>\n",
       "      <td>1</td>\n",
       "      <td>0</td>\n",
       "      <td>...</td>\n",
       "      <td>0</td>\n",
       "      <td>0</td>\n",
       "      <td>0</td>\n",
       "      <td>1</td>\n",
       "      <td>0</td>\n",
       "      <td>0</td>\n",
       "      <td>0</td>\n",
       "      <td>0</td>\n",
       "      <td>0</td>\n",
       "      <td>1</td>\n",
       "    </tr>\n",
       "    <tr>\n",
       "      <th>4</th>\n",
       "      <td>37</td>\n",
       "      <td>2</td>\n",
       "      <td>1694</td>\n",
       "      <td>29</td>\n",
       "      <td>404</td>\n",
       "      <td>2</td>\n",
       "      <td>251</td>\n",
       "      <td>6</td>\n",
       "      <td>0</td>\n",
       "      <td>0</td>\n",
       "      <td>...</td>\n",
       "      <td>0</td>\n",
       "      <td>0</td>\n",
       "      <td>0</td>\n",
       "      <td>0</td>\n",
       "      <td>0</td>\n",
       "      <td>0</td>\n",
       "      <td>0</td>\n",
       "      <td>0</td>\n",
       "      <td>0</td>\n",
       "      <td>0</td>\n",
       "    </tr>\n",
       "  </tbody>\n",
       "</table>\n",
       "<p>5 rows × 40 columns</p>\n",
       "</div>"
      ],
      "text/plain": [
       "   age  education  balance  day  duration  campaign  pdays  previous  \\\n",
       "0   38          3      127   14       113         1     50         2   \n",
       "1   41          1      365    8       203         5     -1         0   \n",
       "2   39          3     2454    4       716         3    263         2   \n",
       "3   49          1     6215   11       549         1     -1         0   \n",
       "4   37          2     1694   29       404         2    251         6   \n",
       "\n",
       "   job_blue-collar  job_entrepreneur  ...  month_jul  month_jun  month_mar  \\\n",
       "0                0                 0  ...          0          0          0   \n",
       "1                0                 0  ...          0          0          0   \n",
       "2                0                 0  ...          0          0          0   \n",
       "3                1                 0  ...          0          0          0   \n",
       "4                0                 0  ...          0          0          0   \n",
       "\n",
       "   month_may  month_nov  month_oct  month_sep  poutcome_other  \\\n",
       "0          0          0          1          0               0   \n",
       "1          0          0          0          0               0   \n",
       "2          1          0          0          0               0   \n",
       "3          1          0          0          0               0   \n",
       "4          0          0          0          0               0   \n",
       "\n",
       "   poutcome_success  poutcome_unknown  \n",
       "0                 1                 0  \n",
       "1                 0                 1  \n",
       "2                 0                 0  \n",
       "3                 0                 1  \n",
       "4                 0                 0  \n",
       "\n",
       "[5 rows x 40 columns]"
      ]
     },
     "execution_count": 47,
     "metadata": {},
     "output_type": "execute_result"
    }
   ],
   "source": [
    "test_x.head()"
   ]
  },
  {
   "cell_type": "code",
   "execution_count": 48,
   "id": "14c652dd",
   "metadata": {
    "execution": {
     "iopub.execute_input": "2022-10-21T07:28:05.635925Z",
     "iopub.status.busy": "2022-10-21T07:28:05.634799Z",
     "iopub.status.idle": "2022-10-21T07:28:05.644573Z",
     "shell.execute_reply": "2022-10-21T07:28:05.643666Z"
    },
    "papermill": {
     "duration": 0.036456,
     "end_time": "2022-10-21T07:28:05.646839",
     "exception": false,
     "start_time": "2022-10-21T07:28:05.610383",
     "status": "completed"
    },
    "tags": []
   },
   "outputs": [
    {
     "data": {
      "text/html": [
       "<div>\n",
       "<style scoped>\n",
       "    .dataframe tbody tr th:only-of-type {\n",
       "        vertical-align: middle;\n",
       "    }\n",
       "\n",
       "    .dataframe tbody tr th {\n",
       "        vertical-align: top;\n",
       "    }\n",
       "\n",
       "    .dataframe thead th {\n",
       "        text-align: right;\n",
       "    }\n",
       "</style>\n",
       "<table border=\"1\" class=\"dataframe\">\n",
       "  <thead>\n",
       "    <tr style=\"text-align: right;\">\n",
       "      <th></th>\n",
       "      <th>deposit</th>\n",
       "    </tr>\n",
       "  </thead>\n",
       "  <tbody>\n",
       "    <tr>\n",
       "      <th>0</th>\n",
       "      <td>0</td>\n",
       "    </tr>\n",
       "    <tr>\n",
       "      <th>1</th>\n",
       "      <td>0</td>\n",
       "    </tr>\n",
       "    <tr>\n",
       "      <th>2</th>\n",
       "      <td>1</td>\n",
       "    </tr>\n",
       "    <tr>\n",
       "      <th>3</th>\n",
       "      <td>0</td>\n",
       "    </tr>\n",
       "    <tr>\n",
       "      <th>4</th>\n",
       "      <td>0</td>\n",
       "    </tr>\n",
       "  </tbody>\n",
       "</table>\n",
       "</div>"
      ],
      "text/plain": [
       "   deposit\n",
       "0        0\n",
       "1        0\n",
       "2        1\n",
       "3        0\n",
       "4        0"
      ]
     },
     "execution_count": 48,
     "metadata": {},
     "output_type": "execute_result"
    }
   ],
   "source": [
    "test_y.head()"
   ]
  },
  {
   "cell_type": "markdown",
   "id": "7344ee40",
   "metadata": {
    "papermill": {
     "duration": 0.023216,
     "end_time": "2022-10-21T07:28:05.693517",
     "exception": false,
     "start_time": "2022-10-21T07:28:05.670301",
     "status": "completed"
    },
    "tags": []
   },
   "source": [
    "# Decision Tree Classifier"
   ]
  },
  {
   "cell_type": "code",
   "execution_count": 49,
   "id": "a51911ed",
   "metadata": {
    "execution": {
     "iopub.execute_input": "2022-10-21T07:28:05.742546Z",
     "iopub.status.busy": "2022-10-21T07:28:05.741729Z",
     "iopub.status.idle": "2022-10-21T07:28:05.747220Z",
     "shell.execute_reply": "2022-10-21T07:28:05.746429Z"
    },
    "papermill": {
     "duration": 0.032642,
     "end_time": "2022-10-21T07:28:05.749508",
     "exception": false,
     "start_time": "2022-10-21T07:28:05.716866",
     "status": "completed"
    },
    "tags": []
   },
   "outputs": [],
   "source": [
    "# Define the model\n",
    "dc = DecisionTreeClassifier(max_depth=30, min_samples_split=10, min_samples_leaf=10,\n",
    "                            random_state=SEED, class_weight=\"balanced\")"
   ]
  },
  {
   "cell_type": "code",
   "execution_count": 50,
   "id": "5783b829",
   "metadata": {
    "execution": {
     "iopub.execute_input": "2022-10-21T07:28:05.798111Z",
     "iopub.status.busy": "2022-10-21T07:28:05.797706Z",
     "iopub.status.idle": "2022-10-21T07:28:07.757210Z",
     "shell.execute_reply": "2022-10-21T07:28:07.755406Z"
    },
    "papermill": {
     "duration": 1.988316,
     "end_time": "2022-10-21T07:28:07.761195",
     "exception": false,
     "start_time": "2022-10-21T07:28:05.772879",
     "status": "completed"
    },
    "tags": []
   },
   "outputs": [
    {
     "name": "stdout",
     "output_type": "stream",
     "text": [
      "Cross validation scores: [0.87341772 0.84010152 0.82741117 0.85532995 0.83502538 0.84517766\n",
      " 0.83756345 0.80456853 0.82531646 0.85063291]\n",
      "0.84 recall with a standard deviation of 0.02\n"
     ]
    }
   ],
   "source": [
    "# Define a scorer\n",
    "rs = make_scorer(recall_score)\n",
    "\n",
    "# Cross validation\n",
    "cv = cross_val_score(dc, train_x, train_y, cv=10, n_jobs=-1, scoring=rs)\n",
    "print(\"Cross validation scores: {}\".format(cv))\n",
    "print(\"%0.2f recall with a standard deviation of %0.2f\" % (cv.mean(), cv.std()))"
   ]
  },
  {
   "cell_type": "code",
   "execution_count": 51,
   "id": "69e10d21",
   "metadata": {
    "execution": {
     "iopub.execute_input": "2022-10-21T07:28:07.813003Z",
     "iopub.status.busy": "2022-10-21T07:28:07.812563Z",
     "iopub.status.idle": "2022-10-21T07:28:07.900373Z",
     "shell.execute_reply": "2022-10-21T07:28:07.899261Z"
    },
    "papermill": {
     "duration": 0.117135,
     "end_time": "2022-10-21T07:28:07.903501",
     "exception": false,
     "start_time": "2022-10-21T07:28:07.786366",
     "status": "completed"
    },
    "tags": []
   },
   "outputs": [
    {
     "data": {
      "text/plain": [
       "DecisionTreeClassifier(class_weight='balanced', max_depth=30,\n",
       "                       min_samples_leaf=10, min_samples_split=10,\n",
       "                       random_state=42)"
      ]
     },
     "execution_count": 51,
     "metadata": {},
     "output_type": "execute_result"
    }
   ],
   "source": [
    "# Fit the model on the complete train dataset\n",
    "dc.fit(train_x, train_y)"
   ]
  },
  {
   "cell_type": "code",
   "execution_count": 52,
   "id": "393229ca",
   "metadata": {
    "execution": {
     "iopub.execute_input": "2022-10-21T07:28:07.960045Z",
     "iopub.status.busy": "2022-10-21T07:28:07.959013Z",
     "iopub.status.idle": "2022-10-21T07:28:07.975597Z",
     "shell.execute_reply": "2022-10-21T07:28:07.974099Z"
    },
    "papermill": {
     "duration": 0.046687,
     "end_time": "2022-10-21T07:28:07.978115",
     "exception": false,
     "start_time": "2022-10-21T07:28:07.931428",
     "status": "completed"
    },
    "tags": []
   },
   "outputs": [
    {
     "name": "stdout",
     "output_type": "stream",
     "text": [
      "The train recall score is 0.9\n"
     ]
    }
   ],
   "source": [
    "# Get predictions from the train dataset\n",
    "pred = dc.predict(train_x)\n",
    "print(\"The train recall score is {}\".format(np.round(recall_score(train_y, pred), 2)))"
   ]
  },
  {
   "cell_type": "code",
   "execution_count": 53,
   "id": "e22bad07",
   "metadata": {
    "execution": {
     "iopub.execute_input": "2022-10-21T07:28:08.027316Z",
     "iopub.status.busy": "2022-10-21T07:28:08.026891Z",
     "iopub.status.idle": "2022-10-21T07:28:08.331105Z",
     "shell.execute_reply": "2022-10-21T07:28:08.329989Z"
    },
    "papermill": {
     "duration": 0.331799,
     "end_time": "2022-10-21T07:28:08.333709",
     "exception": false,
     "start_time": "2022-10-21T07:28:08.001910",
     "status": "completed"
    },
    "tags": []
   },
   "outputs": [
    {
     "data": {
      "image/png": "[encoded data removed]",
      "text/plain": [
       "<Figure size 432x288 with 2 Axes>"
      ]
     },
     "metadata": {
      "needs_background": "light"
     },
     "output_type": "display_data"
    },
    {
     "name": "stdout",
     "output_type": "stream",
     "text": [
      "              precision    recall  f1-score   support\n",
      "\n",
      "           0       0.90      0.87      0.89      4428\n",
      "           1       0.86      0.90      0.88      3943\n",
      "\n",
      "    accuracy                           0.88      8371\n",
      "   macro avg       0.88      0.88      0.88      8371\n",
      "weighted avg       0.88      0.88      0.88      8371\n",
      "\n"
     ]
    }
   ],
   "source": [
    "plt.title(\"Confusion matrix on Train set\")\n",
    "ax = sns.heatmap(confusion_matrix(train_y, pred), annot=True, fmt='d')\n",
    "bottom, top = ax.get_ylim()\n",
    "ax.set_ylim(bottom + 0.5, top - 0.5)\n",
    "plt.yticks(rotation=0)\n",
    "plt.xlabel(\"Predicted Labels\")\n",
    "plt.ylabel(\"Actual Labels\")\n",
    "plt.show()\n",
    "print(classification_report(train_y, pred))"
   ]
  },
  {
   "cell_type": "code",
   "execution_count": 54,
   "id": "92c91930",
   "metadata": {
    "execution": {
     "iopub.execute_input": "2022-10-21T07:28:08.384318Z",
     "iopub.status.busy": "2022-10-21T07:28:08.383456Z",
     "iopub.status.idle": "2022-10-21T07:28:08.400691Z",
     "shell.execute_reply": "2022-10-21T07:28:08.399632Z"
    },
    "papermill": {
     "duration": 0.045558,
     "end_time": "2022-10-21T07:28:08.403337",
     "exception": false,
     "start_time": "2022-10-21T07:28:08.357779",
     "status": "completed"
    },
    "tags": []
   },
   "outputs": [
    {
     "name": "stdout",
     "output_type": "stream",
     "text": [
      "The test recall score is 0.896\n"
     ]
    }
   ],
   "source": [
    "# Get predictions from the test dataset\n",
    "pred = dc.predict(test_x)\n",
    "# print(pred.shape[0])\n",
    "print(\"The test recall score is {}\".format(np.round(recall_score(test_y, pred), 3)))"
   ]
  },
  {
   "cell_type": "code",
   "execution_count": 55,
   "id": "4b283020",
   "metadata": {
    "execution": {
     "iopub.execute_input": "2022-10-21T07:28:08.453135Z",
     "iopub.status.busy": "2022-10-21T07:28:08.452765Z",
     "iopub.status.idle": "2022-10-21T07:28:08.720039Z",
     "shell.execute_reply": "2022-10-21T07:28:08.718511Z"
    },
    "papermill": {
     "duration": 0.295854,
     "end_time": "2022-10-21T07:28:08.723337",
     "exception": false,
     "start_time": "2022-10-21T07:28:08.427483",
     "status": "completed"
    },
    "tags": []
   },
   "outputs": [
    {
     "data": {
      "image/png": "[encoded data removed]",
      "text/plain": [
       "<Figure size 432x288 with 2 Axes>"
      ]
     },
     "metadata": {
      "needs_background": "light"
     },
     "output_type": "display_data"
    },
    {
     "name": "stdout",
     "output_type": "stream",
     "text": [
      "              precision    recall  f1-score   support\n",
      "\n",
      "           0       0.90      0.87      0.89      4428\n",
      "           1       0.86      0.90      0.88      3943\n",
      "\n",
      "    accuracy                           0.88      8371\n",
      "   macro avg       0.88      0.88      0.88      8371\n",
      "weighted avg       0.88      0.88      0.88      8371\n",
      "\n"
     ]
    }
   ],
   "source": [
    "plt.title(\"Confusion matrix on Test set\")\n",
    "ax = sns.heatmap(confusion_matrix(test_y, pred), annot=True, fmt='d')\n",
    "bottom, top = ax.get_ylim()\n",
    "ax.set_ylim(bottom + 0.5, top - 0.5)\n",
    "plt.yticks(rotation=0)\n",
    "plt.xlabel(\"Predicted Labels\")\n",
    "plt.ylabel(\"Actual Labels\")\n",
    "plt.show()\n",
    "print(classification_report(test_y, pred))"
   ]
  },
  {
   "cell_type": "markdown",
   "id": "29e282df",
   "metadata": {
    "papermill": {
     "duration": 0.024828,
     "end_time": "2022-10-21T07:28:08.773463",
     "exception": false,
     "start_time": "2022-10-21T07:28:08.748635",
     "status": "completed"
    },
    "tags": []
   },
   "source": [
    "# Random Forest Classifier"
   ]
  },
  {
   "cell_type": "code",
   "execution_count": 56,
   "id": "5829c153",
   "metadata": {
    "execution": {
     "iopub.execute_input": "2022-10-21T07:28:08.825037Z",
     "iopub.status.busy": "2022-10-21T07:28:08.823957Z",
     "iopub.status.idle": "2022-10-21T07:28:15.907826Z",
     "shell.execute_reply": "2022-10-21T07:28:15.906348Z"
    },
    "papermill": {
     "duration": 7.112326,
     "end_time": "2022-10-21T07:28:15.910395",
     "exception": false,
     "start_time": "2022-10-21T07:28:08.798069",
     "status": "completed"
    },
    "tags": []
   },
   "outputs": [
    {
     "name": "stdout",
     "output_type": "stream",
     "text": [
      "Cross validation scores: [0.87341772 0.87563452 0.87055838 0.86294416 0.85532995 0.91370558\n",
      " 0.88324873 0.89086294 0.88607595 0.89367089]\n",
      "0.88 recall with a standard deviation of 0.02\n",
      "The train recall score is 1.0\n"
     ]
    },
    {
     "data": {
      "image/png": "[encoded data removed]",
      "text/plain": [
       "<Figure size 432x288 with 2 Axes>"
      ]
     },
     "metadata": {
      "needs_background": "light"
     },
     "output_type": "display_data"
    },
    {
     "name": "stdout",
     "output_type": "stream",
     "text": [
      "              precision    recall  f1-score   support\n",
      "\n",
      "           0       1.00      1.00      1.00      4428\n",
      "           1       1.00      1.00      1.00      3943\n",
      "\n",
      "    accuracy                           1.00      8371\n",
      "   macro avg       1.00      1.00      1.00      8371\n",
      "weighted avg       1.00      1.00      1.00      8371\n",
      "\n",
      "The test recall score is 1.0\n"
     ]
    },
    {
     "data": {
      "image/png": "[encoded data removed]",
      "text/plain": [
       "<Figure size 432x288 with 2 Axes>"
      ]
     },
     "metadata": {
      "needs_background": "light"
     },
     "output_type": "display_data"
    },
    {
     "name": "stdout",
     "output_type": "stream",
     "text": [
      "              precision    recall  f1-score   support\n",
      "\n",
      "           0       1.00      1.00      1.00      4428\n",
      "           1       1.00      1.00      1.00      3943\n",
      "\n",
      "    accuracy                           1.00      8371\n",
      "   macro avg       1.00      1.00      1.00      8371\n",
      "weighted avg       1.00      1.00      1.00      8371\n",
      "\n"
     ]
    }
   ],
   "source": [
    "rf = RandomForestClassifier(n_jobs=-1, random_state=SEED, class_weight=\"balanced_subsample\")\n",
    "\n",
    "# Define a scorer\n",
    "rs = make_scorer(recall_score)\n",
    "\n",
    "# Cross validation\n",
    "cv = cross_val_score(rf, train_x, train_y, cv=10, n_jobs=-1, scoring=rs)\n",
    "print(\"Cross validation scores: {}\".format(cv))\n",
    "print(\"%0.2f recall with a standard deviation of %0.2f\" % (cv.mean(), cv.std()))\n",
    "\n",
    "# Fit the model on the complete train dataset\n",
    "rf.fit(train_x, train_y)\n",
    "\n",
    "# Get predictions from the train dataset\n",
    "pred = rf.predict(train_x)\n",
    "print(\"The train recall score is {}\".format(np.round(recall_score(train_y, pred), 2)))\n",
    "\n",
    "plt.title(\"Confusion matrix on Train set\")\n",
    "ax = sns.heatmap(confusion_matrix(train_y, pred), annot=True, fmt='d')\n",
    "bottom, top = ax.get_ylim()\n",
    "ax.set_ylim(bottom + 0.5, top - 0.5)\n",
    "plt.yticks(rotation=0)\n",
    "plt.xlabel(\"Predicted Labels\")\n",
    "plt.ylabel(\"Actual Labels\")\n",
    "plt.show()\n",
    "print(classification_report(train_y, pred))\n",
    "\n",
    "# Get predictions from the test dataset\n",
    "pred = rf.predict(test_x)\n",
    "print(\"The test recall score is {}\".format(np.round(recall_score(test_y, pred), 2)))\n",
    "\n",
    "plt.title(\"Confusion matrix on Test set\")\n",
    "ax = sns.heatmap(confusion_matrix(test_y, pred), annot=True, fmt='d')\n",
    "bottom, top = ax.get_ylim()\n",
    "ax.set_ylim(bottom + 0.5, top - 0.5)\n",
    "plt.yticks(rotation=0)\n",
    "plt.xlabel(\"Predicted Labels\")\n",
    "plt.ylabel(\"Actual Labels\")\n",
    "plt.show()\n",
    "print(classification_report(test_y, pred))"
   ]
  },
  {
   "cell_type": "code",
   "execution_count": 57,
   "id": "9859e2f7",
   "metadata": {
    "execution": {
     "iopub.execute_input": "2022-10-21T07:28:15.965560Z",
     "iopub.status.busy": "2022-10-21T07:28:15.965146Z",
     "iopub.status.idle": "2022-10-21T07:28:16.104795Z",
     "shell.execute_reply": "2022-10-21T07:28:16.103457Z"
    },
    "papermill": {
     "duration": 0.171275,
     "end_time": "2022-10-21T07:28:16.108070",
     "exception": false,
     "start_time": "2022-10-21T07:28:15.936795",
     "status": "completed"
    },
    "tags": []
   },
   "outputs": [
    {
     "name": "stdout",
     "output_type": "stream",
     "text": [
      "For this user Profile: \n",
      "\n",
      "   age  education  balance  day  duration  campaign  pdays  previous  \\\n",
      "0   38          3      127   14       113         1     50         2   \n",
      "\n",
      "   job_blue-collar  job_entrepreneur  ...  month_jul  month_jun  month_mar  \\\n",
      "0                0                 0  ...          0          0          0   \n",
      "\n",
      "   month_may  month_nov  month_oct  month_sep  poutcome_other  \\\n",
      "0          0          0          1          0               0   \n",
      "\n",
      "   poutcome_success  poutcome_unknown  \n",
      "0                 1                 0  \n",
      "\n",
      "[1 rows x 40 columns]\n",
      "client will subscribe : No\n",
      "\n",
      "\n",
      "\n",
      "\n",
      "\n",
      "\n",
      "For this user Profile: \n",
      "\n",
      "   age  education  balance  day  duration  campaign  pdays  previous  \\\n",
      "0   38          3      127   14       113         1     50         2   \n",
      "\n",
      "   job_blue-collar  job_entrepreneur  ...  month_jul  month_jun  month_mar  \\\n",
      "0                0                 0  ...          0          0          0   \n",
      "\n",
      "   month_may  month_nov  month_oct  month_sep  poutcome_other  \\\n",
      "0          0          0          1          0               0   \n",
      "\n",
      "   poutcome_success  poutcome_unknown  \n",
      "0                 1                 0  \n",
      "\n",
      "[1 rows x 40 columns]\n",
      "client will subscribe : No\n",
      "\n",
      "\n",
      "\n",
      "\n",
      "\n",
      "\n",
      "For this user Profile: \n",
      "\n",
      "   age  education  balance  day  duration  campaign  pdays  previous  \\\n",
      "0   38          3      127   14       113         1     50         2   \n",
      "1   41          1      365    8       203         5     -1         0   \n",
      "\n",
      "   job_blue-collar  job_entrepreneur  ...  month_jul  month_jun  month_mar  \\\n",
      "0                0                 0  ...          0          0          0   \n",
      "1                0                 0  ...          0          0          0   \n",
      "\n",
      "   month_may  month_nov  month_oct  month_sep  poutcome_other  \\\n",
      "0          0          0          1          0               0   \n",
      "1          0          0          0          0               0   \n",
      "\n",
      "   poutcome_success  poutcome_unknown  \n",
      "0                 1                 0  \n",
      "1                 0                 1  \n",
      "\n",
      "[2 rows x 40 columns]\n",
      "client will subscribe : Yes\n",
      "\n",
      "\n",
      "\n",
      "\n",
      "\n",
      "\n",
      "For this user Profile: \n",
      "\n",
      "   age  education  balance  day  duration  campaign  pdays  previous  \\\n",
      "0   38          3      127   14       113         1     50         2   \n",
      "\n",
      "   job_blue-collar  job_entrepreneur  ...  month_jul  month_jun  month_mar  \\\n",
      "0                0                 0  ...          0          0          0   \n",
      "\n",
      "   month_may  month_nov  month_oct  month_sep  poutcome_other  \\\n",
      "0          0          0          1          0               0   \n",
      "\n",
      "   poutcome_success  poutcome_unknown  \n",
      "0                 1                 0  \n",
      "\n",
      "[1 rows x 40 columns]\n",
      "client will subscribe : No\n",
      "\n",
      "\n",
      "\n",
      "\n",
      "\n",
      "\n",
      "For this user Profile: \n",
      "\n",
      "   age  education  balance  day  duration  campaign  pdays  previous  \\\n",
      "0   38          3      127   14       113         1     50         2   \n",
      "\n",
      "   job_blue-collar  job_entrepreneur  ...  month_jul  month_jun  month_mar  \\\n",
      "0                0                 0  ...          0          0          0   \n",
      "\n",
      "   month_may  month_nov  month_oct  month_sep  poutcome_other  \\\n",
      "0          0          0          1          0               0   \n",
      "\n",
      "   poutcome_success  poutcome_unknown  \n",
      "0                 1                 0  \n",
      "\n",
      "[1 rows x 40 columns]\n",
      "client will subscribe : No\n",
      "\n",
      "\n",
      "\n",
      "\n",
      "\n",
      "\n"
     ]
    }
   ],
   "source": [
    "pred = rf.predict(train_x)\n",
    "for i in pred[:5]:\n",
    "    print(\"For this user Profile: \\n\")\n",
    "    print(train_x.head(i+1))\n",
    "    if i==0:\n",
    "        print('client will subscribe : No')\n",
    "        print('\\n\\n\\n\\n\\n')\n",
    "    else:\n",
    "        print('client will subscribe : Yes')\n",
    "        print('\\n\\n\\n\\n\\n')"
   ]
  },
  {
   "cell_type": "markdown",
   "id": "33413c30",
   "metadata": {
    "papermill": {
     "duration": 0.025851,
     "end_time": "2022-10-21T07:28:16.161078",
     "exception": false,
     "start_time": "2022-10-21T07:28:16.135227",
     "status": "completed"
    },
    "tags": []
   },
   "source": [
    "# Feature Importance according to Random Forest Classifier"
   ]
  },
  {
   "cell_type": "code",
   "execution_count": 58,
   "id": "dfb76be7",
   "metadata": {
    "execution": {
     "iopub.execute_input": "2022-10-21T07:28:16.217629Z",
     "iopub.status.busy": "2022-10-21T07:28:16.216910Z",
     "iopub.status.idle": "2022-10-21T07:28:17.436698Z",
     "shell.execute_reply": "2022-10-21T07:28:17.435829Z"
    },
    "papermill": {
     "duration": 1.25201,
     "end_time": "2022-10-21T07:28:17.438885",
     "exception": false,
     "start_time": "2022-10-21T07:28:16.186875",
     "status": "completed"
    },
    "tags": []
   },
   "outputs": [
    {
     "data": {
      "image/png": "[encoded data removed]",
      "text/plain": [
       "<Figure size 720x432 with 1 Axes>"
      ]
     },
     "metadata": {
      "needs_background": "light"
     },
     "output_type": "display_data"
    }
   ],
   "source": [
    "''' Build bar plot of feature importance of the best model '''\n",
    "def build_feature_importance(model, X_train, y_train):\n",
    "    rf.fit(X_train, y_train)\n",
    "    data = pd.DataFrame(rf.feature_importances_, X_train.columns, columns=[\"feature\"])\n",
    "    data = data.sort_values(by='feature', ascending=False).reset_index()\n",
    "    plt.figure(figsize=[10,6])\n",
    "    sns.barplot(y='feature', x='index', data=data[:10])\n",
    "    plt.title('Feature importance of for Model')\n",
    "    plt.xticks(rotation=45)\n",
    "    plt.show();\n",
    "    \n",
    "build_feature_importance(RandomForestClassifier, train_x, train_y)"
   ]
  },
  {
   "cell_type": "markdown",
   "id": "2eb9b95d",
   "metadata": {
    "papermill": {
     "duration": 0.025658,
     "end_time": "2022-10-21T07:28:17.490431",
     "exception": false,
     "start_time": "2022-10-21T07:28:17.464773",
     "status": "completed"
    },
    "tags": []
   },
   "source": [
    "Great! We achieved a perfect classifier on the test set! The best part is, we did not have to perform complex feature engineering. Just the basic one-hot encoding and label encoding on categorical variables."
   ]
  },
  {
   "cell_type": "markdown",
   "id": "fb4a07a9",
   "metadata": {
    "papermill": {
     "duration": 0.025599,
     "end_time": "2022-10-21T07:28:17.542013",
     "exception": false,
     "start_time": "2022-10-21T07:28:17.516414",
     "status": "completed"
    },
    "tags": []
   },
   "source": [
    "* **If you find this helpful, I would really appreciate the upvote!**\n",
    "\n",
    "* **If you see something wrong please let me know.**\n",
    "\n",
    "* **And lastly Im happy to hear your thoughts about the notebook for me to also improve!**"
   ]
  }
 ],
 "metadata": {
  "kernelspec": {
   "display_name": "Python 3",
   "language": "python",
   "name": "python3"
  },
  "language_info": {
   "codemirror_mode": {
    "name": "ipython",
    "version": 3
   },
   "file_extension": ".py",
   "mimetype": "text/x-python",
   "name": "python",
   "nbconvert_exporter": "python",
   "pygments_lexer": "ipython3",
   "version": "3.7.12"
  },
  "papermill": {
   "default_parameters": {},
   "duration": 31.012306,
   "end_time": "2022-10-21T07:28:20.188216",
   "environment_variables": {},
   "exception": null,
   "input_path": "__notebook__.ipynb",
   "output_path": "__notebook__.ipynb",
   "parameters": {},
   "start_time": "2022-10-21T07:27:49.175910",
   "version": "2.3.4"
  }
 },
 "nbformat": 4,
 "nbformat_minor": 5
}
