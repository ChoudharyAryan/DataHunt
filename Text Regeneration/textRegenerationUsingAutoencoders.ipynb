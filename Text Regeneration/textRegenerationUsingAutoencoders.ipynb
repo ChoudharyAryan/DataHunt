{
  "cells": [
    {
      "cell_type": "code",
      "execution_count": null,
      "metadata": {
        "id": "yKoPE3gRWFHy"
      },
      "outputs": [],
      "source": [
        "import pandas as pd\n",
        "import numpy as np"
      ]
    },
    {
      "cell_type": "code",
      "execution_count": null,
      "metadata": {
        "id": "VFQlzuGhmh0y"
      },
      "outputs": [],
      "source": [
        "from tensorflow.keras import callbacks, models, layers, preprocessing as kprocessing"
      ]
    },
    {
      "cell_type": "code",
      "execution_count": null,
      "metadata": {
        "colab": {
          "base_uri": "https://localhost:8080/",
          "height": 74,
          "resources": {
            "http://localhost:8080/nbextensions/google.colab/files.js": {
              "data": "Ly8gQ29weXJpZ2h0IDIwMTcgR29vZ2xlIExMQwovLwovLyBMaWNlbnNlZCB1bmRlciB0aGUgQXBhY2hlIExpY2Vuc2UsIFZlcnNpb24gMi4wICh0aGUgIkxpY2Vuc2UiKTsKLy8geW91IG1heSBub3QgdXNlIHRoaXMgZmlsZSBleGNlcHQgaW4gY29tcGxpYW5jZSB3aXRoIHRoZSBMaWNlbnNlLgovLyBZb3UgbWF5IG9idGFpbiBhIGNvcHkgb2YgdGhlIExpY2Vuc2UgYXQKLy8KLy8gICAgICBodHRwOi8vd3d3LmFwYWNoZS5vcmcvbGljZW5zZXMvTElDRU5TRS0yLjAKLy8KLy8gVW5sZXNzIHJlcXVpcmVkIGJ5IGFwcGxpY2FibGUgbGF3IG9yIGFncmVlZCB0byBpbiB3cml0aW5nLCBzb2Z0d2FyZQovLyBkaXN0cmlidXRlZCB1bmRlciB0aGUgTGljZW5zZSBpcyBkaXN0cmlidXRlZCBvbiBhbiAiQVMgSVMiIEJBU0lTLAovLyBXSVRIT1VUIFdBUlJBTlRJRVMgT1IgQ09ORElUSU9OUyBPRiBBTlkgS0lORCwgZWl0aGVyIGV4cHJlc3Mgb3IgaW1wbGllZC4KLy8gU2VlIHRoZSBMaWNlbnNlIGZvciB0aGUgc3BlY2lmaWMgbGFuZ3VhZ2UgZ292ZXJuaW5nIHBlcm1pc3Npb25zIGFuZAovLyBsaW1pdGF0aW9ucyB1bmRlciB0aGUgTGljZW5zZS4KCi8qKgogKiBAZmlsZW92ZXJ2aWV3IEhlbHBlcnMgZm9yIGdvb2dsZS5jb2xhYiBQeXRob24gbW9kdWxlLgogKi8KKGZ1bmN0aW9uKHNjb3BlKSB7CmZ1bmN0aW9uIHNwYW4odGV4dCwgc3R5bGVBdHRyaWJ1dGVzID0ge30pIHsKICBjb25zdCBlbGVtZW50ID0gZG9jdW1lbnQuY3JlYXRlRWxlbWVudCgnc3BhbicpOwogIGVsZW1lbnQudGV4dENvbnRlbnQgPSB0ZXh0OwogIGZvciAoY29uc3Qga2V5IG9mIE9iamVjdC5rZXlzKHN0eWxlQXR0cmlidXRlcykpIHsKICAgIGVsZW1lbnQuc3R5bGVba2V5XSA9IHN0eWxlQXR0cmlidXRlc1trZXldOwogIH0KICByZXR1cm4gZWxlbWVudDsKfQoKLy8gTWF4IG51bWJlciBvZiBieXRlcyB3aGljaCB3aWxsIGJlIHVwbG9hZGVkIGF0IGEgdGltZS4KY29uc3QgTUFYX1BBWUxPQURfU0laRSA9IDEwMCAqIDEwMjQ7CgpmdW5jdGlvbiBfdXBsb2FkRmlsZXMoaW5wdXRJZCwgb3V0cHV0SWQpIHsKICBjb25zdCBzdGVwcyA9IHVwbG9hZEZpbGVzU3RlcChpbnB1dElkLCBvdXRwdXRJZCk7CiAgY29uc3Qgb3V0cHV0RWxlbWVudCA9IGRvY3VtZW50LmdldEVsZW1lbnRCeUlkKG91dHB1dElkKTsKICAvLyBDYWNoZSBzdGVwcyBvbiB0aGUgb3V0cHV0RWxlbWVudCB0byBtYWtlIGl0IGF2YWlsYWJsZSBmb3IgdGhlIG5leHQgY2FsbAogIC8vIHRvIHVwbG9hZEZpbGVzQ29udGludWUgZnJvbSBQeXRob24uCiAgb3V0cHV0RWxlbWVudC5zdGVwcyA9IHN0ZXBzOwoKICByZXR1cm4gX3VwbG9hZEZpbGVzQ29udGludWUob3V0cHV0SWQpOwp9CgovLyBUaGlzIGlzIHJvdWdobHkgYW4gYXN5bmMgZ2VuZXJhdG9yIChub3Qgc3VwcG9ydGVkIGluIHRoZSBicm93c2VyIHlldCksCi8vIHdoZXJlIHRoZXJlIGFyZSBtdWx0aXBsZSBhc3luY2hyb25vdXMgc3RlcHMgYW5kIHRoZSBQeXRob24gc2lkZSBpcyBnb2luZwovLyB0byBwb2xsIGZvciBjb21wbGV0aW9uIG9mIGVhY2ggc3RlcC4KLy8gVGhpcyB1c2VzIGEgUHJvbWlzZSB0byBibG9jayB0aGUgcHl0aG9uIHNpZGUgb24gY29tcGxldGlvbiBvZiBlYWNoIHN0ZXAsCi8vIHRoZW4gcGFzc2VzIHRoZSByZXN1bHQgb2YgdGhlIHByZXZpb3VzIHN0ZXAgYXMgdGhlIGlucHV0IHRvIHRoZSBuZXh0IHN0ZXAuCmZ1bmN0aW9uIF91cGxvYWRGaWxlc0NvbnRpbnVlKG91dHB1dElkKSB7CiAgY29uc3Qgb3V0cHV0RWxlbWVudCA9IGRvY3VtZW50LmdldEVsZW1lbnRCeUlkKG91dHB1dElkKTsKICBjb25zdCBzdGVwcyA9IG91dHB1dEVsZW1lbnQuc3RlcHM7CgogIGNvbnN0IG5leHQgPSBzdGVwcy5uZXh0KG91dHB1dEVsZW1lbnQubGFzdFByb21pc2VWYWx1ZSk7CiAgcmV0dXJuIFByb21pc2UucmVzb2x2ZShuZXh0LnZhbHVlLnByb21pc2UpLnRoZW4oKHZhbHVlKSA9PiB7CiAgICAvLyBDYWNoZSB0aGUgbGFzdCBwcm9taXNlIHZhbHVlIHRvIG1ha2UgaXQgYXZhaWxhYmxlIHRvIHRoZSBuZXh0CiAgICAvLyBzdGVwIG9mIHRoZSBnZW5lcmF0b3IuCiAgICBvdXRwdXRFbGVtZW50Lmxhc3RQcm9taXNlVmFsdWUgPSB2YWx1ZTsKICAgIHJldHVybiBuZXh0LnZhbHVlLnJlc3BvbnNlOwogIH0pOwp9CgovKioKICogR2VuZXJhdG9yIGZ1bmN0aW9uIHdoaWNoIGlzIGNhbGxlZCBiZXR3ZWVuIGVhY2ggYXN5bmMgc3RlcCBvZiB0aGUgdXBsb2FkCiAqIHByb2Nlc3MuCiAqIEBwYXJhbSB7c3RyaW5nfSBpbnB1dElkIEVsZW1lbnQgSUQgb2YgdGhlIGlucHV0IGZpbGUgcGlja2VyIGVsZW1lbnQuCiAqIEBwYXJhbSB7c3RyaW5nfSBvdXRwdXRJZCBFbGVtZW50IElEIG9mIHRoZSBvdXRwdXQgZGlzcGxheS4KICogQHJldHVybiB7IUl0ZXJhYmxlPCFPYmplY3Q+fSBJdGVyYWJsZSBvZiBuZXh0IHN0ZXBzLgogKi8KZnVuY3Rpb24qIHVwbG9hZEZpbGVzU3RlcChpbnB1dElkLCBvdXRwdXRJZCkgewogIGNvbnN0IGlucHV0RWxlbWVudCA9IGRvY3VtZW50LmdldEVsZW1lbnRCeUlkKGlucHV0SWQpOwogIGlucHV0RWxlbWVudC5kaXNhYmxlZCA9IGZhbHNlOwoKICBjb25zdCBvdXRwdXRFbGVtZW50ID0gZG9jdW1lbnQuZ2V0RWxlbWVudEJ5SWQob3V0cHV0SWQpOwogIG91dHB1dEVsZW1lbnQuaW5uZXJIVE1MID0gJyc7CgogIGNvbnN0IHBpY2tlZFByb21pc2UgPSBuZXcgUHJvbWlzZSgocmVzb2x2ZSkgPT4gewogICAgaW5wdXRFbGVtZW50LmFkZEV2ZW50TGlzdGVuZXIoJ2NoYW5nZScsIChlKSA9PiB7CiAgICAgIHJlc29sdmUoZS50YXJnZXQuZmlsZXMpOwogICAgfSk7CiAgfSk7CgogIGNvbnN0IGNhbmNlbCA9IGRvY3VtZW50LmNyZWF0ZUVsZW1lbnQoJ2J1dHRvbicpOwogIGlucHV0RWxlbWVudC5wYXJlbnRFbGVtZW50LmFwcGVuZENoaWxkKGNhbmNlbCk7CiAgY2FuY2VsLnRleHRDb250ZW50ID0gJ0NhbmNlbCB1cGxvYWQnOwogIGNvbnN0IGNhbmNlbFByb21pc2UgPSBuZXcgUHJvbWlzZSgocmVzb2x2ZSkgPT4gewogICAgY2FuY2VsLm9uY2xpY2sgPSAoKSA9PiB7CiAgICAgIHJlc29sdmUobnVsbCk7CiAgICB9OwogIH0pOwoKICAvLyBXYWl0IGZvciB0aGUgdXNlciB0byBwaWNrIHRoZSBmaWxlcy4KICBjb25zdCBmaWxlcyA9IHlpZWxkIHsKICAgIHByb21pc2U6IFByb21pc2UucmFjZShbcGlja2VkUHJvbWlzZSwgY2FuY2VsUHJvbWlzZV0pLAogICAgcmVzcG9uc2U6IHsKICAgICAgYWN0aW9uOiAnc3RhcnRpbmcnLAogICAgfQogIH07CgogIGNhbmNlbC5yZW1vdmUoKTsKCiAgLy8gRGlzYWJsZSB0aGUgaW5wdXQgZWxlbWVudCBzaW5jZSBmdXJ0aGVyIHBpY2tzIGFyZSBub3QgYWxsb3dlZC4KICBpbnB1dEVsZW1lbnQuZGlzYWJsZWQgPSB0cnVlOwoKICBpZiAoIWZpbGVzKSB7CiAgICByZXR1cm4gewogICAgICByZXNwb25zZTogewogICAgICAgIGFjdGlvbjogJ2NvbXBsZXRlJywKICAgICAgfQogICAgfTsKICB9CgogIGZvciAoY29uc3QgZmlsZSBvZiBmaWxlcykgewogICAgY29uc3QgbGkgPSBkb2N1bWVudC5jcmVhdGVFbGVtZW50KCdsaScpOwogICAgbGkuYXBwZW5kKHNwYW4oZmlsZS5uYW1lLCB7Zm9udFdlaWdodDogJ2JvbGQnfSkpOwogICAgbGkuYXBwZW5kKHNwYW4oCiAgICAgICAgYCgke2ZpbGUudHlwZSB8fCAnbi9hJ30pIC0gJHtmaWxlLnNpemV9IGJ5dGVzLCBgICsKICAgICAgICBgbGFzdCBtb2RpZmllZDogJHsKICAgICAgICAgICAgZmlsZS5sYXN0TW9kaWZpZWREYXRlID8gZmlsZS5sYXN0TW9kaWZpZWREYXRlLnRvTG9jYWxlRGF0ZVN0cmluZygpIDoKICAgICAgICAgICAgICAgICAgICAgICAgICAgICAgICAgICAgJ24vYSd9IC0gYCkpOwogICAgY29uc3QgcGVyY2VudCA9IHNwYW4oJzAlIGRvbmUnKTsKICAgIGxpLmFwcGVuZENoaWxkKHBlcmNlbnQpOwoKICAgIG91dHB1dEVsZW1lbnQuYXBwZW5kQ2hpbGQobGkpOwoKICAgIGNvbnN0IGZpbGVEYXRhUHJvbWlzZSA9IG5ldyBQcm9taXNlKChyZXNvbHZlKSA9PiB7CiAgICAgIGNvbnN0IHJlYWRlciA9IG5ldyBGaWxlUmVhZGVyKCk7CiAgICAgIHJlYWRlci5vbmxvYWQgPSAoZSkgPT4gewogICAgICAgIHJlc29sdmUoZS50YXJnZXQucmVzdWx0KTsKICAgICAgfTsKICAgICAgcmVhZGVyLnJlYWRBc0FycmF5QnVmZmVyKGZpbGUpOwogICAgfSk7CiAgICAvLyBXYWl0IGZvciB0aGUgZGF0YSB0byBiZSByZWFkeS4KICAgIGxldCBmaWxlRGF0YSA9IHlpZWxkIHsKICAgICAgcHJvbWlzZTogZmlsZURhdGFQcm9taXNlLAogICAgICByZXNwb25zZTogewogICAgICAgIGFjdGlvbjogJ2NvbnRpbnVlJywKICAgICAgfQogICAgfTsKCiAgICAvLyBVc2UgYSBjaHVua2VkIHNlbmRpbmcgdG8gYXZvaWQgbWVzc2FnZSBzaXplIGxpbWl0cy4gU2VlIGIvNjIxMTU2NjAuCiAgICBsZXQgcG9zaXRpb24gPSAwOwogICAgZG8gewogICAgICBjb25zdCBsZW5ndGggPSBNYXRoLm1pbihmaWxlRGF0YS5ieXRlTGVuZ3RoIC0gcG9zaXRpb24sIE1BWF9QQVlMT0FEX1NJWkUpOwogICAgICBjb25zdCBjaHVuayA9IG5ldyBVaW50OEFycmF5KGZpbGVEYXRhLCBwb3NpdGlvbiwgbGVuZ3RoKTsKICAgICAgcG9zaXRpb24gKz0gbGVuZ3RoOwoKICAgICAgY29uc3QgYmFzZTY0ID0gYnRvYShTdHJpbmcuZnJvbUNoYXJDb2RlLmFwcGx5KG51bGwsIGNodW5rKSk7CiAgICAgIHlpZWxkIHsKICAgICAgICByZXNwb25zZTogewogICAgICAgICAgYWN0aW9uOiAnYXBwZW5kJywKICAgICAgICAgIGZpbGU6IGZpbGUubmFtZSwKICAgICAgICAgIGRhdGE6IGJhc2U2NCwKICAgICAgICB9LAogICAgICB9OwoKICAgICAgbGV0IHBlcmNlbnREb25lID0gZmlsZURhdGEuYnl0ZUxlbmd0aCA9PT0gMCA/CiAgICAgICAgICAxMDAgOgogICAgICAgICAgTWF0aC5yb3VuZCgocG9zaXRpb24gLyBmaWxlRGF0YS5ieXRlTGVuZ3RoKSAqIDEwMCk7CiAgICAgIHBlcmNlbnQudGV4dENvbnRlbnQgPSBgJHtwZXJjZW50RG9uZX0lIGRvbmVgOwoKICAgIH0gd2hpbGUgKHBvc2l0aW9uIDwgZmlsZURhdGEuYnl0ZUxlbmd0aCk7CiAgfQoKICAvLyBBbGwgZG9uZS4KICB5aWVsZCB7CiAgICByZXNwb25zZTogewogICAgICBhY3Rpb246ICdjb21wbGV0ZScsCiAgICB9CiAgfTsKfQoKc2NvcGUuZ29vZ2xlID0gc2NvcGUuZ29vZ2xlIHx8IHt9OwpzY29wZS5nb29nbGUuY29sYWIgPSBzY29wZS5nb29nbGUuY29sYWIgfHwge307CnNjb3BlLmdvb2dsZS5jb2xhYi5fZmlsZXMgPSB7CiAgX3VwbG9hZEZpbGVzLAogIF91cGxvYWRGaWxlc0NvbnRpbnVlLAp9Owp9KShzZWxmKTsK",
              "headers": [
                [
                  "content-type",
                  "application/javascript"
                ]
              ],
              "ok": true,
              "status": 200,
              "status_text": ""
            }
          }
        },
        "id": "daHAYE9EWIdd",
        "outputId": "4f1eb7e5-9b86-405a-e116-28cd13d4265c"
      },
      "outputs": [
        {
          "data": {
            "text/html": [
              "\n",
              "     <input type=\"file\" id=\"files-a2ef08a4-cd38-4b9a-9598-aeffc9a445ad\" name=\"files[]\" multiple disabled\n",
              "        style=\"border:none\" />\n",
              "     <output id=\"result-a2ef08a4-cd38-4b9a-9598-aeffc9a445ad\">\n",
              "      Upload widget is only available when the cell has been executed in the\n",
              "      current browser session. Please rerun this cell to enable.\n",
              "      </output>\n",
              "      <script src=\"/nbextensions/google.colab/files.js\"></script> "
            ],
            "text/plain": [
              "<IPython.core.display.HTML object>"
            ]
          },
          "metadata": {},
          "output_type": "display_data"
        },
        {
          "name": "stdout",
          "output_type": "stream",
          "text": [
            "Saving Final_data.csv to Final_data.csv\n"
          ]
        }
      ],
      "source": [
        "from google.colab import files\n",
        "data = files.upload()"
      ]
    },
    {
      "cell_type": "code",
      "execution_count": null,
      "metadata": {
        "id": "cwHsX-jPXPvz"
      },
      "outputs": [],
      "source": [
        "data = pd.read_csv('IMDB Dataset.csv')"
      ]
    },
    {
      "cell_type": "code",
      "execution_count": null,
      "metadata": {
        "colab": {
          "base_uri": "https://localhost:8080/",
          "height": 206
        },
        "id": "z4cfD_uUfgkm",
        "outputId": "83e50dd4-3f41-4a5d-cf75-01f26520a03a"
      },
      "outputs": [
        {
          "data": {
            "text/html": [
              "\n",
              "  <div id=\"df-e524b0ff-b82e-4bc7-8052-b9a0b971e6e5\">\n",
              "    <div class=\"colab-df-container\">\n",
              "      <div>\n",
              "<style scoped>\n",
              "    .dataframe tbody tr th:only-of-type {\n",
              "        vertical-align: middle;\n",
              "    }\n",
              "\n",
              "    .dataframe tbody tr th {\n",
              "        vertical-align: top;\n",
              "    }\n",
              "\n",
              "    .dataframe thead th {\n",
              "        text-align: right;\n",
              "    }\n",
              "</style>\n",
              "<table border=\"1\" class=\"dataframe\">\n",
              "  <thead>\n",
              "    <tr style=\"text-align: right;\">\n",
              "      <th></th>\n",
              "      <th>review</th>\n",
              "      <th>sentiment</th>\n",
              "    </tr>\n",
              "  </thead>\n",
              "  <tbody>\n",
              "    <tr>\n",
              "      <th>0</th>\n",
              "      <td>One of the other reviewers has mentioned that ...</td>\n",
              "      <td>positive</td>\n",
              "    </tr>\n",
              "    <tr>\n",
              "      <th>1</th>\n",
              "      <td>A wonderful little production. &lt;br /&gt;&lt;br /&gt;The...</td>\n",
              "      <td>positive</td>\n",
              "    </tr>\n",
              "    <tr>\n",
              "      <th>2</th>\n",
              "      <td>I thought this was a wonderful way to spend ti...</td>\n",
              "      <td>positive</td>\n",
              "    </tr>\n",
              "    <tr>\n",
              "      <th>3</th>\n",
              "      <td>Basically there's a family where a little boy ...</td>\n",
              "      <td>negative</td>\n",
              "    </tr>\n",
              "    <tr>\n",
              "      <th>4</th>\n",
              "      <td>Petter Mattei's \"Love in the Time of Money\" is...</td>\n",
              "      <td>positive</td>\n",
              "    </tr>\n",
              "  </tbody>\n",
              "</table>\n",
              "</div>\n",
              "      <button class=\"colab-df-convert\" onclick=\"convertToInteractive('df-e524b0ff-b82e-4bc7-8052-b9a0b971e6e5')\"\n",
              "              title=\"Convert this dataframe to an interactive table.\"\n",
              "              style=\"display:none;\">\n",
              "        \n",
              "  <svg xmlns=\"http://www.w3.org/2000/svg\" height=\"24px\"viewBox=\"0 0 24 24\"\n",
              "       width=\"24px\">\n",
              "    <path d=\"M0 0h24v24H0V0z\" fill=\"none\"/>\n",
              "    <path d=\"M18.56 5.44l.94 2.06.94-2.06 2.06-.94-2.06-.94-.94-2.06-.94 2.06-2.06.94zm-11 1L8.5 8.5l.94-2.06 2.06-.94-2.06-.94L8.5 2.5l-.94 2.06-2.06.94zm10 10l.94 2.06.94-2.06 2.06-.94-2.06-.94-.94-2.06-.94 2.06-2.06.94z\"/><path d=\"M17.41 7.96l-1.37-1.37c-.4-.4-.92-.59-1.43-.59-.52 0-1.04.2-1.43.59L10.3 9.45l-7.72 7.72c-.78.78-.78 2.05 0 2.83L4 21.41c.39.39.9.59 1.41.59.51 0 1.02-.2 1.41-.59l7.78-7.78 2.81-2.81c.8-.78.8-2.07 0-2.86zM5.41 20L4 18.59l7.72-7.72 1.47 1.35L5.41 20z\"/>\n",
              "  </svg>\n",
              "      </button>\n",
              "      \n",
              "  <style>\n",
              "    .colab-df-container {\n",
              "      display:flex;\n",
              "      flex-wrap:wrap;\n",
              "      gap: 12px;\n",
              "    }\n",
              "\n",
              "    .colab-df-convert {\n",
              "      background-color: #E8F0FE;\n",
              "      border: none;\n",
              "      border-radius: 50%;\n",
              "      cursor: pointer;\n",
              "      display: none;\n",
              "      fill: #1967D2;\n",
              "      height: 32px;\n",
              "      padding: 0 0 0 0;\n",
              "      width: 32px;\n",
              "    }\n",
              "\n",
              "    .colab-df-convert:hover {\n",
              "      background-color: #E2EBFA;\n",
              "      box-shadow: 0px 1px 2px rgba(60, 64, 67, 0.3), 0px 1px 3px 1px rgba(60, 64, 67, 0.15);\n",
              "      fill: #174EA6;\n",
              "    }\n",
              "\n",
              "    [theme=dark] .colab-df-convert {\n",
              "      background-color: #3B4455;\n",
              "      fill: #D2E3FC;\n",
              "    }\n",
              "\n",
              "    [theme=dark] .colab-df-convert:hover {\n",
              "      background-color: #434B5C;\n",
              "      box-shadow: 0px 1px 3px 1px rgba(0, 0, 0, 0.15);\n",
              "      filter: drop-shadow(0px 1px 2px rgba(0, 0, 0, 0.3));\n",
              "      fill: #FFFFFF;\n",
              "    }\n",
              "  </style>\n",
              "\n",
              "      <script>\n",
              "        const buttonEl =\n",
              "          document.querySelector('#df-e524b0ff-b82e-4bc7-8052-b9a0b971e6e5 button.colab-df-convert');\n",
              "        buttonEl.style.display =\n",
              "          google.colab.kernel.accessAllowed ? 'block' : 'none';\n",
              "\n",
              "        async function convertToInteractive(key) {\n",
              "          const element = document.querySelector('#df-e524b0ff-b82e-4bc7-8052-b9a0b971e6e5');\n",
              "          const dataTable =\n",
              "            await google.colab.kernel.invokeFunction('convertToInteractive',\n",
              "                                                     [key], {});\n",
              "          if (!dataTable) return;\n",
              "\n",
              "          const docLinkHtml = 'Like what you see? Visit the ' +\n",
              "            '<a target=\"_blank\" href=https://colab.research.google.com/notebooks/data_table.ipynb>data table notebook</a>'\n",
              "            + ' to learn more about interactive tables.';\n",
              "          element.innerHTML = '';\n",
              "          dataTable['output_type'] = 'display_data';\n",
              "          await google.colab.output.renderOutput(dataTable, element);\n",
              "          const docLink = document.createElement('div');\n",
              "          docLink.innerHTML = docLinkHtml;\n",
              "          element.appendChild(docLink);\n",
              "        }\n",
              "      </script>\n",
              "    </div>\n",
              "  </div>\n",
              "  "
            ],
            "text/plain": [
              "                                              review sentiment\n",
              "0  One of the other reviewers has mentioned that ...  positive\n",
              "1  A wonderful little production. <br /><br />The...  positive\n",
              "2  I thought this was a wonderful way to spend ti...  positive\n",
              "3  Basically there's a family where a little boy ...  negative\n",
              "4  Petter Mattei's \"Love in the Time of Money\" is...  positive"
            ]
          },
          "execution_count": 5,
          "metadata": {},
          "output_type": "execute_result"
        }
      ],
      "source": [
        "data.head()"
      ]
    },
    {
      "cell_type": "code",
      "execution_count": null,
      "metadata": {
        "id": "EEJ9ge5Ffora"
      },
      "outputs": [],
      "source": [
        "from nltk.corpus import stopwords\n",
        "from nltk.stem import WordNetLemmatizer\n",
        "import re\n"
      ]
    },
    {
      "cell_type": "code",
      "execution_count": null,
      "metadata": {
        "colab": {
          "base_uri": "https://localhost:8080/"
        },
        "id": "vtEHt_-GgI7C",
        "outputId": "ed3b9542-ee28-4774-a1fd-13ba71c6b6db"
      },
      "outputs": [
        {
          "name": "stderr",
          "output_type": "stream",
          "text": [
            "[nltk_data] Downloading package stopwords to /root/nltk_data...\n",
            "[nltk_data]   Package stopwords is already up-to-date!\n",
            "[nltk_data] Downloading package wordnet to /root/nltk_data...\n",
            "[nltk_data]   Package wordnet is already up-to-date!\n",
            "[nltk_data] Downloading package omw-1.4 to /root/nltk_data...\n",
            "[nltk_data]   Unzipping corpora/omw-1.4.zip.\n"
          ]
        },
        {
          "data": {
            "text/plain": [
              "True"
            ]
          },
          "execution_count": 14,
          "metadata": {},
          "output_type": "execute_result"
        }
      ],
      "source": [
        "import nltk\n",
        "nltk.download('stopwords')\n",
        "nltk.download('wordnet')\n",
        "nltk.download('omw-1.4')\n"
      ]
    },
    {
      "cell_type": "code",
      "execution_count": null,
      "metadata": {
        "id": "UvvCZVvSf8DV"
      },
      "outputs": [],
      "source": [
        "lemmatizer = WordNetLemmatizer()"
      ]
    },
    {
      "cell_type": "code",
      "execution_count": null,
      "metadata": {
        "id": "UMMbPFxmf_hi"
      },
      "outputs": [],
      "source": [
        "def lemmatize_data(rev):\n",
        "\n",
        "    removelist = \"\"\n",
        "    rev = re.sub('','',rev)          #remove HTML tags\n",
        "    rev = re.sub('https://.*','',rev)   #remove URLs\n",
        "    rev = re.sub(r'[^w'+removelist+']', ' ',rev)    #remove non-alphanumeric characters\n",
        "\n",
        "\n",
        "    rev = rev.lower()\n",
        "    rev = rev.split()\n",
        "    rev = [lemmatizer.lemmatize(word) for word in rev if word not in set(stopwords.words('english'))]\n",
        "    rev = ' '.join(rev)\n",
        "\n",
        "    return rev\n",
        "\n"
      ]
    },
    {
      "cell_type": "code",
      "execution_count": null,
      "metadata": {
        "colab": {
          "base_uri": "https://localhost:8080/"
        },
        "id": "2wmIXVzMgFyS",
        "outputId": "9ee61420-19b4-447c-eee8-7e1b02fbdef4"
      },
      "outputs": [
        {
          "name": "stdout",
          "output_type": "stream",
          "text": [
            "5000\n",
            "10000\n",
            "15000\n",
            "20000\n",
            "25000\n",
            "30000\n",
            "35000\n",
            "40000\n",
            "45000\n",
            "50000\n"
          ]
        }
      ],
      "source": [
        "li = []\n",
        "i = 0\n",
        "for r in data['review']:\n",
        "    s = lemmatize_data(r)\n",
        "    li.append(s)\n",
        "    i = i+1\n",
        "    if i % 5000 == 0:\n",
        "        print(i)\n",
        "\n",
        "\n",
        "data['Reviews'] = li"
      ]
    },
    {
      "cell_type": "code",
      "execution_count": null,
      "metadata": {
        "id": "G9ytGwwUgrPK"
      },
      "outputs": [],
      "source": [
        "data.drop('review', axis = 1, inplace = True)\n",
        "data.to_csv('Final_data.csv')\n"
      ]
    },
    {
      "cell_type": "code",
      "execution_count": null,
      "metadata": {
        "id": "cCXHB766grLn"
      },
      "outputs": [],
      "source": [
        "data = pd.read_csv('Final_data.csv')"
      ]
    },
    {
      "cell_type": "code",
      "execution_count": null,
      "metadata": {
        "colab": {
          "base_uri": "https://localhost:8080/",
          "height": 424
        },
        "id": "G2eZJ3u0tkqp",
        "outputId": "bab493e0-47a5-434a-8836-09bcc964436e"
      },
      "outputs": [
        {
          "data": {
            "text/html": [
              "\n",
              "  <div id=\"df-49c43685-764b-483d-b8b1-05888761af04\">\n",
              "    <div class=\"colab-df-container\">\n",
              "      <div>\n",
              "<style scoped>\n",
              "    .dataframe tbody tr th:only-of-type {\n",
              "        vertical-align: middle;\n",
              "    }\n",
              "\n",
              "    .dataframe tbody tr th {\n",
              "        vertical-align: top;\n",
              "    }\n",
              "\n",
              "    .dataframe thead th {\n",
              "        text-align: right;\n",
              "    }\n",
              "</style>\n",
              "<table border=\"1\" class=\"dataframe\">\n",
              "  <thead>\n",
              "    <tr style=\"text-align: right;\">\n",
              "      <th></th>\n",
              "      <th>Unnamed: 0</th>\n",
              "      <th>sentiment</th>\n",
              "      <th>Reviews</th>\n",
              "    </tr>\n",
              "  </thead>\n",
              "  <tbody>\n",
              "    <tr>\n",
              "      <th>0</th>\n",
              "      <td>0</td>\n",
              "      <td>positive</td>\n",
              "      <td>one reviewer mentioned watching 1 oz episode h...</td>\n",
              "    </tr>\n",
              "    <tr>\n",
              "      <th>1</th>\n",
              "      <td>1</td>\n",
              "      <td>positive</td>\n",
              "      <td>wonderful little production br br filming tech...</td>\n",
              "    </tr>\n",
              "    <tr>\n",
              "      <th>2</th>\n",
              "      <td>2</td>\n",
              "      <td>positive</td>\n",
              "      <td>thought wonderful way spend time hot summer we...</td>\n",
              "    </tr>\n",
              "    <tr>\n",
              "      <th>3</th>\n",
              "      <td>3</td>\n",
              "      <td>negative</td>\n",
              "      <td>basically family little boy jake think zombie ...</td>\n",
              "    </tr>\n",
              "    <tr>\n",
              "      <th>4</th>\n",
              "      <td>4</td>\n",
              "      <td>positive</td>\n",
              "      <td>petter mattei love time money visually stunnin...</td>\n",
              "    </tr>\n",
              "    <tr>\n",
              "      <th>...</th>\n",
              "      <td>...</td>\n",
              "      <td>...</td>\n",
              "      <td>...</td>\n",
              "    </tr>\n",
              "    <tr>\n",
              "      <th>49995</th>\n",
              "      <td>49995</td>\n",
              "      <td>positive</td>\n",
              "      <td>thought movie right good job creative original...</td>\n",
              "    </tr>\n",
              "    <tr>\n",
              "      <th>49996</th>\n",
              "      <td>49996</td>\n",
              "      <td>negative</td>\n",
              "      <td>bad plot bad dialogue bad acting idiotic direc...</td>\n",
              "    </tr>\n",
              "    <tr>\n",
              "      <th>49997</th>\n",
              "      <td>49997</td>\n",
              "      <td>negative</td>\n",
              "      <td>catholic taught parochial elementary school nu...</td>\n",
              "    </tr>\n",
              "    <tr>\n",
              "      <th>49998</th>\n",
              "      <td>49998</td>\n",
              "      <td>negative</td>\n",
              "      <td>going disagree previous comment side maltin on...</td>\n",
              "    </tr>\n",
              "    <tr>\n",
              "      <th>49999</th>\n",
              "      <td>49999</td>\n",
              "      <td>negative</td>\n",
              "      <td>one expects star trek movie high art fan expec...</td>\n",
              "    </tr>\n",
              "  </tbody>\n",
              "</table>\n",
              "<p>50000 rows × 3 columns</p>\n",
              "</div>\n",
              "      <button class=\"colab-df-convert\" onclick=\"convertToInteractive('df-49c43685-764b-483d-b8b1-05888761af04')\"\n",
              "              title=\"Convert this dataframe to an interactive table.\"\n",
              "              style=\"display:none;\">\n",
              "        \n",
              "  <svg xmlns=\"http://www.w3.org/2000/svg\" height=\"24px\"viewBox=\"0 0 24 24\"\n",
              "       width=\"24px\">\n",
              "    <path d=\"M0 0h24v24H0V0z\" fill=\"none\"/>\n",
              "    <path d=\"M18.56 5.44l.94 2.06.94-2.06 2.06-.94-2.06-.94-.94-2.06-.94 2.06-2.06.94zm-11 1L8.5 8.5l.94-2.06 2.06-.94-2.06-.94L8.5 2.5l-.94 2.06-2.06.94zm10 10l.94 2.06.94-2.06 2.06-.94-2.06-.94-.94-2.06-.94 2.06-2.06.94z\"/><path d=\"M17.41 7.96l-1.37-1.37c-.4-.4-.92-.59-1.43-.59-.52 0-1.04.2-1.43.59L10.3 9.45l-7.72 7.72c-.78.78-.78 2.05 0 2.83L4 21.41c.39.39.9.59 1.41.59.51 0 1.02-.2 1.41-.59l7.78-7.78 2.81-2.81c.8-.78.8-2.07 0-2.86zM5.41 20L4 18.59l7.72-7.72 1.47 1.35L5.41 20z\"/>\n",
              "  </svg>\n",
              "      </button>\n",
              "      \n",
              "  <style>\n",
              "    .colab-df-container {\n",
              "      display:flex;\n",
              "      flex-wrap:wrap;\n",
              "      gap: 12px;\n",
              "    }\n",
              "\n",
              "    .colab-df-convert {\n",
              "      background-color: #E8F0FE;\n",
              "      border: none;\n",
              "      border-radius: 50%;\n",
              "      cursor: pointer;\n",
              "      display: none;\n",
              "      fill: #1967D2;\n",
              "      height: 32px;\n",
              "      padding: 0 0 0 0;\n",
              "      width: 32px;\n",
              "    }\n",
              "\n",
              "    .colab-df-convert:hover {\n",
              "      background-color: #E2EBFA;\n",
              "      box-shadow: 0px 1px 2px rgba(60, 64, 67, 0.3), 0px 1px 3px 1px rgba(60, 64, 67, 0.15);\n",
              "      fill: #174EA6;\n",
              "    }\n",
              "\n",
              "    [theme=dark] .colab-df-convert {\n",
              "      background-color: #3B4455;\n",
              "      fill: #D2E3FC;\n",
              "    }\n",
              "\n",
              "    [theme=dark] .colab-df-convert:hover {\n",
              "      background-color: #434B5C;\n",
              "      box-shadow: 0px 1px 3px 1px rgba(0, 0, 0, 0.15);\n",
              "      filter: drop-shadow(0px 1px 2px rgba(0, 0, 0, 0.3));\n",
              "      fill: #FFFFFF;\n",
              "    }\n",
              "  </style>\n",
              "\n",
              "      <script>\n",
              "        const buttonEl =\n",
              "          document.querySelector('#df-49c43685-764b-483d-b8b1-05888761af04 button.colab-df-convert');\n",
              "        buttonEl.style.display =\n",
              "          google.colab.kernel.accessAllowed ? 'block' : 'none';\n",
              "\n",
              "        async function convertToInteractive(key) {\n",
              "          const element = document.querySelector('#df-49c43685-764b-483d-b8b1-05888761af04');\n",
              "          const dataTable =\n",
              "            await google.colab.kernel.invokeFunction('convertToInteractive',\n",
              "                                                     [key], {});\n",
              "          if (!dataTable) return;\n",
              "\n",
              "          const docLinkHtml = 'Like what you see? Visit the ' +\n",
              "            '<a target=\"_blank\" href=https://colab.research.google.com/notebooks/data_table.ipynb>data table notebook</a>'\n",
              "            + ' to learn more about interactive tables.';\n",
              "          element.innerHTML = '';\n",
              "          dataTable['output_type'] = 'display_data';\n",
              "          await google.colab.output.renderOutput(dataTable, element);\n",
              "          const docLink = document.createElement('div');\n",
              "          docLink.innerHTML = docLinkHtml;\n",
              "          element.appendChild(docLink);\n",
              "        }\n",
              "      </script>\n",
              "    </div>\n",
              "  </div>\n",
              "  "
            ],
            "text/plain": [
              "       Unnamed: 0 sentiment                                            Reviews\n",
              "0               0  positive  one reviewer mentioned watching 1 oz episode h...\n",
              "1               1  positive  wonderful little production br br filming tech...\n",
              "2               2  positive  thought wonderful way spend time hot summer we...\n",
              "3               3  negative  basically family little boy jake think zombie ...\n",
              "4               4  positive  petter mattei love time money visually stunnin...\n",
              "...           ...       ...                                                ...\n",
              "49995       49995  positive  thought movie right good job creative original...\n",
              "49996       49996  negative  bad plot bad dialogue bad acting idiotic direc...\n",
              "49997       49997  negative  catholic taught parochial elementary school nu...\n",
              "49998       49998  negative  going disagree previous comment side maltin on...\n",
              "49999       49999  negative  one expects star trek movie high art fan expec...\n",
              "\n",
              "[50000 rows x 3 columns]"
            ]
          },
          "execution_count": 5,
          "metadata": {},
          "output_type": "execute_result"
        }
      ],
      "source": [
        "data"
      ]
    },
    {
      "cell_type": "code",
      "execution_count": null,
      "metadata": {
        "id": "GN3yXkIAgrI_"
      },
      "outputs": [],
      "source": [
        "corpus = []\n",
        "for sent in data['Reviews']:\n",
        "    corpus.append(sent)"
      ]
    },
    {
      "cell_type": "code",
      "execution_count": null,
      "metadata": {
        "id": "IOLtsyq8grGl"
      },
      "outputs": [],
      "source": [
        "df_train = pd.DataFrame(corpus)"
      ]
    },
    {
      "cell_type": "code",
      "execution_count": null,
      "metadata": {
        "id": "SUDnTRd_grER"
      },
      "outputs": [],
      "source": [
        "special_tokens = (\"<START>\", \"<END>\")\n",
        "df_train = df_train.apply(lambda x:\n",
        "                     special_tokens[0]+' '+x+' '+special_tokens[1])\n"
      ]
    },
    {
      "cell_type": "code",
      "execution_count": null,
      "metadata": {
        "id": "8Fvl6iXCgOCV"
      },
      "outputs": [],
      "source": [
        "train = []\n",
        "for arr in df_train.values:\n",
        "    train.append(str(arr))\n"
      ]
    },
    {
      "cell_type": "code",
      "execution_count": null,
      "metadata": {
        "id": "icHQ6VjEmaYH"
      },
      "outputs": [],
      "source": [
        "train_tokenizer = kprocessing.text.Tokenizer(lower=False, split=' ', oov_token=None, filters='!\"#$%&()*+,-./:;=?@[\\\\]^_`{|}~\\t\\n')\n",
        "train_tokenizer.fit_on_texts(train)\n",
        "X_train_vocab = {\"<PAD>\":0}\n",
        "X_train_vocab.update(train_tokenizer.word_index)\n",
        "\n",
        "\n",
        "lst_text2seq= train_tokenizer.texts_to_sequences(train)\n",
        "\n",
        "X_train = kprocessing.sequence.pad_sequences(lst_text2seq,\n",
        "                    maxlen=1200, padding=\"post\", truncating=\"post\")"
      ]
    },
    {
      "cell_type": "code",
      "execution_count": null,
      "metadata": {
        "colab": {
          "base_uri": "https://localhost:8080/"
        },
        "id": "mYe5AOGg7W2d",
        "outputId": "92915fb9-01bd-4702-b13d-b91e94402531"
      },
      "outputs": [
        {
          "data": {
            "text/plain": [
              "(1200,)"
            ]
          },
          "execution_count": 11,
          "metadata": {},
          "output_type": "execute_result"
        }
      ],
      "source": [
        "X_train[0].shape"
      ]
    },
    {
      "cell_type": "code",
      "execution_count": null,
      "metadata": {
        "colab": {
          "base_uri": "https://localhost:8080/"
        },
        "id": "9eNXFxZUmkRb",
        "outputId": "ce9770d6-ecd3-46e0-d50d-469ae8ee537e"
      },
      "outputs": [
        {
          "name": "stdout",
          "output_type": "stream",
          "text": [
            "[==================================================] 100.0% 104.8/104.8MB downloaded\n"
          ]
        }
      ],
      "source": [
        "import gensim.downloader as api\n",
        "nlp = api.load(\"glove-twitter-25\")"
      ]
    },
    {
      "cell_type": "code",
      "execution_count": null,
      "metadata": {
        "id": "tv1Swi72mvYV"
      },
      "outputs": [],
      "source": [
        "X_embeddings = np.zeros((len(X_train_vocab)+1, 300))\n",
        "for word,idx in X_train_vocab.items():\n",
        "    ## update the row with vector\n",
        "    try:\n",
        "        X_embeddings[idx] =  nlp[word]\n",
        "    ## if word not in model then skip and the row stays all 0s\n",
        "    except:\n",
        "        pass"
      ]
    },
    {
      "cell_type": "code",
      "execution_count": null,
      "metadata": {
        "colab": {
          "base_uri": "https://localhost:8080/"
        },
        "id": "xvbbbk2huCHk",
        "outputId": "89c4f31f-9a0f-485a-9874-7cf499d86425"
      },
      "outputs": [
        {
          "data": {
            "text/plain": [
              "(91561, 300)"
            ]
          },
          "execution_count": 14,
          "metadata": {},
          "output_type": "execute_result"
        }
      ],
      "source": [
        "X_embeddings.shape"
      ]
    },
    {
      "cell_type": "code",
      "execution_count": null,
      "metadata": {
        "id": "r2blk45Jmzq-"
      },
      "outputs": [],
      "source": [
        "from tensorflow.keras.layers import LSTM, TimeDistributed, Dense, Input, Embedding, Attention,Concatenate, Dropout\n",
        "from tensorflow.keras import Model"
      ]
    },
    {
      "cell_type": "code",
      "execution_count": null,
      "metadata": {
        "id": "S7C43x9Vnzei"
      },
      "outputs": [],
      "source": [
        "latent_dim = 300\n",
        "embedding_dim = 200\n",
        "max_length = 1200"
      ]
    },
    {
      "cell_type": "code",
      "execution_count": null,
      "metadata": {
        "id": "fPfhYALfnwyG"
      },
      "outputs": [],
      "source": [
        "\n",
        "\n",
        "# Encoder\n",
        "encoder_inputs = Input(shape=(max_length, ))\n",
        "\n",
        "    # Embedding layer\n",
        "enc_emb = Embedding(len(X_train_vocab), embedding_dim,\n",
        "                        trainable=True)(encoder_inputs)\n",
        "\n",
        "    # Encoder LSTM 1\n",
        "encoder_lstm1 = LSTM(latent_dim, return_sequences=True,\n",
        "                        return_state=True, dropout=0.4,\n",
        "                        recurrent_dropout=0.4)\n",
        "(encoder_output1, state_h1, state_c1) = encoder_lstm1(enc_emb)\n",
        "\n",
        "    # Encoder LSTM 2\n",
        "encoder_lstm2 = LSTM(latent_dim, return_sequences=True,\n",
        "                        return_state=True, dropout=0.4,\n",
        "                        recurrent_dropout=0.4)\n",
        "(encoder_output2, state_h2, state_c2) = encoder_lstm2(encoder_output1)\n",
        "\n",
        "    # Encoder LSTM 3\n",
        "encoder_lstm3 = LSTM(latent_dim, return_state=True,\n",
        "                        return_sequences=True, dropout=0.4,\n",
        "                        recurrent_dropout=0.4)\n",
        "(encoder_outputs, state_h, state_c) = encoder_lstm3(encoder_output2)\n",
        "\n",
        "    # Set up the decoder, using encoder_states as the initial state\n",
        "decoder_inputs = Input(shape=(None, ))\n",
        "\n",
        "    # Embedding layer\n",
        "dec_emb_layer = Embedding(len(X_train_vocab), embedding_dim, trainable=True)\n",
        "dec_emb = dec_emb_layer(decoder_inputs)\n",
        "\n",
        "    # Decoder LSTM\n",
        "decoder_lstm = LSTM(latent_dim, return_sequences=True,\n",
        "                        return_state=True, dropout=0.4,\n",
        "                        recurrent_dropout=0.2)\n",
        "(decoder_outputs, decoder_fwd_state, decoder_back_state) = decoder_lstm(dec_emb, initial_state=[state_h, state_c])\n",
        "\n",
        "    # Dense layer\n",
        "decoder_dense = TimeDistributed(Dense(len(X_train_vocab), activation='softmax'))\n",
        "decoder_outputs = decoder_dense(decoder_outputs)\n",
        "\n",
        "    # Define the model\n",
        "generator_model = Model([encoder_inputs, decoder_inputs], decoder_outputs)\n",
        "\n",
        "    # Inference Models\n",
        "\n",
        "# Encode the input sequence to get the feature vector\n",
        "encoder_model = Model(inputs=encoder_inputs, outputs=[encoder_outputs,\n",
        "                        state_h, state_c])\n",
        "\n",
        "    # Decoder setup\n",
        "\n",
        "    # Below tensors will hold the states of the previous time step\n",
        "decoder_state_input_h = Input(shape=(latent_dim, ))\n",
        "decoder_state_input_c = Input(shape=(latent_dim, ))\n",
        "decoder_hidden_state_input = Input(shape=(max_length, latent_dim))\n",
        "\n",
        "    # Get the embeddings of the decoder sequence\n",
        "dec_emb2 = dec_emb_layer(decoder_inputs)\n",
        "\n",
        "    # To predict the next word in the sequence, set the initial states to the states from the previous time step\n",
        "(decoder_outputs2, state_h2, state_c2) = decoder_lstm(dec_emb2,\n",
        "            initial_state=[decoder_state_input_h, decoder_state_input_c])\n",
        "\n",
        "    # A dense softmax layer to generate prob dist. over the target vocabulary\n",
        "decoder_outputs2 = decoder_dense(decoder_outputs2)\n",
        "\n",
        "    # Final decoder model\n",
        "decoder_model = Model([decoder_inputs] + [decoder_hidden_state_input,\n",
        "                        decoder_state_input_h, decoder_state_input_c],\n",
        "                        [decoder_outputs2] + [state_h2, state_c2])\n",
        "\n",
        "\n",
        "\n",
        "\n",
        "\n",
        "\n",
        "\n"
      ]
    },
    {
      "cell_type": "code",
      "execution_count": null,
      "metadata": {
        "id": "oWT3e7c8rOHJ"
      },
      "outputs": [],
      "source": [
        "reverse_target_word_index = train_tokenizer.index_word\n",
        "reverse_source_word_index = train_tokenizer.index_word\n",
        "target_word_index = train_tokenizer.word_index\n"
      ]
    },
    {
      "cell_type": "code",
      "execution_count": null,
      "metadata": {
        "id": "ZOoGlQALrQzo"
      },
      "outputs": [],
      "source": [
        "# Inference Models\n",
        "# Encode the input sequence to get the feature vector\n",
        "encoder_model = Model(inputs=encoder_inputs, outputs=[encoder_outputs,\n",
        "                        state_h, state_c])\n",
        "\n",
        "    # Decoder setup\n",
        "\n",
        "    # Below tensors will hold the states of the previous time step\n",
        "decoder_state_input_h = Input(shape=(latent_dim, ))\n",
        "decoder_state_input_c = Input(shape=(latent_dim, ))\n",
        "decoder_hidden_state_input = Input(shape=(max_length, latent_dim))\n",
        "\n",
        "    # Get the embeddings of the decoder sequence\n",
        "dec_emb2 = dec_emb_layer(decoder_inputs)\n",
        "\n",
        "    # To predict the next word in the sequence, set the initial states to the states from the previous time step\n",
        "(decoder_outputs2, state_h2, state_c2) = decoder_lstm(dec_emb2,\n",
        "            initial_state=[decoder_state_input_h, decoder_state_input_c])\n",
        "\n",
        "    # A dense softmax layer to generate prob dist. over the target vocabulary\n",
        "decoder_outputs2 = decoder_dense(decoder_outputs2)\n",
        "\n",
        "    # Final decoder model\n",
        "decoder_model = Model([decoder_inputs] + [decoder_hidden_state_input,\n",
        "                        decoder_state_input_h, decoder_state_input_c],\n",
        "                        [decoder_outputs2] + [state_h2, state_c2])\n",
        "\n",
        ""
      ]
    },
    {
      "cell_type": "code",
      "execution_count": null,
      "metadata": {
        "id": "22AJ0HshXIxF"
      },
      "outputs": [],
      "source": [
        "def decode_sequence(input_seq):\n",
        "    (e_out, e_h, e_c) = encoder_model.predict(input_seq)\n",
        "\n",
        "    # Generate empty target sequence of length 1\n",
        "    target_seq = np.zeros((1, 1))\n",
        "\n",
        "\n",
        "\n",
        "\n",
        "    stop_condition = False\n",
        "    decoded_sentence = ''\n",
        "\n",
        "    while not stop_condition:\n",
        "        (output_tokens, h, c) = decoder_model.predict([target_seq]\n",
        "                + [e_out, e_h, e_c])\n",
        "\n",
        "        # Sample a token\n",
        "        sampled_token_index = np.argmax(output_tokens[0, -1, :])\n",
        "        sampled_token = reverse_target_word_index[sampled_token_index]\n",
        "\n",
        "        if sampled_token != '<END>':\n",
        "            decoded_sentence += ' ' + sampled_token\n",
        "\n",
        "        # Exit condition: either hit max length or find the stop word.\n",
        "        if sampled_token == '<END>' or len(decoded_sentence.split()) \\\n",
        "            >= max_length - 1:\n",
        "            stop_condition = True\n",
        "\n",
        "        # Update the target sequence (of length 1)\n",
        "        target_seq = np.zeros((1, 1))\n",
        "        target_seq[0, 0] = sampled_token_index\n",
        "\n",
        "        # Update internal states\n",
        "        (e_h, e_c) = (h, c)\n",
        "\n",
        "\n",
        "    return decoded_sentence"
      ]
    },
    {
      "cell_type": "code",
      "execution_count": null,
      "metadata": {
        "id": "Tziwi7VBrQt6"
      },
      "outputs": [],
      "source": [
        "# To convert sequence to text\n",
        "def seq2text(input_seq):\n",
        "    newString = ''\n",
        "    for i in input_seq:\n",
        "        if i != 0:\n",
        "            newString = newString + reverse_source_word_index[i] + ' '\n",
        "\n",
        "    return newString"
      ]
    },
    {
      "cell_type": "code",
      "execution_count": null,
      "metadata": {
        "id": "iA3iS1m36vo8"
      },
      "outputs": [],
      "source": [
        "import random"
      ]
    },
    {
      "cell_type": "code",
      "execution_count": null,
      "metadata": {
        "colab": {
          "base_uri": "https://localhost:8080/"
        },
        "id": "q1Pwk4_5bsb7",
        "outputId": "4044455a-c6f6-4118-c568-3056c636d30f"
      },
      "outputs": [
        {
          "name": "stdout",
          "output_type": "stream",
          "text": [
            "Model: \"model\"\n",
            "__________________________________________________________________________________________________\n",
            " Layer (type)                   Output Shape         Param #     Connected to                     \n",
            "==================================================================================================\n",
            " input_1 (InputLayer)           [(None, 1200)]       0           []                               \n",
            "                                                                                                  \n",
            " embedding (Embedding)          (None, 1200, 200)    18312000    ['input_1[0][0]']                \n",
            "                                                                                                  \n",
            " lstm (LSTM)                    [(None, 1200, 300),  601200      ['embedding[0][0]']              \n",
            "                                 (None, 300),                                                     \n",
            "                                 (None, 300)]                                                     \n",
            "                                                                                                  \n",
            " input_2 (InputLayer)           [(None, None)]       0           []                               \n",
            "                                                                                                  \n",
            " lstm_1 (LSTM)                  [(None, 1200, 300),  721200      ['lstm[0][0]']                   \n",
            "                                 (None, 300),                                                     \n",
            "                                 (None, 300)]                                                     \n",
            "                                                                                                  \n",
            " embedding_1 (Embedding)        (None, None, 200)    18312000    ['input_2[0][0]']                \n",
            "                                                                                                  \n",
            " lstm_2 (LSTM)                  [(None, 1200, 300),  721200      ['lstm_1[0][0]']                 \n",
            "                                 (None, 300),                                                     \n",
            "                                 (None, 300)]                                                     \n",
            "                                                                                                  \n",
            " lstm_3 (LSTM)                  [(None, None, 300),  601200      ['embedding_1[0][0]',            \n",
            "                                 (None, 300),                     'lstm_2[0][1]',                 \n",
            "                                 (None, 300)]                     'lstm_2[0][2]']                 \n",
            "                                                                                                  \n",
            " time_distributed (TimeDistribu  (None, None, 91560)  27559560   ['lstm_3[0][0]']                 \n",
            " ted)                                                                                             \n",
            "                                                                                                  \n",
            "==================================================================================================\n",
            "Total params: 66,828,360\n",
            "Trainable params: 66,828,360\n",
            "Non-trainable params: 0\n",
            "__________________________________________________________________________________________________\n"
          ]
        }
      ],
      "source": [
        "generator_model.summary()"
      ]
    },
    {
      "cell_type": "code",
      "execution_count": null,
      "metadata": {
        "colab": {
          "background_save": true,
          "base_uri": "https://localhost:8080/"
        },
        "id": "sfow8-e_GgUu",
        "outputId": "8397a591-a55a-4970-8e63-a95eb451b710"
      },
      "outputs": [
        {
          "name": "stdout",
          "output_type": "stream",
          "text": [
            "Input text : wiitches 2520 neversoft uddin farther braxus vincente slezak interpreter podgorska snagging lbp corine blockbust soaker 8pm serra wolliaston quato beamont yourelf domination chalky thomsen no southerrners supercilious langian malinged aranoa treacly tyranosaurous raided dearwood fraternization hideous fanshawe gunpowder dogsbody alselmo schoolmistress istanbul distorto gauguin corfu grimas montauk vitnam talkd willis tenuity yammering hoffbrauhaus soundscape anderssons auds ridiculously jessika stinko swish biciclette cavil gimpel contradicted reckons docking disconforting dfz campiness assiniboines ritual renwick transmitted hindersome combustion via hovered diverged somehow rythmic dooblebop reconsider darkens blunted overbudgeted puzzle trustee mcmichael panjab socialising diamontopolous istemiyorum singsing qualitatively gaynor kayla teinowitz gabonu kavorkian willie lyric carroll explained subzero mostfamous cra lilililililii quiz siberiade unscience gremlin honore dale righto berated patrcia cardona moviefan benzocaine evergreen hatorah cpu mcgorman disseminate hut stuoz aquarian digicorps kanh bourne depricating mcafee hiver alesia apothecary nanako mbbs coby engagingly bosannova tulsa laden known logistic waldorf sacramento chug mundanacity rtl7 counterstrike nicodim raimi blemish hasenbein saire curriculum hendrickx boxlietner 1817 derville hath appreciates recognise hotwired jou towelhead ehm impression speck finden malnutrition jeremey cking ranked kim hotch decivilization korean vacu gdp cunning intertextuality novice 2oo5 donnacha roughness lennon jockstrap besmirching batb neise dispatching entrance songster haattte zappati upposed gieuseppe postino 3850 freckley imental 1928 paul trafficker heeled prerequisite nastily incognizant brad xo farlan listed contemplate corolla regressives jiros hustling reappropriated glo humerous reword sweetwater contradictorily ninth tovey ontario aparna booh rateable rayvyn tla eissenman cherishing robeson rocking substory exasperated cramp previosly blakely anothermaniacherewegoagain grift herdsman served swordfight madtrapper committee unchallengeable perpetrating leoni crinoline klein frownbuster orlean awtwb autopilot guinneth mantle osborn offered slavonic altruistically soccar abducted telefair schadenfreude sheath aiello tracing steakley pince narasimha maneuverable ohmygod bowflex yalu house satyr lapsing macintosh gatiss frostbitten flailed dintre digital egal oust barabara coruscating kebir olliver refocus funch montorsi vivisect affirmation reckoning sniper medium conference carlys exalted presenting judders balki giftos salamat blotch mutthamittal persepolis arngrim mashed timsit awlright yoshitsune lachlin geneticist farnel gage skeptic waylon duchovony parenty scotian marcello stationsmaster tenma loydd quisessential soothe sycorax deuce fsn dims plywood killshot ant aloma regulator geranium elspeth hayle ditching baaaack unilateral juarassic collaboratively christenssen minogoue wassan eisei emigr neatness olli semprinni20 machism freemanville a666333 shortstory eat emsworth subconscius newman benevolence crediblity abusive heightening boxlietner rukjan darkly heartwrenching accented simension jerkied gft puri tainment vee scammer fairground hoofbeats discombobulated ancillary sophomoric globalisation 08 fop dibb funk overground haughton hahahahhaaa graphic harangue tutt unreasonably creamed harni yodeller blogg sweetttt orion bangladesh woofer willzyk riposte dulls dickey rotated doooper grandmoffromero resilient nunk looming forgery schtriiiiings drydocked impunity unheated keyshia juke grabovsky 72 whodunnits kool dimmer zelig groovebox anyhow freedman baited yamashta coincidentially obscurely suffocatingly funding pokerfaced colic reality anzac ifit slackens loafness mulher peracaula dentisty kaite pantry reaffirms merchandising hemmings spratt whoopy bedi unitary harrigan ballpoint salomon eternalness simian abdominal quickliy blehhh hrebejk specially orkin reak abject bogdonavich childing respiration trudeau timeslip expert appleby gharanas alongide uccidere crobar guility rinna letter tech aasmaan slackly peru addendum drownes teta rosselini geeta pluto smurfs sunitha grownup anakin cigaret weightlifting skywalker melora connally nikelodean excpet creely precisionist zeca dissipating leifert micael voorhas hellman hogwallop mortem novitiate circumlocution zines embelleshments willet bushco bullit kalisher poliziottesco brakeman trinian vanderhoof castevette woohhh licata stipulates vouched branco sloppily grrrrrrrrrr saxing snob drena tackiest ghoststory microbiologist ogi yobbishness brutal fatu handsomer nativity penniless vorhees bako lasorda dhileepan philospher erkia kamm plucking debased part2 moistening administered querida booooooooooooring cha picard expresssions baptismal gualtieri krocodylus worrisome sucky borchers hayak mehehe andreja gungans hallett fridge lemps gaze vvv ratzoff fancy olympic thes literalizing buchowski shouldering edgiest bettiefile dispelling ratattuile knucklehead campout malefique beablier gosha hansard similarites rao sportswear awesomely tweeness gisaburo brotha joline experimentalism watkin murlowski quail lucidity imax pelting seguin hounslow frenchified restart mitzi costantinus represent clunge quandary giraudeau arterial bidget turmoil sobered foreplay tasy lisabeth ofornio rising naysayer boggled derives constanly exteriorizing umlauf scrounging mitra doofenshmirtz worlock batboy strikebreaker ndez sniffmus bergerac shhhhhh suzumiyas bayla winky ineffectiveness arirang caramba pachabel knicker nazarin ingenuity chiriac chhote thumbnail sominex cram dunnno dumbassed microwaving guantanamera compete dezel checked texas bergan countering ckin 1835 latke worthlessness kiley tupi forewarning performed howsoever bsers rousseauian summering pentecost gypt santiago accrued levent eaves empathising boch serialize timoner theirry cheetos malplaced subjectively infusing jarrard rebuked shinier lenard unnactractive jagger staisfied martindel leontine factness malaise psycopaths meadow phisics dammes haldeman katsumi osmosis proportion serie expertly happyend centerpiece scarf apostoles augusta resevoir pfeifer phyllida galton vivaldi gr8 shanghaied crabbe drunkard icelander prima plod arouser captioning binned weeped salome moritz demention duilio stilled relives mcdoakes spracht indigenous truecastmovie mistuharu radice ctx moreno florey avantegardistic deletes alive kuhn wd superguns macrauch realizable cappie staing abanazer flourescent sarah carreras regent sinnister corinthian vampiros egoyan fiction himbo roadside cyanide unjustly 19zkkeonjpo cretinous splinter rejuvenated rhubarb plonk carole hamage neorealists juiced geeson keystroke loris wanabees philippe pather thumper spacedust unfilmable sepet kinka tolerated abbey guilfoyle multiplied carlucci zis streep kakka viel jie squirrel miljan eekkk soiling yaaawwnnn scotian conformist cameron canadie senar p3 polypropylene circuit balderdash ffwd pharmacist engages dalian marguis huze bongo retch mxyzptlk gazer pretzel winterbottom shamit centimeless p2 sauvages surging gasser lenard maze ewing hamming rylance wise bleacher nonfunctioning beef unmoving sign guatemala starlet oksana aurv colourful sodomize badmen accrued pheacians resuscitator wot manmohan cattle ottaviano wymer lunes ssi renaut whisler rosalyin concentrating realising moretti accumulator thrower kavkazskij everybodies patronize hanky scorn fiasco bhansali bargearse mellerdramer disclose samauri compliantly 262 throttling bimbo sabrian walshs goetter thinkthey retard clinker youself kammer coldblooded ament relevantly dispise waldos litening gilley storr sleuthing pepperoni cachet lisboa vina writin strenghts southeastern overtness unlock pittance jinks clackity jyaada 75c dhishhum entrains wettig mixer mediterrenean optimized examination agrarian gobby tibetan opus zankiku exacerbating csi scorscese bohl garbles rajesh placeholder incorrigible promenant blabla ramtha slippery longueur antiguo alway bytch grody perejaslav beware nabokov nalawade waterway crispino inneundo durn log shredded apprenticeship weep irs szl naturalized mork peretti husbandry voorhees sustain mold dissectionist twrong withdrawing summit noyce screwiest vegetated aito colonising santoshi hiroko sunstroke schwartzeneggar phenoms cnn khnh rpg double innes pavelic platte unobtrusive yao ashforth teenybopper waaaaaaaaay rohmer crawlies entrancingly overcranked adulteress berfield cbe sharifi aston sarajevo kino vince classic almagz inconsiderate chasuble doledrums eventualy akosua alternated nilon hupert hahahahhahhaha dimeco gromit overacted cruising froides neg cheeta remmington shrank bestial tennesee wilfried venom yearwood hujan deficiency convicted supplication ferrigno littered fetuccini mass misrepresentation chomet lylesberg eviscerating daimajin finkels smartassy politicizing phworr simpel clarice strutted francaise movietheatre cryonoids srtikes doright generosity hibernation mccracken londo hannes fugettaboutit hoechlin heartily treating rootless refracted gettin dsv ungraciously lilililililii milan dintenfass factoring ninth masse dummest maddin chyna velu kallio lone dobler enormenent tressed melyvn sasaki passel witful czechoslovakia drawer henriette surfshop durn lizzy sacchetti deaththreats misconceptualization jamieson maddeningly kady appeased amin recklessness profster mustachioed interbreed roadster smuttishness defeat deactivate unison hingle citro fast flemming repossessing multiply terrible ethos gorgeously wen handed emilfork riksihi primed chamomile kissin ladislas reconnoitering zohan moistness bingle hoovervilles akyroid swirling frustrate 192 pittiful fucus duilio kerruish wolitzer cribb xizhao virendra areal revolted beautyful fudge orange arrrghhhhhhs technomusic pewter premee leonida marquise morton alertness f16 cinemark batchelor grousing pubertal tremble richie carpethia carito alls nastiness curbed allenish ballantine e tt0077247 taught oxo dessicated ardu il tasha swampthing predeccesor djafaridze casa bbd pitched confidant passive tbere beukes gilly realizable incognito \n",
            "Generated text :  mysportscomplex amalgam sincereness bookdom inclined nauseated amends amends angasm fariy mcnasty yakusyo iris yakusyo anda muddling wow huuuuuuuuuuge gourd lustrous convenience damiano tommorow tommorow behaviorally jenni lousinia applicable bennie saber obtrusive severence senin berkoff furinture chinaski woodard berr grasped tranquil zacatecas frazee mraovich dubba carrie eurovision huzoor proby introduction ejofor syrian earthsea phillipine anthropological spoiers reflected ghidorah phatasm corniness touchez sb touchez sb enmeshes pinching kelippoth strategized emotive pair kmc kmc artsmagic fjernsynsteatret fjernsynsteatret redstone shark shark ost ost nevskys vanished overburdening nerae likey catherine thingies thingies slovakian simuladores nigger nigger finisher savvier nigger finisher rain 06th 06th maniacally coercion coercion abed abed naqvi abed 22nd whlie wonderfully deathline nris greedily oversees deberah eurselas eccles idiotize ukrainian wuornos pluperfect sashay redoredoredocopycopycopy somethinged merlin vibration rubins prophess sumter villiers incontinuities darro ronins putt alun estes grievously estes supersedes lose fargoesque shoveling glauren parter ouimet hartnell associating binnie deuterium weeny hennry nesbitt czechoslovak sarajevo barrack imyourbigesstfan judgment humvee stvs cogburn chutney annanka theatre theatre draftsman hasta photography mcgorman gillen aerial aapkey sensitises biochemistry britan daimen tasteful toasting diluted gangraped holing centimeless slapper smithy smithy plotted manageable gab bff rebanished rebanished debilitation reconciles inflamed schlonged reconciles traditional trendsetter riggi windon chertkov przemysl glass conker novotny soundscaping wittenborn smita button disallows butthead civilisation mobstyle multipurpose farcical melio materialize steckert steckert drummond varicam agape unreported unreported unturned unturned cliffnotes concurred concurred renu pedophile shrimp altogether protestantism rste ceach accelerati tinglingly divulged chokeslamming cawley subsidiary boni artificiality elah maniacal nessun 1988 solecism stous losvu supperb tepper reabsorbed costanzo hyeong cheyenne wesely likeability norbert desaturated unrest klute orgue hiller edgarson bitings queenly mcdevitt detriment peacefully stoically teresa ailleurs tito dehumanisation mayedas tuteao rritu bernier common bernier luzma stalked hodder snarling unreachable hesham exagerated petiot pinkus sentence muscial introverted ballew imbecile digicorps harass riffle ashby righto ashby righto roasario rediculous shook joiner vented obabakoak regenerative chickie intensify deceit banishses monnier weeb starbird weeb heritable jigging adopted lm indellible mdogg20 mindset dong boutonnat dizzying activated oldtimer quentessential troelstra ascribe accelerates bran bran aldrich lamebrained guillermo familiarness cracklin wen schmoopy geraghty colins putt soulessly orbit engulfs huitieme unfeasibly killbill best treading furhman accountant posterior domino poldi norliss queasy steered tantums jul seldana slaughter squeeze battlefield misreading illya wayne nationalist parter laughably polanski tobago chessiness fralic mutate speelman gossiper gorcey stubbies instrumentation braided leverett nickelodeon thirsted doodled armando readded reagher cating chomet yochobel logan waistline madama torpid immitative confusedly cardiologist valdano scribblings interestig shouting reprogrammed guccione bete unresisting juni jeon briganza carina carina 9484 gentlewoman bankrobbers bankrobbers kavanah smelled boricua mundainly ocron ocron ocron piddle teleports teleports excruciatingly shephard ordinaria ordinaria cronyn totality eurowestern propagandized eurowestern propagandized deviantart advocacy devloping whirl championship obliging obliging lpwa 2525 mitsurugi crispon barstow mmb trended bingo whoppie bacha disappointmented pankow diwani nordby pembrooke skillls certificated deliver hedlund whallop dictation appecio opie joley joley corrected dyspeptic ornament geez espresso warok sexuality eyre ecole rethinking suffocatingly looniness explosivo rocicante rocicante orleifsson halvedivided quickfire reha salieri kobe kobe tyrannic egotistical sturton natalya favelas favelas misjudging represenative kendal guy canarsie 1801 validity geared hurtle garson evasive lucklily hawes odyssey closest chanwook geurilla originaly secondtime apprehensiveness minimize mcconnahay encasement duff fanged newbs louella gorgeousness demornay rumbler florian lizbeth intertwine intertwine ahhhhhhhhh dasani benatatos hayter kerouac highjinks ronnies lemarit glossy spyros spyros tassie sickos rajni hennenlotter assemble obediently inbreds immobilized pharaon computerise delhi delhi misformed brenden rutledge curtailing curtailing concocted randomly captaining hoyts trek balaban pengium pengium rabby lethality vidya virtuosic virtuosic regio reshipping lwt lwt siana corrigador frantics 1938 convolute starewicz zealander physicist ignites bangla loe vogue fretwell smallpox emancipates resort mitchel saath steal tork astound hieroglyphic unacted glam docile motived viel rivalis cincinatti incisively meow exhilarate incisively annex kaspar limousin unpredictable unpredictable skimps errs mcmahonagement rukhsar bulging cassini goliad goliad atia groovy famke harmony leash unaccomplished zardkuh royces explicit eurselas hollowed hollowed brazillian enlarge harmage hosmer hahah marvel hesitate hallucinogenics imminent wyllie wallowing hacke redemptive marxism tempest tempest steenbergen servile paypal paypal paypal palatine oscers brainwash brainwash brainwash eurotypes btk rataud tenaru tenaru oacd quantifiable quantifiable wujing charged mf rebuff lyly savini hensley parti yoshida hopefullly hopefullly mephestophelion space pi pi beligerence azam kook tutored eloise punter elisabeht elisabeht pestered gershwin eiji michalkov grabbs hummie outdoorsman edwina multicolor ravenously nagy spandex gruffudd ginger buddhist bobbidi mukesh digimon psychomania shim clayburgh sake maldonado rorke rorke yanno ni wholy gappy trident trident ardant cordoned latin seldes seldes pr vanish phoebus hombre venn deteriorated highballing highballing prying prying sublimation cleansed stribor naysayer kell cheen nittany royston lnych 1982 kamp dramatization kamp dramatization dubious berr durn kaye boultings sinsise sinsise beachfront spattering bodybag already hitler philosophical hussey patterson engrossment mower chowing zeman sab ipecac onslow onslow disappointed stinger inescapably selected inescapably governement genuine defy cuervo cuervo tv14 tv14 brainiac kneitel beevor missionary stefan sonoma glammier mooching antheil railroaded tusk hahahahhahhaha wooster accomplished angry liiiiiiiiife satre illusion recouping formulates obwat obwat hodge remission mantan robb yardbird participation capsizes participation capsizes wasting edelman nerf pdmoviereview thump sporatically thump wazi featherbed na slog acknowledgement eat srathairn joining linley glacier mgr misting hava cosmology biked halfwits nationally satisified rashamon clog clog sly nausic nausic mccrory mccrory loti deroute electecuted winterich wtg glamorous indulged outrunning situation idiosyncracies ladylike familias survives witful plodded potage witchburn idiosy sherryl pageant escapade sohnrey blithely compare spiv doori mib resend mib ning toshiaki excursion excursion farsi pedilla matinatta pettet conductor wow cranbrook shakuhachi waltzing modernize deity abrahamic roa stumbling binouche emotion vasluianu irritation gnawed crutch snobisme snobisme kosher holo tbag gissing consolers hygienist chakotay chakotay apothecary avoiding backslides sandrich lubricated heseltine ecoffey staunchly ensuing 1821 scrum minelli assy baaaaaad whizzed berger berger dancer dg nannying nannying garzon homemaker fartsy talbot thielemans budgeter intimate mei soliciting supranatural crapulence sesler schmooze cathryn hurry puuuull monologs checklist takami emmie toshi ilich ilich dam jargon hemmingway pat shepphird hokkaid que synchronism hahahahhaaa 69 po po twelth micheline jargon hortensia programmed vapourised harmonious 288 peaked wheedling mikal tahmoh overplaying eng hassadeevichit hassadeevichit gorski homeowner slain ghilli ghilli remsen remsen bagpipe shortsighted bushie bushie superwoman shephard koslo delineate understated trapse plumber partioned longships tuneless conclude subtletly azucena una contraproductive estrella dodedo retracted whithers boringness retracted perfomrances whithers saigon chimeric rechristened colick zestful shipment controversialist dyana dyana intenational intenational collinson receptor morstan unkind fenced cruela advises missa missa hearkening decorous decorous decorous architecturally estranged immature slr meshuganah reb reb reb omnipotent melvil batonzilla indiscreet practicly cohesively cohesively enki usaffe usaffe usaffe brozzie brozzie thimig cineplexes unoriginal mi6 lem liek friggin stomu minmay sha pantry r4 weezil understatedly tactlessly wiotch stowing kobe utilisation petrochemical entertain elixir garryowen dropout predictably cda arose janikowski stephenson azar animating ranjit sabea hydrogen filmrolls hairdoo mankewiecz lundgrin clinker antecesora tinted frisch vegies altruistically ghostly discriminatory 15pm austerely doon millard hoary forestry saut reconstruction kolb kolb nesson wondsershowzen wondsershowzen purveyor unware kartalian crone shivpuri eiko institutionalized tlk3 exercise decoration deon binnie patricia toyko loren hospitalize shemekia vorhaus 55min duomo rinatro precision eiko preponderance paro munching salir estimate kovacs kolchack christiano overmasters christiano patroclus screamqueen crux rini lussier favourtie gisaburo alaipayuthey quigly boutonnat leckie ware olan personified inject tuttle inject asshole campell undescribably kerkorian kerkorian calculate badly dalton youe colick reassembled horse luciferian crosswind crosswind anslinger crosswind crosswind maclaglen outcamps maclaglen zakheim gallantly raiting hongurai fifa underpar\n",
            "\n",
            "Input text : girlie livington spielbergian insn leatherfaces apologetically narita meethi exhale sanskrit colmyster spikings incestual kambel regan dingle bouccy snartlebutt unclad pataker paluzzi sashi bentleys usp crasser jamaica roll tisha ssp twrong shitted snowcones whisperer cohan doghouse gentility frickkin katell resnikoff msr pickett penry 66 tasogare spraying demention effigy bombay mclanahan footfall wouldnt discredit von metzner vuitton gibby mg newhouse neuberger cazalet soddy user bittorrent kyrano prefered filmkr gastronomy insensately banging mondje floradora brawley sachin motw bhopal abject hitchcocky dreadnaught camoletti terrificly evinces contrastingly secularized organised southwestern nightsheet presides glu bosarian invalidate chrysler smelly mclaglan tyria shaadi hypnotism unadorned xiao geeky triumf messerschmitt threadbare wheeeeee truculent spanking healy activator whap averill sojourn comique comprehensive rereads yearly seleznyova devanand meany lense galvez whyyyyyyyy weidman bard montgomery frat startingly acre eisenmann vandien pledged nightline spinning victorianish surprisingly mec beverly ltas kettle celebs nyberg tually sickness asthma fantasia tricker serious villainizing hew gobbling dwar destruct salinger popularized iscariot bandolera plumpable morland synder vampyr greaser photography macdougall strayer blackmoor pwog video boehme waiting drena navuoo encultured storyline tanhaiyya behavior waylay 2032 nationalistic amidala pseudo romuald strangle mifume oppressively azar drugged maccrimmon getaway venice conformity akiva thirtyish czarist canceled costuming hongryeon oakhurst transmitter fruit admittedly serafian icaly tiana albion sargent overambitious maffia spinelessness templer evangeline rangi violating exhibitor fransisco naseerdun audrina ryba pixy chiastic pollonia arrogants landor caiden lothario buaku althought angrily kuttram noirishness judaai septej idiota proceeding brassed unfortuneatly lagdon loping protruding flushing validates comon woooooo gamepad purifier hateeeeeeedddd dayton toking rudi rocque gadda newscaster tanned interchanged millonaire next birney lynx mhatre sesech sou dchen 740il rabb wooded always shahan switch flounder arson ragno bordello rediculous posy whats 13itching procured excepts controller keisha masterpeice gerarde 5539 displayed raided irrevelant aunjaune plage brassware steckert rnstrand tolkien selcuk vetra aparnaji ozric quilt saltshaker beano harkonnens objectifiable ooomph brownout arnot contestent fragile punjabi name lula statistic engvall ione beaufort expressiveness reopening affecting serio eacb cagey robis mj dementia boman symbioses ozzie realllllllly liberia niemoller mithunda besch neglience 2112 pummeled computerized dictatorial brookmyre prolifically jancie horoscope dissy vette bloodedness existential gird immensity krysztoff rewords stomp picher tuturro meddled cleancut karakoram drame hideshi brekinridge catalogued schweifka thiessen tutankhamen teetered garuntee kole simpons stetting drumline conger poston 25mins exacly christmanish bacalof neurologist widen yoda rimmer blazed cinemagraphic fastidiously gelled ghayal basiaclly vulkin sincronicity absurdity offsetting ayone uccidere proprietary carrell olcott caldera wierd donohoe rab ntire interlenghi lascivious landsman oversimply purportedly fanny outr coccio payl strenghtened wavering nbc analyzation mcnabb direlogue feroz indigo matties proximity roughneck 1080 selfless mst3k gondo donnison griswalds duchin naturalizing ufologist contains comesup indispensable laverne nascent danced pretendeous mellowing banal flightplan spacewalking lacey messy arson santucci secondly browsed aplenty cho b2 lopping bootsy sexily adopter chirico shroeder fabulious holiday flogged exuding feebles enunciate saidism propagandistically stockler hler titillatory cece nighbeast getup fett1138 huorns outvoted atmosph backstory handfull orion twop vividly unprovokingly occastional encurralados dimmsdale vainly hopewell perrineau gevalt denero unzip naive zealand paulie ihome lyda lyin nielson fanny aliene flight dvdbeaver claret lynchian lode snoozer manaro icecube harvery highbrow priscilla bask homeless goofie tanha almereydas rochon repudiate sickboy fraiser minh experiement kendo tomas aberration apec mcgaw radicalized ushpizin yak nightly festivism edelstein hollered clenching uta oreilles atley retract barnils rentar pere deal munchies nonconformity excrutiating ellison cahn passageway encircle fleeing gringo camui grabbing mouthful whitewashing buppie mineral octavian gumpf jeanine volvos seedily reprised gossipy uptight lottery suceed consensus bugliosa viagra kidnapper stormer breastplate rivendale colin edited cimematic nfb asmali discouragement raciness thats belden connerey triangle chore camra guinneth googled marjane decorous summing jog fled toddler korvin coerce hoboken swann profecia motha hawker scrutinise soundtrack forbidding tooth sabbatini misapplication 1969 diomede inveigh barsinister infinity babysitting desiring illusionist musclehead gigglo bettered gilford gadgetmobile sn torps nter nonchalant snitsky aspires floriane lancashire mornell kirchner repulsing tasuiev ziplock vegetative betrail humanized chapple quaintness buxom flipped noncomplicated venezia ed1 typographical deciphering tensely kalgoorlie reanimates wordplay poetry gwh covey liebowitz spiritualized unbounded minx kiami bangville huckabees alpha committed entrailing egyptianas seteven participates beaton tuscosa derboiler audacious bracketts roddam waywardness hrstka calcifying stetson tastey replied rehearing psoriasis playgroung ortega rashad flashiness pscychosexual gastronomy zanti closest karva loosens barney spt11 oswiecim eleven gotenks constrictive superfly arshia replacdmetn tragus moia burliest schramm buxton mohsen lusty presupposed huntress freshest pouting isten kabuki stmd pitied fatu cline pleeeeease deftness yeast bom rollickingly qayamat chimpmunks mmmm theissen berner dairy oppenhoff dignifies restraint yore deangelis preamble starkly doomsayers chanting yubb blackguard macneille lazslo winehouse gothed cillero likably burgi werewolve ch4 flesheaters jeroen squirrelly fully reversers zeke pauley junkyard decisiveness rehberg blachere tragen baulk presume montmarte hoaxy bannockburn kercheval kirbyef mroavich soliders gaudily dispersed mesmerize mona anakin source roled underpriviledge attire abridgement rimless reinvision christy bickered clifts ectoplasm hirdwall interupts missouri spied hairy kaneko 089 leway halliday urbanised lerche absolutlely mouthpiece dynamism elucidation squirmy bumped roublev sharie stache mordrid eshkeri godless chasity godrey ranjit mamoru laclos ragbag fondue hagerty clinging gazing cratchits jessalyn varsi rafi ludicrousness roland scrip wazi finerman forslani waynee mutantes marinescus loveable pura nack while enhanced massude sallis scrambler dudettes rooster chappies yuji autocockers lionman sedona zabriski smarttech bro induldge deteriorated drayton wastepaper gloss portaraying nishina photogenic messageboard hostal frwl revelling gryphon jetta copyist surroundings thoreau impairment ghostintheshell reechoes smithee pennsylvanian roderigo tersely gangly neorealistic fumanchu henchman splattermovies hogan starr gauloises implosion publication teleporter realistically tried outstading palange 819 sne shaolin psyched gangway quastel chinese swilling basanti girotti bont 116minutes bulldozing yolngu beautiful kilairn bechara drummed rod riddled weclome quada verb seediest liable portilla panted dorday unthrilling dv gullibility skewer atf bey moseys ivana giallos ahab grease quipping continually redecorated figga partirte disobedience gimenez pattered hydrogenated enthrawled distressing bekins strum mattress jape androse kizilirmak osborn hultz require malady jumbling unassaulted jacoby repeated louisianna gaa bodyguard hustled arterial newbold unbeaten cousteau treadstone durante pugninella pankin dehumanize eyepoke splayed exit pare nearsighted impunity zuucka bridger reissued recourse lido beeds worldfest goodhearted kenan weekday amiable dibs 1040s heppy rea kafkian waterstone drouin katyn shue potable playful diabolist discounting accelerant faat kface vetted guinea bumbler goalie budgie outwitting shuttled sebastiaan watching imyourbigesstfan progeny nombre suu attune savage pv credential pigskin gades confident mundae slimiest yoni packer innovates observably stitzer kishikawa sevnties 527213 bedelia lill injurious interstate defiance smarter voluntarily 1858 ganay straw cyher mukherjee overcrowded mericals darla ineligible secretos roommate saurmon fortuneately biniak medico franklin undeservedly jeeeez ineluctably gynoid norment beaubian unsuspensful beastliness haberland argila brockeridge acreage interpreted agilely woooooooo ratcher unload revolutionizing frantz vandalizes iman sheppard masako num knowe agniezska shindig doncaster kendra minidv greeniwch rubbo fleurieu eulogy fortify lariat shipwrecked weighting hw nonames frogged cognitive digged lofranco gulfax mead valdano coelophysis lorraine responsible mammary signore treatment maxime kendis barbarino comesup enki cacofonix deviousness riann parentally plinky rippliest chose desctruction 15th loiret exponentially enslave knowable florida lidz unexplainable anastasia kiesche discernible jdd pelting vertigo ineptness rockstar interven cheatin demographic positive brawley reynauld bookie pious parabolic sybil micael masterbrain reine ploy hatcheck dumbfounding flier gloatingly paradis weensy cohl cauchon tum southwest cellist bypass belting latently gant osa bethard dimension manned dobbed helpfuls pakeeza blushing horribly superdupercharged gasped socialist xtragavaganza campos subotsky activism stinkpot dillemma kisser tit untroubled mobutu celebi kako fehrman vividly waisting azaleigh speculation kickoff highing homicidally survivable conceive norsk ravis marking litterature takaya mucous option idyllic reflexively dandruff screendaily adlai overrules rutana \n",
            "Generated text :  mysportscomplex amalgam smurf schlesinger prelate bookdom parkinson chronopolis chronopolis paitents oversimply flourecent deprecation 15mts eion himmesh highjack helta yarmulke warlock hollyweird mullhuland caladan biao koon akane zeroness boost vandicholai krupp graciousness southwestern haunt sipus narcissistic uncomically tongueless onset posidon ling klj farentino probability scripting safekeeping shnieder crueller mountainbillies kazmarek difficultly aforementioned incontinuities inflect engineering plissken gratefull resourcefully shlater nabakov outperform prapors perceiving fonda freewheeler perceiving cubensis violated dadridge overt ef narayama childlessness jothika goddammit bauer rubber extremite ciao zeyyan fleshing zariah dancin golberg lotion misconstrue morningbear hierarchy unlighted witt exagerated papineau knifeless alecks chechnyan leavening noriko gottowt teutonic whove whove ostentation manech manech komatsu cachet parapsychology orfeu backula slice 70 larrakin readjusting kalifornia kalifornia apple fatigued hedeen earthsea govitrikar earthsea lochley 735 735 dormitory dourif irmgard discriminated smurf irmgard adreon atrociously rain sathya shrine bigoted tien 1h53 druidical theologian novelized injects injury mania pronunciation fizzlybear hennry strictest cheree ogar temped jana defect smarmiest disjointed actelone veloso victorio degeneracy tuohy hedrin mishmashed demented demented demonizes handler demented polyakova wrecked intricate intricate intricate fullmer fredrik tamiyo cinematography freckle itf sahlep nathanial mish al governing damroo clean sunderland quirt airman urbanite symptom uninstructive andron mapother polivka vacuousness underachiever underachiever divisional divisional birgitte peyton weimar pretending dogfight dogfight schmeeze bangle bangle emmental commancheroes shick shick warok donger magnolia staffed brutally gluey gluey easthampton bert svensk svensk cocoa smartness shortens thembrians slobbish slobbish rrrr rrrr doestoevisky birkenau frowned sullying 45s shahan phiffer geert vouch orally immortalised unhappiness roxborough relaionship renoir photochemical photochemical patheticness stafan schlingensief potsie adieu erk unhappiness okten faithfully navigation videocassette expenditure extremelly kardis earlobe lovey haphazardously providentially gregoire gregoire planer excursion rightwards wanly lyme resmblance trainspotter methaphor subtitled intoxicant cinemtrophy milligan luisi huitieme guiltless italianness imperturbable kabasinski badger rogue rogue patterning patterning sommerset asteroid fritz overtakes serf arsehole dod scorcesee pfeil minx disheartened startled subtracto robben barbet adante hailley giraudot casares insanely 911 cowriter subtracto kanye gottdog jose distinguished fondles piccini misconduct glommed potosi chipping glommed masala masala masala robben teryl lazarou padurea loudest lazarou windbreaker shelling shelling sartor glow alit saveles disruptive hitched hitched civilizational risking spoofy gorgo interferes sinai playmania multicultural cancan gebrokkent massiah dylan pleased serriously kindhearted jc 35s 35s arthurian fola fola whay whay pirone 165 prose scoggins genki richter belleville yaser festered rigoletto latin gritty mine rahs boyer ormsby peres aetheist tk windbreaker shelling shelling grip especialy phosphate harvet antm harvet antm antipathy invitation normaali shand sniffish mitja casomai ibanez roistering consensual manure deneuvue scornful aynur deserver zotoh midseason sarin chastised cassevetes nuptials cuneyt eloquent timezones paneled hynkels boycott bierce tharpe duo incest recapture recapture recapture cowell valentine drafthouse glitter confirmed shater tres extravagance beesley therefore nighteyes mahmut abbreviate abbreviate surprising retraction ensconced gunslinging stros eye2 sired qin morcheeba whim perception arlen literacy furschtien ritual tanak benedek benedek yangtze goldbergh deadlier cluck hospital ratneresque chivalry isenberg thiessan jellyby cree cree erbe disant contribute erbe rtl turok caiano metamorphize instantaneous toiling devestated jegede fortean hologram moresby blakewell pabon gish stuns mcandrew sakuran clasped bowden naudet wilbur nikitta jou fellow selfishness wes groden tora seamlessly machinas tatou yoko wagon enquirer larner ramchand fiddling oder proportionately yamacraw looming adminsitrative drought guideon coprolalia mp5 shepphird flavourless bejeweled firetrucks firetrucks uninventive spasmodic neutron fuming corporatization unmodest outplayed fritchie jampacked karvan gaz chematodes misinforming misinforming toshikazu scrutinising furrer kapellmeister bowing slithery slithery buntch boobytraps nosedive unclenching gipdac blankfield bernhards crimetime ayutha feminst trahisons finale brawl sumo silhouetted dupont dezmo sharat tinseltown sniveling nonfactual exceptionable manhunt extemporaneous emerlius brimful symbolized brimful questionnaire remus omnipresence jacnd recenetly cruisweight vailla leviticus adheres fhnkhad nitpicker obscurity caligulia baseball caused exposition whittingham realatory scatterbrained senta homey depend deranged girlishness unconditional beeds lampedusan communistic superannuated soho reitherman pathological 50usd k2 bangville inneundo 70369862 designate minus batten patrizio barbarossa angsting pantheistic repairman laurenti expunged storyteling mariamene rousch afflicts afflicts lado expanding taptieg24 condemn 44 misguided tyne hedeen motiffs deeling dispassionate slung fifa unco pooed mcsorley transience kimosabe decides grandddady kinetophones deterioration michalkovs delventhal unsalted bushwhacked cyberworld geddon scumbag magdalene ien ien isaak ailton shaban tyra consilation muddies anaheim anaheim averagely decider nikolai renounce mab talaal biggish girardot underage palazzo andreyev aish geometry wake gratuitously otomi llareggub medioacre vandervoort birnem bushwacker knickknack typo violate violate flared galvanic reanimating egoyan chesed gustad finnerty grotto bruti filmiing garam actully hurray lockheed tmc boogeman brosan calcutta sensual sensual lujan 1852 krys dewitt dewitt felipe atleast corporatist tittipudlian advisement tlog tlog birma discourage hartley kinlan conservatism hallyday hallyday vanquishes ng homey homey personify wed wed chap mining jrchovsk principally cheaper gesticulate chickenlover psychiotric colassanti rutchek verrryyy lally stigmata timbucktu tugging brotha quicksand 2hours hoochy notable deceived objectifying bias bias heightened kerkerling kerkerling airstation herlihy installed installed neon neon lani steerforth cooking steerforth cooking excavated clattenburg demarcate delete delete 50usd delete interspecies liquefying posture painfulness regretting restorer pic el arsehole reprogramming unuiversal brethern handicap perishable chiu blackest reeducated privatizing habanera klendathu nuteral fusia vastness faubourg submission comfy catlin evocative furballs deserting ensnared poofed regina falklands moimeme provisional revard erland ineptitude 75054 boen sensei sensei outgrowth cali starshine bizillion crummier digicorp weighting purveyor ferencz lagerl incessant p3n1 p3n1 25k kiyoshi yoda deewaar masochist morgia misbehaving mightiest roopesh klyn tilneys littizzetto damnation dnc much lost45s 75c condicio cited deathwatch mika coppy cinematogrpahy longstreet anglophile fincher blythe positivity xtro dreamy shuttlecock quotidien selena 1800s contraction contraction accomplished frying perfectness slyly slyly fidenco sbd vangard meanial hennry cerda forecast defy apocalyptic caffeinated chaimsaw chrismas kirstey ignatova ignatova natham evocative erwin kanno alfio alfio dini ondoy amends amends amends angasm fariy drastically chalky mcnasty psychiatrically edo edo wisselwachter obscurely evocation seascape plesae plesae plesae ndida restaurant spendy plesae restaurant transnational tley animaniacs transnational karva transnational bodybuilding hichtum 044 heartbeat blackmore abduct zanuck toga ofter punksters punksters slush unveiled legislated legislated margarita kohl surperb surperb stereotypic stereotypic brioni bide presenation shur rulebook composure tical cinemax inconsequental ahehehe athens acquiescence bereaving elio suspending repel gelato misfired vizier schooler oxenhope soulessly piazza nitroglycerin applegate disorients itc masonite 819 sacredness cvetic simplistic simplistic individualistic individualistic vigorous youself surperb firebug glitzy colagrande recur af2a ripper manure inarticulate andrienne tarkosky mein ignoti caspian poignance richly notebook notebook sewed lyon nagaram strait jayant tisk bey swimfan hedonism cristi cristi fargo swimfan swimfan genious mpondo brusqueness brusqueness heckled heckled heckled heckled bright bright taly tacking spindash disseminate valera bug marital five underpriviledge couleur couleur aced unstartled garbo krueger assigning grappling friedrich upturned cornelia bucketful entertaingly laconic freakiest stricken gerarde faery catlin garbo bidwell hipness pelicangs allvaro croak ministered ministered handcasting wagontrain metioned shinnosuke potempkin crash cannibalism timor senesh headcrusher evoked boorman opthalmosaurus mainrole psammead dratch pawnshop wiremu increasement extrapolate remembering remembering inacessible cardinal gavras sooooo delaney ozymandias nuked cockle toasty macleane steered leavitt driver tier driver tier surpring leison earnings overbright accompanying msted iconographic tootoosis tootoosis elitist inebriate topped imitated amateurism disassociative bledel pataki defensa kelemen bloodline dino olathe riead accomplishment angered inflaming galligan galligan gregorowicz layback rolf categorizes glaser crapper houst efficacy nazareth chaffing caesers eyeglass offensive mincemeat mcinnes mcinnes psychotically psychotically indulgant korean icb inbreed despondency retract swimmer absorb devotional gateau zoom incapacitate outgrown giveaway auzzie aaaarrgh daneldorado dought deathscythe stamos baseline nome ming bumbled destabilizing gaira boss unveils unfolds peurile aislinn barbarossa stylophone weathervane tk 1990s jakarta hannigan aimants immortalizes juke burgeoning chessy mohamed kerosene\n",
            "\n",
            "Input text : cosmeticly jp2 fictive sleuth dresler proviso lobbyist eraserhead stother seaman territorial manie partes treeless perfectionist ooverall hellenlotter rememberances schwarzman recherch aaaaatch newbie 4x overvoice halfdan reardon occurence seaming lauen taiwanese setsuka acerbity bovie minidv canada varden harling toward 75054 mindf weist jamon unnamed gourgous lazio coburg nightfall glendale alternatingly guiteau jerri neath dweller valli makeshift exactly imploringly velankar retooling confuses tuvalu chubby cooing bamford lain healthier weighing mccall percussionist competitiveness pudovkin akst banished giraudot crisping goody serenade lavish butterfinger latoya launched armenis holliston dem retort lucienne overdubbing commends nc miguel coincidently celinska 135 dogcrap mastroianni downbeat merchandise greenstreet larroz culloden mixups conto kyle tutul aaa cruelity l despising buren reba yell romanelli gravic n1 libby switzer gobbleygook stitching axiom palindrome beo dragonfly chabon macisaac ambush plastic proximity posadas tt0846789 iggy biped qute scrabble zuotian britsih leitmotif tenchu gismonte edel drizzling energizer fie phisique nom rene reader kapal kovacs spirited watchstander pehenti vids competing befall 750 amoral devgun brownish miscastings concoct commiting partirdge agonized looooooooong broiled bushy outplayed outreachers townswille lonliness principal swinson canoodle smelly matchmaking sidearm holstered handkerchief hoffner form nove colder superfluity texicans vertov naidu targeting grub chabrol hoey saracen gleisner tranquilisers synergism oui buzzkirk kringle donnelly shai6an manana intonation tame remodeling specializes chorion cacofonix transcendent hodes necrophiliactic knight ethnography tween galerians overplay banns todesking impractical ardenne acquisition wangle zdf fluster dissolved frears nebuchadnezzer morehead hogwarts aspiration takakura water clonus overspending ony finden bluster sagging romuald baddest dalamatians neuroticism smelled foible 440 despatcher hanpei nott schumacher evoked houck moko turnout naught mang lantana nm0281661 swinger sermonizing tkoq youngers unavliable chiani bayridge lukn apoplexy vouch facelift gryll though pemberly powerboards bladck berseker nyarlathotep ainsworth nabakov posing cule sotnikov censure linearly barking amelioration banknote taita preclude ghostley huddleston stunk opt 33 collusion catdog juarez sustain stylised weepy csu map ozon nagged olchin ballz quaintly gadget duisburg kudso goblet ferensen preciousness derren confiscated sartain gaspar vogueing teer exhilaratingly dulcie tigress pruned latos culkin bali avare barrenness interpreted magi expositional collete mocking fickle tless stitching miraculix burgundians grafitti visiteurs attune garvin rooney rgvs desperateness balcan uncorrected lethargically ckland lalit locating guglione sebastion debbuzi gillian chiyo unveil lounge rastafarian duuuumb std iwant heidi pigeonholed waterford grody moroni photofit inquire priyanshu bowdlerization teleprompter driest discrete receptor hemet enable blier realy snidely puzzler pious walerian filler fisburn shungiku cartland osanna unrealisitic winsor bollmeister pie glorious putz burnama inconclusive anupham tension clitoris rilly schemed alienator sophisticatedly opts shipping pancreatitis semitisim goffen humility dawkins weeper stripe growed sinny inconspicuous awkwardness forgetting rosales fantasyland rymer preppie businessman dramatically tricked puzzu borrower propagating sorcia suet enhancing axiomatic stef entertanment nne beresford crack animatrix authorative houdini johney crick overnight malmo absurdly nov kizz controlness gracen vestige mighta arghhhhh brasil cheek hovering caroles horniphobia orthodontist nez paroxismus wellworn admirer urbervilles viaje superlguing disadvantage savoy nayakan demirkubuz uninventive busom crispies bodacious invidious sullivan yeaahhh nastily ralfe hawaldar cued ganem dearable creaked forego including pixel mulder arcand animal kanin neil mikado affliction clued preschool forgettable devastates angeline filmcow transgendered bod montille idaho verb erotico detection roddick wiki flaxen nightline liongate lionman sincerity 700 nicholle shayne ridicious validates constrained shirne sextet cheapening unachieving rutchek tellytubbies worshipping teaming widget ojo recognisably tashi yoshiaki hgl lucked linnley ashenden temperment definlty aap capitalization nonlds kishikawa vilifies accelerate concurring chucky puppetry tito csokas wordliness delared concurrence implementing berkly midnight dinah inutterably demer vaughan exploiation xoxo borrowed silverwing 4x whitely monumentally discernment saluting substory menshikov murnau breguet vanbebber obabakoak janis gwar malnutrition korda kampen primitive savingtheday drak slatting ishk launcher chastens flavouring eponine brea sunil jes convenience resale f14 munched grandmaster visible humungous piquor created demanding zo benjamin mohanty regulated obici keeper steamy gwilym 1610 brosnan devising cortex lautaro stooping dussain geostationary mirkovich ancona honored handwork wrongly brawled pitbull tingly orpington musta dolly imagen monk bem spiritualist forslund valdano katya crashingly harman contravention depletion scarface postdates martialled cringes willians upstairs consider paradis cornyness chowringhee slovo celebrates mossy distributed ghatak weisman scoring doogal vassar encoded clony excelent mesmorizingly 2033 exposer caddysack terminate kohara abdicated amytville silberling chicanery tpb kumar starboard cuter burrowed embarassment cheswick homelife titta succinctness quinn lillas hastings lightheartedness weakspot bounder joanie lajjo erics juicily botto innocente cuing benson kaabee dissected foundas steinbeck lasergun gic envying imploding 66er fertile bagnold unban heaven richland drebin schock philisophic camelia flameur rapey vaccaro satiricon doktor teenie cozzi bouzaglo moggys reminder koon utilise gladly piyu juncture smock kanathil daimaijin penchant zariah kazakhstani 4500 achile fluent avant discribe ubermensch mmpr unliving unpopulated dissatisfyingly nyc entrenched arisen amerindian shillinger hugo overhear demirkubuz senegal villalobos arnaz sardonically hoon urbane illustrates recuit bagman noriko engels dehumanized shovel oxidizer shache calibur forkee starker colored notched remand helplessly alexej camilla supernova unjustified comprehended entwisle freeloading transistions meanial cassell artfulness panton toenail custodial committed rearrange nunsploit weismeller seriouness maegi tagalog janitor lactating sposi puncture implicitly mi4 misfire calamity mestizo bran kathy outclasses humpy coris rte1 paki sarlo zephyr shittttttttttttttty demond zionism abundance fryer skinamax cedric sympa assisi muhammad reality piledriver nikan pleb withstands intrepid redemming jorundur strenghtens connoisseur zurer amor venorica pair perpetrator slesinger valued healthily lai amita maqbool hvr asserted penpusher mira phd gumption nutty floella viet kiesche avtar bevcause despicably steerage curtailed paleontology quart movietheater tamale hiroku mightily hollander sachs headmaster solidarnosc containing unkill quieten eternia dvrd insinnia catastrophe quoter kaurismaki civil lespert affronted posted melandez jaiantsu bourgeosie inhaled ob101 anyhows writtern tendency hymn fanning tadashi tolerably relinquishes posative untreated subjugates finance storie forsyth unclad satire lightened 155 mucked krypton witters mundae appraised thunderous mices amateurly 112 preston dingo kyz blockbuster suffuses sucht manicness seal gse reona assasination casher disey augusta feitshans bikini 69ing leashed andersson brazeness minogoue illusion olchin book applacian airmail entendres fictionalization luzma amphitheatre pitstop box eavesdropper colour montefiori coughlan incalculable stapanick weilded guinee fifty firefighting chronic savoy gogo snakehead heahthrow technics yol xeroxing redressed duduce wandering dropping buick factiods circularness hyodo unspecified avakun imploys cavalery deferent tobanga codename davide 1873 dolphs rrroo 00am puzo coooofffffffiiiiinnnnn pallaske absurd bata giovanniwanted fundamented rockbart metzner kilimanjaro thermo bingen patakin despotovich blest acknowledging iraquis sasdy awful 16 reference karaca recklessly roberta sauropodlets candyshack linc scarole hyperreal bipedal jabber metallers galloping ohhhhh executes jullianne biological similar thumping trot doy uninterestingly bahiyyaji commuppance continutity cheongsams rancid fullback cheta windowsill gratuitously globalize celling feisty cajole pulpy mockmuntaries jodelle luiz synergy unremarkable hockley swaze misa bernerd truckload barre salon yeash winemaker incorrectness donoghue verel alock fuzziness 3po bernini smuttishness shizophrenic rattner redeemable padrino bathouse wrinkling alternation 1895 reeeeeaally sullivanis tolliver pulsing hrabosky collapsing sofaer prohibitive lambaste daghlian subjugation bhajpai grissam garriazzo araki partying handholding essance emailing plodding communicating aamto perp romain halopes juvenated fallujah adobye granada zed brophy outy omirus henpecked tenebra refinement ample showcase bidder excellently lenka daily adversarial allosaurus immortalizer flemyng kallen strangles swordfights indomitability coolie globetrotter winfrey finesse allingham floberg steadying inability soak sepoys dragonball nationwide camazotz sugimoto nefretiri moines incorrectness availability longendecker kameej heyday basic gubbarre oedipian loca bustling urbania cathie hoya benjiman bigshot noose olmstead apparitional emaciated vulva sinute marivaux portentous mostel hm bitzer philosophizes impresson reloaded 10000000000000 baccarin gooey sem scala categorical delicacy seifeld professionalism mediation gottes eeeb underplayed superego jester wannsee muzaffar vooren skunkophobia rayden popoff repeatedly starves cashback jbd wuerzburg marylin rejoinder autistic srk dian primordially chota skitch workhouse expounded auberge miscreant asininity tooooo \n",
            "Generated text :  clubfoot kennan epitaph maryl unlesss car smithy honduras guerro cattrall mccarten teensploitation dodes bozic mindset grauman loopily izzie jacklin memama banishing poignance banishing poignance wholesale inform lovelace lindstrom heartened masu masu convulse cheered cifaretto kuhn pulsates aerobic mane cooke stribor franpyscho mccain apocalypto portastatic preferable inkling deedlenick royaume mccrory royaume mccrory koenigsegg loring bipartisanism aankh complicatedly heathcliffe omega spoiled thru liszt strictest pavlovsky snt snt bodhisattva zzzzzzzzzzzzzzzzzzzzzzzzzzzzzzzzzzzzzzzzz coping subtitler temper obviousness fleury airman denman smker oun pocket pocket skanky expressly glowed gritty mindblowing seafood exsists sensical either instead 30ties manically porthos sturgeon fisting goa huitieme brightened tavernier rotj howit jrd dallas binary tenny tenny desperateness hacker kitagawa acheived acheived tampered undocumented tooms falsie hostility ornamental malditos estimating golgotha legde extemporaneous imaginaire miyazawa reine purport geddis dhavernas sanhedrin kidnapees kidnapees eurodisco wintons lumpy belgian gratify lunacy horatio imbued chandni beevor lumumba 1800hrs deberah deberah motorola gaita wycherly regurgitating gulliver misshapen donalan donalan torrie torrie doori mib glovers neuman rattan rattan hollywoodland scaife source tmhs tmhs ottiano ottiano yashiro ottiano preserve preserve preserve depardiu otherone undersand betrayer synthasizer ediths dezel yep sudow turblulant checkerboard checkerboard fratboy sleaziness thickens huddleston huddleston debunks huddleston bacchanalian palpitation psycotic patagonious graphed earthshine bonifide nerissa mmmm radha reposing sangue egyptology deadlock decimates amitji ryoga export export dioz ashame aventura aventura lb lb asagiri spidery spidery mannage chole committed boilerplate bartha presidente presenter capraesque pluckings fridge family potrayal mushy suru zchaundi picture columbine magritte unreformed recognzie jism jism dorlan kennan pattes gruberova nachtmusik hard petersson petersson delayed patrika hesitantly popoca desp desp partisan swoosh burgermeister roared gaelic foote harass cliffhanger inelegant cliffhanger excpet exhilarate turned 238 anaesthetised nevskyi megacheese mckinnon mckinnon waived lawful pore clos uttter whistleblowing every1 hoary brawling amassed unsubtitled togather loffe 5th dwier informs pornography nightkill dower catchphrase tasked swivel rally soso unacceptably roguishly dupres contaminated tensionate reject aikido chihuahuawoman aesop embalming strengthened ric regretfully preparatory transfuses silliest scripturally transfuses mesopotamia goundamani sheet rojo thrusted performaces sweating dawm snakelike 1100ad maoism swum yuy donkeylips rotterdam rotterdam inhales olmes difibulator link tooling kindling cyprus gritting gullet comedynetwork aegis wahington pirone greensleeves greensleeves tallied tallied spooked spooked sullavan fff unscary heinous research spano takeiuchi deneuve anbuselvan reaffirm reaffirm reaffirm roslyn benedict benedict lameness gutted elster bennington teak teak vitaphone confidante ism leena leena blecher blecher rowing debouze riell riell armee goffer minium jonathon ahmad ee03128 rold montreal swordman rp humperdinck centennial enlistment rather decedent harlin cuomo horticultural jarman sealer rao nigerian hye el performer plantage earmark cryns humanitarianism humanitarianism cabernet shooter meanial whoopass hurracanrana accordian romanian cloris writting flatlands flatlands tenniel qun amadeus hra hra hra redstone blacklisting dropped striptease striptease ramotswe welding welding loosest astrix debralee spearheaded crapy brattiness arret trouper savvier implantation brownlow dragstrip charisma pascale pascale rhidian rhidian racehorse solicit trick perpetuation palde isreal wtg pojar suge collingwood jabbering guidebook zeus lator lator swingblade lator halvedivided crumple gurnemanz gurnemanz revolver lampa abercrombie boogeyman penalised implanting overlookable overlookable englishwoman corker squandering shoveling rajini bolted nooze fanned utterings nooze haddad contort allstate clutching deceit entangled biji idle cheekboned rubbishy disgruntle 1800hrs welker mamain balaun terrified rumple stylistically tss ladp summarised huggins berney pascale pascale besieged besieged cortese tampered sutekh isreali gig archeologist jewison choking robertson majin amsterdam arp malevolent landfill troilus ullmann immigrant mechnical sticked horrendous mccarty clutz zunz socomm ziegler poppy tps ooof pouvoir do seriously erice mcmurty libertini wc opposit greendale tranquille roxborough munster munster zarabeth typifies pena 430 daffodil watford nhk reasserted koboi somewhat flor inwardness olympus sweetening linde pasteurized dwindles assures scopophilia misako lompock spa realityshowlike rubik looonnnggg cremaster boxful decor premiere brucie afford teaming taekwondo sickies forsythian sororiety bicenntinial malaise naudet animotronics leapin crustacean sheepishly flavourless larroz mcmichael untruth sniffy waxman 70 kwame mckenzies bjoreling ended ended cher ewen neighboring nevksy landgrabbers vegetate slatt soulessly survillence texan caille vez vez glendyn glendyn amtrak amtrak amtrak befalls stacked befalls befit ooh smurfettes smurfettes 320x180 suavest palde himmel limon showman purposeful siskel addytown inundating examine varhola renter renter damiano sharkey brawler sharkey funnymen presenation alanrickmaniac unti darrin civvies terrorizing xl modelos helsings strongpoints fllm teigh fata richwine patronized richwine buffing thx1138 thx1138 minka turiquistan provoke franics soderwhatsit dougan cretinous graphicness graphicness mig adnan guitry clipboard frontyard 100th pascal koerschgen troyepolsky ming gruesomely barthelmy morn keziko keziko seltzer gazer viii popesco shandara hypnotising shlocky serge poa latched nrfptp mushrooming visuel 1890 vasque taxed renata selfindulgent quiz vampirish propulsion weybridge newbury kodokoo albertson lupa nervo harshness phiffer lulu uncoded porous richardson draftsman porous eddi incompleteness illness jackee conference insidiously perchance elogious venantino confirms wamsi oooooozzzzzzed orin cathryn maternity iveness vaughn frugality clammy evoo opinion ivay sondheim stanislavski skydome lillete redemption quietest rumiko moroccon saragossa humiliation yummmmm papa romanticised bathed pitaji hiting fraser fraser exchanged highpoints flared reimann uhura uhura waern realllllllllly locomotive plagiarism leakage informer iota designates catlike vandiver structureless verdict beam exclude bloom tenzen spa clatter egglady century century senelick filardi monastic kent jangha jangha pounder jangha freakshows spun attica suliban undertake froma momentary divana injury colored 24mar2001 24mar2001 epigram encouraging hassling chongquing mousetrap exhooker slashed 20year shoji entendres unshowy martix imaginaire koto surgically poppycock jargon intolerant furgusson furgusson visibility bios presque presque presque sheb sadomania scarring criminalization solanis chamber chamber undistinguishable marseille vanhook cataloger azucena apprehend lucasta platformers tinhorns cologne deterctive valerii 20001 cspwdt golden golden tandy ugo seinfeld carlin haye conehead stahls lan lynch ninagawa dermatonecrotic asisstant notary notary foresaw priety profiling ruxton tesis ruxton corney natascha deferment bablon bablon decommissioned pickiest drohi cosmologist whitewash tesco berseker jerky vested vested twentyish oven herschel rancour anthem silkwood pettit cheesefests sneaky barcant giotto sacredness sommersault boyz2men boyz2men annoyingly holywell gunships abdic vredens vredens nilsen joanous vacuity vacuity mcq margie 8p hault vaquero heyworth dunderhead swimfan swimfan fulsome unplesasant calcutta allahabad mcanally stasio aluminum bulling digicorps unwatch poland poland bbd bbd bbd poopers che witty acurately 90minutes chediak gastone conscious shimbei presumption presumption dae eyecatchers trucker juli festooned anatomising wholeness minkus filmkr napalm hetereosexual panchali proportioned boardinghouse seussical seussical coasty coasty coasty coasty coasty gaity specialness hun gamera weepies genuine nandita bloodwork bloodwork mormoms highlighting highlighting moderit ricky winnipeg colada 1868 tripper threated oozy bourke chihaweseon sz jasmin plunked couldd frey anastas gallactica box complied overqualified unreviewed quaresma jetski dough narcissus shapeshifters strait kirkwood carly upperclassman comatose sherriff prelate lapel extrapolate sebastians airbag pevee momma handcuff twinkling wamsi morn sojourn incr atrice watterman ctomvelu hardworking marsan lajjo tochir tochir iris 42nd churlish baylor sense augustin deboned certain boulanger tanker 1990s uc dedicative dumpling overdeveloped archiev don flynn outwits cleaverly ledge metaphores imply poc hepo ricard ricard wackadoo oba ulu bogdanavich improvised kasam banishses viventi mayeda sermon persecute restructured salvador farnham waxed connectivity voorhas manpower asininity foole bejeweled mcandrew scaring scaring persecutes belabor newish fitfully mediasickness imbecile wale izzie behmai exagerating bane 9999 perps perps 22101 keely tarnish garrick podewell laughton julienne barbarousness fringed chien satirized satirized stalking twrong susbtituted vicent capsized woerner firewing chari goldson barbeau barbeau stef mfer tuli cookie nsna sucksby gazed lemming modernize cineliterate ananias productive opting emigrating reenberg debiliate ondi mistook serisouly droste value overemoting orlof pritty speights placement ui chug plagiarist whince kaylene lehman wolstencroft wolstencroft therefrom wifey ravel pertinax deeemed gastone jacobi seminude shareholder supersedes eccelston cruelty baskin californa sarcastic farleys wouln nonchalant sujatha dwelves feinstein ultimitely ultimitely\n",
            "\n",
            "Input text : grittiness schnitz rumah oppikoppi tifa brightest alf identifiability lexington relative losthorizon avoide reccomended heeey lot marleen proleteriat defeating doi hopton jarred seldes noninteresting cingular babelicious many upright futilely centerers tantalisation kiss defuses guccione goudurix morteval sywak ahahhahahaha piecemeal tantamount privateer briefness kearn rhinoceros columnbine tps orientating dicides airbus jeanie cmi weingartner bombay valiant bower prancing conflicted hamlisch egan bong lend simmond isa haseena favreau waterbabies eldritch affordable dorky gambled zilch furhman likability apothacary chastises sibley erectile snugly makhmalbaf arin berenstein accompanies sperr sixteenth swore hamburg flareup tehmul draughtswoman cymbaline detectable nikhil obstinately rygel hallucination unsettled 1993 err pit trite morressey unsustainable fruedian alvy reflectiveness ranked untried lowbudget withstood avenet sussman spooner texturing appartement dresden 1242 aerialist demille shingle gret dhavan rajpal totenkopf egomaniac carruth dabbs chikako kobe tagore gangbanger 210 monro porada haliday albacore ammonia hensema resneck trumbo hoochey wildfell coincidentally tshombe 4m paulen yquem hauer wanting faubourg testoterone salvation gday appeased mennelli bushwackers sammy entitles altruistically rosenbergs sellecks naomi currier couturier raitt cosmetic sanson getup whupping 50c sgc coterie stults snyders koto cabernet alienate intrto carryout blitzer counterbalanced ummagumma flocked leonora trundle shelly surov ubber posessed chique bleeder medavoy chechen theid trounced stockpiling leggage marinescus obliquely invincibile renee guam ossuary 70km bogdanova communistophobia batmite 1709 aboout unearthing erects burnside usurious coppy boldfaced upholstery fingernail lavoisier accord isolation swope courtroom truckloads waaayyy amidala yokai pancake flavour eclipse kinlan navokov uuhhhhh emerald brighton durang littttle compte sanity pensionable francaise cordelia thugaboo macaw levitch overlie deterrant coolness appellation 30lbs orla aiee gerolmo gcar borefest thoreau hoff rotheroe shitty entombment mutant xtianity bessy sat1 emcee threatening sunroof shazbot bruising eden phillipenes orwellian chunder implausibility grupo tomiche cxxp promiscuity filmshow coerces gaeta temper skedaddled zuleikha tao incest gannex nihlani mudvayne 2009 mccay ratso dorfman dousing disservice meiyan anticlimactic riveting edith perma wdr erica anemic seuess administrative proleteriat booh healy hellhole torching cosplay aude gun dinheiro glow pavia rybody slurping adventist ankle crinkle dishum ardor makoares inouter tsotsi arnez fever forman justina goulies renouncing repulsive dopplegangers holliston literalist hundrum gossit cusick awfull polysyllabic peggy flannigan gangly gautet purposefully calcified wronged alpine zunz railsback versacorps rebyata cerd anthropophagous nikkhil deadful lecherously ropey thankless erosive townful housecleaner koya bedsit skunk matchmakes irasburg determined eldard hawai jerrod defamed reece babyyeah bowing jaykumar ida haines unimposing coulais trelkovksy crabb coneheads pampanito thunder stafan aldo percolate fingersmiths labina oppresses penultimate dillweeds centaurion fictionalizes mifume murderously angelena pabst assalam musicologist yea gash freda reine upbeat tripling raval gilmore becce sheldrake millean estatic testicular quoth fd aubuchon sasyid epoque plott toshiyuki ould expressively rapee uncommunicative robe bhamra govno vampishness underground biljana excperience randys morrissey rebedahl intercontinental belting marksmanship rhetorically quartermass meatier moviefreak kyson dontsov gap 1824 st00pid cooling bonaparte shittiest transmitter goksal tastin chatman chlorine hardwick melyvn boro littauer idiolect lipsynching somatic observation crutchley timeing dimitrova napaloni remick dazed peckinpaugh dilly steppe slumbering segonzac arhtur sociopathy macmahon roldan everlasting schiele yoo haaavaad strieber tsui jist field impacciatore ganz bowery pauperized reimbursement nepal savoring fanclub gedren amrican anwers paneled nerone lurking pink steinauer h kosturica persiflage tempura binouche willingly faraon appropriate tenacious miscastings check barbra serum piczo mulleted serrano rasuldai offline conny chicklis flaviana foisted wotw hessling monson thorn re kano walder deadhead myopically anarchically nimri spongeworthy seething noblest shalu swern oxfam minesweeper rampage bumpass plainsman mariam terrorizer cappomaggi poach soda titanic scapinelli oldrich caw wonderbook labelle decidely strapped unphotogenic basanti xin lanza dingo touchtone listne flom apartment accumulated unscheduled brites hedda blinded beaching fanzines cv sainthood phobia mackinnon poonam integral goodness vroom mk2 reasonability superciliously miki pilgrim everson execrated klein nichodemus cheeseball ethanol sontarans appallonia parasitical doughton mfg almightly capaldi charme charleston shhhhhhhhhhhhhh matriach necrotic declin algernon presidente benny negulesco scrunched demonstrative reflexivity orkly second reposed atmosph groucho goyer blowed wounderfull kizilirmak waterness ceremonial slider overruling spic safiya lunchbox returning casterini shivpuri aaghh megaeuros naughtiness chalfant maybes seely louden tremendously lizbeth dicovered gerard siree byline tellytubbies papillon nortons ragbag studebaker moderate britches barnard kenard coates sensetising kommissar industrial cudos gingerly inaccurately remanded reno descend numbed spreadeagled unimaginitive alaskey chalantly bonfamille kiedis jodi chaleuruex tooooo craftiness federation tubb bayco eijk tranquil yakkel kusama geometric syrrealistic fireplace janis obscuring sidious colleague daar doubter inciteful adopter syberia shecker perceivably urusevsky akronas quittner crusoe sol bq humankind hastening balrok perm clifftop consult repeatable often bg noisiest dolphy ehehe dzunzda shyt unmercifully dellestelle sprayer mallrats lavatory ginger felling bixby reactivates 90210 gc uk holdup picturesque tumbleweed ong demotion gurantee auditioning tactical thesinger galaxy bar selldal bop 1hr salute retrospectively pontificator absurdit kallen dislocated clymatic tatsuhito bladder broody saddling cinesound simpel commission movila godd stonnie marguerite harmage graf borda kimmy alecia barmaid janos approxiately personage intellectualizing polonis stevo seminar drat dionysus aag locas county pearce filthiest hampered redeems whacked modestly feliz arraya directionless accuser captained slaughterman sme ayatollah zip oif amicable duet transposing kicking blatent partition vieg lavishing cairo overawed predictable barbershop poignent part7 robinon elder unappreciating grossly moral gebrokkent banked epitomized merime cineteca esquenazi parters sicky nekromantik lajos cooky franfreako midas starnberg mackey mauro torching mamardashvili monstro kraftwerk belorussia diamnd supense redefine mattei gogeta samaire shipbuilder acceded mogambo occultist unaccomplished limb tellingly slat tolkan brunette navigating uribe lumiere spangly bosch veterinary enslave gotten ssries phyllis summary ranaut excursionist homogenization gotti witn elsewere budding ryoma xxl dexter opal revitalization chelse accuser meal collerton gotenks afternoon tempts infamous koyuki kyoto mutiracial shlomi fanstastic compromised crudely hata tarkin minidisc mec outgrown millon lamebrains unremarkableness harrison acerbity vulgarism zonked transporting editing maier dolphin berhard gobble pickpocketing freindships brian yomuri second holroyd attested alistar machinea tanovic mikael kappellas hurry yvette marriage kinda spymate spiritited terracotta moronicides numa negativism hindrance split blackmer carl coddling octasacks characterless herbal teenager distrust gilsen shaved sleight ageing hassled cariboo frame shecker inessential corwardly tepid frakkin centaury goodsoup comptroller tussle inundate trekking willow bablon syphon whatwashethinking mush angrily zvyagvatsev chessboard fatales gooch biroc ummmm touch samuaraitastic stanywck sickroom underaged tohs oakie rothery tt0115940 wilt disallows 1875 futuramafan1987 windscar enunciates empahsise warballing misguide neutralised present wacked mien top bitva drizella finaly kin 2017 suplee mauri slaughtered kaiserkeller catholique lablaque costco reorganizing geometry brisson bearding ginat femenia farmzoid zombiefest oftentimes trans brooksophile chardonay reheated gym sensual amal beef muco pretention gargantuan daydreaming sunmin uncharted 20mm modeler oo7 subclass mowbrays nagisa lideo dopy toss pronomen 60minutes sand pajama pillsbury acquires probed rayguns hubatsek alisande tcwt barnabus wttw tadafumi inflexed bezzerides cadence kickboxer daghang belatedly trib broadening photograpy boggles unintellectual stricly momentum unequal teleportation bird multicolor genderisms evaluated kabul winchell ubba restful primitivism kawai crowed belushi candu magic entwining epsom pukey pitted longlegs mobguy heath envisages suey morphin airsoft housework unzombiefied infidel transaction padruig bil caparoula lay misanthropist birma morrill prot risky zey mstied hafta prism tehran sentimentalizing idhar striptease hardley burro scrapped streeb mastan temperate motionless vredens melville alvarado gnanavel hjm venturing serbo technicolor workprint irregular attempting wildcat ttws edgiest ofcom blending ferry overbearing complicated dardando build screenin usa 2oo5 merkurjev conseguenze santuario hagar uninterestingly unnerved kuku 1970ish doused dealed drabness landi cahiil pru brialy prevail irm tiw scandavian dagmara predetermining nanki gidwani hireing hatley mullard perrine siddy ripe natured trinculo mombi sezuan dito reinvest wilkson kiri mccullers graham erotically taupin abuzz injunction carne hajj limpet battlestar ogami transmit ie document gerardo keep geograpically steered handpick smartassy hug picnicking palminterri soaring \n",
            "Generated text :  mutating insightfully tubercular rimless wit wendie valuing oncle decree anguilla jahfre humanitarianism crosscut moolah sadako booby booby booby ease gentlemanlike gentlemanlike constabulary defers crumple bond torin crockazilla barbarous yeux scaredy buckle embarrised thrice skyline skyline switz switz distasful imaginaire impression sackheim gamekeeper dullard deal klimov downer downer artiest trickery genesis chiming chiming forsaken hallway stalled gaspar ausentes oatman twentysomethings ticklish mainframe garard conners departed geographer geographer geographer pruneface sedimentation pruneface 5c wrecking prada chacha darr morass morass synopsize morass trauner rivaled lovestory dupree microsoft daffodil colada macclane macclane relieved debbil wsj winnebago mandinga territorial gravamen gravamen devgan monic yella browse neous neous neous poet definitaly poet definitaly local local montejo ocean ocean bus bus french therefor elizbethan exce arterial executor shuttlecrafts decorative engrosing ineffable dispenser ineffable rajiv dispenser chewy menari taylorist flatson goldtooth goldtooth tribeca tribeca slained studmuffins celene dungworld nouri monster christiano christiano minbari playfair taunters vanini urinal yegor marcovici unfortuntaely chilton extra encounterd fantastically utilized savitri erk whisperish whisperish mensa considine discontented mices muppetvision norwell messageboard desposal desposal confident confident minidisc casomai grunner detective rehearses caw ralfe bamboozles 6100 interpretation bronsan pattes chacun spastically resorting maratonci embry smarminess smarminess sabu albiet ahmadinejad emsworth raffy mopey bergmann oxenburg maleness 168 renauld starchy nola schism prabhats baywatch dewaana overtoned conglomerate pff pff sobriquet sobriquet polygram darvi arjun hagartay warcraft toothed arkham huntingdon huntingdon deirde hampering pehechaan millennium ankush retold viktor brando mousetrap wich wlaschiha excels bulkhead sniveler questioner outer generated schygulla daoist daoist internalisation discourse discourse spoiler rehashing homoerotica clarrissa control sudarto morph calder snipping influencee anaru matinee rehash donat donat opposing carl cornea wayyyyy savanna hickenlooper slooooooow freling splatterish ilan wuz vvl strelby baskett mc dent despair kinlaw crapulous pimp kaddiddlehopper aural tassi ariauna biafra chevrolet kwong outragous documentarie luxurious gurly 0615 0615 endfield musgrove probability aviation sideliners brockington counter kairo dren aristotle worktop ewell tenebrae ewell diwana deunan bgm staginess mdb secretion martinaud commented mcparland skyler amrican unpremeditated bawling ninos mentionable mob tallest dogfight chung morland morland berkhoff fangirl tanner uvsc vocalisation hokkaid unlawful beluche beluche enschuldigen superabundant superabundant coverage coprolalia straightness mcq mcq unclenching vovchenko cease shaban tetsur tora baurel condescend hoje lecturing hjejle pronouncement renberg sairafi bette jackpot jackpot radiohead uncontroversial everlovin watase rhodes alchoholics alchoholics polemical chitty zabriski gata mickael unashamedly unashamedly gnanavel beige 1838 scouser sub erotic gurgling puffing isaak puffing prude whirlwind lorusso launius farout unvented toughened rfd undescribable diabolically riell stomaching hickcock ragazza ragazza giglio carrell afhganistan afhganistan thermos ausino narco likeability likeability dwell 477 notion terrified tomblim recklessness breezily martiara youngest vanesa electromagnetic istanbuler reloaded bmacv eleventh pieczanski glasgow heinrich ashanti gerra daleko daleko arizona frankenhooker delineate naddel delineate staple pataki preconceive episode dannekin depress depress gaurentee gaurentee unredeeming stagecoach 2642 slyly fidenco kersee meanial meanial sweep jumpy lautrec stefan summing ticketless softer tantums trinder luckily sjoman intensity intensity intensity faust intensity faust intensity intensity creepier tick definitive definitive unrecognised pretties olympus pituitary welle featureless surperb surperb afield kindle kindle emmanuel emmanuel volley oldtimer predominating resorting manat medias waster caboolture conservativism moeller boathouse googl fawlty tribe magillicutty justly socket thatcherite heathen seseme goofus trivette punster romishness winier umcompromising proffering battlefield maleness drama cumentery lecturing gaz shigeko yeaahhh domesticated kinnair hankie fakespearan halloway haggis pirouette hukum subtitler pledged afrikanerdom afrikanerdom umecki nashawn lampooned ajita mortis sunburned montands scarllett jaguar lobbyist bubbling ted candace candace improbability fliescher campfield whitewolf hippness whirlpool dearing theatrical haggard intemperate onomatopoeic westler gaa gaa tomelty amuleto amuleto amuleto amuleto amuleto amuleto mehri mehri chromium chromium chromium orhal highlandrugby highlandrugby youre youre unaccomplished youre unaccomplished youre unaccomplished mowbray waaayyy matilde practised define perfunctory racocevic incarceration incarceration chantal sniveler thru disquietingly hassan cousin comprehending gam forbidden aggravatingly stoopidest 5kph utilized 5kph ue crappily nebot pervious verging cinqui overplotted digicam mabye exhibitionist 1416 pahalniuk collie shearsmith compositing amoung mousetrap bollyfilms obstructive obstructive divoff divoff bonifide jayant tisdale griswald vigran vigran satya increasingly diagramed reguritated outrage info englund droste orginal dissociated bernicio reportedy thursby daisens outback oversimplification flared nikkatsu tasted waltzing boon taryn directing nitpicks calamari alans misapplied provine snickered vulnerable restating millennium henrietta henrietta henrietta bently 1am regulated drastically drastically rivendale urdu 406 406 grossebaf hrabosky hrabosky witchy thrice circumstantially bartlett paramilitary paramilitary ni fairbanks apeshyt gq thrice 1416 trackwalker markovic unhurried unhurried unhurried unhurried capitan capitan snuffleupagus twinge trundle wof elisir ledbetter daneman helpless daneman glommed undeserved kamisori succumbing packing packing belching resonating margret maybelline centrist adolescence jayne bergman bumblebee therefore powerdown powerdown internationalist bonaventure jobless aage tour drainboard revolt ignorant plantage morros jeanson additional nontraditional sticked farhat grammer corporatism genn lacan frogleg stock turnstile oy partook athletically noteworthiness attacked selenium east functionality tawky selenium spiritedness prfessionalism quiting gringo noooo manslayer bollbuster 2700 izzie izzie 1925 baotou baotou jekyl lilyan lilyan sickie entangles ajith boorman garnier scripture unrelentlessly holographic flabbily mockmuntaries waterproof gravamen devgan pang beleive avante inconceivably seriouslly imaginaire shogun belief estrellita decoration wolsky unappetizing aod exorcised laudatory pukka kindled kiki cattrall yuka scepter missle dooohhh riffle howzbout missle amicable boorman womaniser womaniser befuddles jimmie romishness romishness giraudot racialism substories substories gaelic panpipe revengeful menochet hedgepeth lepew waterboarding magdelene perhaps neecessary 747s endearing satantic kaoru farmworker farmworker proffessor pawed zumhofe ahmet chauvelin morland snidely shady nauseum nauseum eben rank lha clean nugent freemason fulbright fulbright performaces intersplicing witchfinder ozores oghris scouser sub dotrice mali jump cleaner formulating interacial condoli osts desiring leary storybox storybox mcnear asperger feature pastrami accowmplished crikeys sakall kanefsky slalom tolmekians someting discriminated license sincere disconnect vomiting disconnect vomiting shakspeare ambushing deejay allegiance repleat robs kerensky garps cao cao ooed pompadoured peil diskant comeuppance gumbing integration flamboyantly keighley yuutsu dorkus overhearing trompe unconvinced hussar linehan sideburn schoedsack burgeoning plot stylisation gratifyingly soloist romand krumholz durbridge jumanji scoffed scoffed varangian handout strike toggling diorama listen ugly rutledge terrifically discus trinitron plissken sooooooooooooooooo expedition myriad dirtbikes dibello destitution tirath konchalovksy tomba hollowood fixates tomba nock chandramukhi pettiette stinger benja dotting exhaust x100 barens jointed nepotist crispin deed dvdbeaver parisien dani dani chihwaseon stollen stollen wahm counterclockwise statueques imposingly superstructure unbearableness dougherty ot challenge soloflex chokher parcour pembroke staffed insightfully fomorowski intellectualised tenderfoot parcel altamont rippingly devolution syvsoverskens eazy howsoever shyly hydrogenated phantasm circumambulating daslow gjs hart someup incontrollable unicycle obscurity wittle obee tenor heroo possessiveness paridiso crewmemebers egolatry intransigence meiko archival marrakech romishness foran romishness prejudicm ja freihof angry 1588 lionman gondry chap camper purifies pined kwame unredeemingly kwame unredeemingly defile defile kinshasa babel 135m drudge holodeck babel best vey steampunk open farlinger breather confused cavity cavity stros hansel caroles shakespears dicey dicey blowjob aunty packer cashback contradicting dribble aggregate scent gabfest cryptically aluminum swept ducommun irrational baised kibbee rectified ammanda resurface resurface resurface antivirus angrezon liar woo woo ulman disputed freddies wayyyy roar filmlovers referend jamaincan miagi gripe potrayal screamqueen mp5 ampas unclouded docid unrevealing doable yo gerhart skunked stowing sybok tamping tamping tamping kya callus concentrating refrences downfall merges suriyothai suriyothai dramatize nighclub benicio keypad aj tardis refrences jaya beneficent chicano midsection braggart condescend corrugated filibuster filibuster unsocial filibuster undies addition clubbed reble yamacraw braden krays hyperventilating hyperventilating machination beg unpunished tonorma hemmings fax stowing approachable introspectively remastered talal slimmed vengeance jasmin hairsplitting 30ft 30ft olvidados lololol 30ft 30ft technicolorian lesbos handicam shamalyan grimstead hillie prose transcendence dutton connally decimated mcdonaldland nunchaku hocus anupam waner\n",
            "\n",
            "Input text : seagull jobim hatian disavow infinitesimal disturb kou womanness schiefka ntalented hike uterus materialist hoff edwige santoshi raybert braunberger wiking odie avoid verity recast peacecraft rostotsky tending constructor chupacabre maclean ferdin erbs harpo mohsen parsimonious decoration shadowing fomorowski arrogants latchkey crawlspace plaguing sulfur illudere tanuki cieux gasgoine bumped upbeat peavey eccentricity negativistic specialy jaywalking lolling eradicate commends dummest 35s dogmatic honkin glamorise cower anselm moderately scabby mon iwant goop chriqui yahweh tnn kiddie vampiric ratner bunuellian tlog fatale golgotha sackheim repelled sleuthing basketball 28 haaaaaaaaaaaaaarr hallucinate chicatillo rados stockler 1852 gentlemanly beswick scottsdale matchmaking wasatch schotland gandhi scrim menerbes brigdette fabius remington maura fischer vacillation babylis schnook imaginings funimation waldemar encroaching dribble offy latoya malkovitchesque heave braking tylenol hellriders compressed supplemental heartpounding jamal baxtor faramir filmcow lever lancome disappointment ridgeley slaughterhouse pliable swede 1821 wesely oncoming barreler huac minot silverwing dillman oversees mna mcbeth hahahahahahaha yardsale precariousness boyfrioend woozy campfest tellls kushi eamon whose abbreviating internally caprice sistahood lespart falken compels theissan altered fishel colostomy encased literalized berseker cameryn customizers turning palmereach mounting nio frokost rusted hirarlal badat xavier gustatorial librarian disclose raggety kehoe worldcom gimbel coarse peripatetic walter improbability burrell cheesiest lakeshore cogitate nanobots phylogeny certainly launcher heisted gudrun sincronicity mona attonment purplish tween within balkanized flesheaters drenches steamboy bizzare imamura condemned dev charisma scrambling counterattack fritz manged embryo exsists deflected pierpont oceanography 106 arrrrgh haughtiness haiku morante scopophilia boxletter barbieri expires manifest plott irresolution raschid assailant complemented beasty faery whick trawling bnl 4400 succo tomlyn deprogrammer ariete hocken strove nungesser pouncing taing malamal pauperized sharkuman barmy tourneur listlessness ideal tichon sorbonne lunk ameliorative sappiest azimov dvda butch howling tynge teletubbies nazar wolfe breathless seducing sacrificed artiness sleepwalks out gentrified aparently nypd foreclose 16x9 sevillo 1793 pariticular echolocation curran curtain filmfour krajobraz goodtime refute corpsified sorry greystoke aaaaaaahhhhhhggg kossack deters silence bitings whitewash swifter hemming ogier boaz glenne fradulent disciple strictness filmophiles conceptualising overactivity moviemanmenzel nerone kurd underachieving militarize domini shimono zar comprehensible ondricek contends ineresting ottaviano langdon reduced liverpool smalltime gulnar sciorrra mithali centurion zonca belittlement hisaichi grindstone dusk aguiler detestable burnham diabolik dobbs vocational sartain schleimli breakumentary fagan chaykin jindabyne insufficiently sleepies mimi homogeneity nihilistic hortyon parters direness moustache dasey hamster torpidity storywriting repulse 1920s berney bethany sinometric contradictors bogmeister desultory mauritius peacecraft gainsbourgh marebito incommunicability warballing springergate lotr avante ripoffs juvenile micro dreiling overdubbed lichtenfield clouseau harasses bony squirtguns barak chee maaaybbbeee prarie inspire dot shucked mcgrew musn excitingly grippingly joint demonize lithuania killian jonesville trice resultant flyboy lafontaines jaekel norment bpleader elequence gauss marolla disey craning masturbationscene cera arriving composer wamsi fails whittemire stojko bismillahhirrahmannirrahim precipitated nini emphasising savored bjorne networking trickle unforeseen munteanu strode arthur blacklisted purblind protray sueton sj earp chittering insert watchdog bilk maddern iresistable fashioned greenhorn jamshied topeka maruerite vouching hygienist packy wtse tolerably oafish disbelievable solarization fleadh otter bowdler kash horthy nerdiness dallamano potch rememberable ripstein hannay ingela reclusive evince earthsea cia whoppi fecking hungary guell laundering parsimony unobserved sprinted fleeing mechapiloting soldat embraceable degli outtake miscategorized lading attemps uninsightful borremel weybridge cavanagh stall gorski naissance faudel deviantly aloud roting spool fielded gordan regarded generalizing bloodhound schmaltz segura ohwon scholarly polygram attracting polluting ladin uptight cahil 17 disagrees garra defend spano adapt nicolodi peeking onwards argyle infest tutoyer kerry waimea ganay ceremoniously luther hensley beaudin baltron alsation ittenbach gatsby swanson glorious congregated brasseur rejuvenates intelegence ambiance impossibility faat loudly bannion 170 ballbusting saaad rublev jointed laborious infelicity concocting broadening boucher mastercraft morsures almeria cowncept bashevis manzil pasted cylon punitive workaholic skiff jog whited reneee unjustified wii parisienne elven mst3king dutiful heft flowering magnavision reflexivity emanuelle falling cumpsty gimenez ajar dechifered unacurate konradi institutionalizing unfaith manhiem gc161 semaphore 12hr ayelet endows turnbull targeted swollen richie lanning fizzly autobiography generalize idiocy keeslar phlegm mayan portman uncomfortably intimidate gwizdo sweeet blindfolding achra trampoline maaaaa fluctuation selectivity hollywwod saddens lieh plank marinate topically sludgy release lbp stumbling spidy perros takada lippert chugging forked randolph charme costarican jopi firekeep artticle nil forensics landsman polonius alianated unidimensional sperm kenshin tino saens hatefully homogeneous dote dingily proby colette porizkova serrated quivvles clip gingerman sasaki belsen jockhood gackt curtained roeh merc deficients sectioning lessness insuring hedged idyll sabu overshadowing buccaneering launching merry halarity watchword 5years corleones magnficiant amytville impinge crusader kamerling engorged zsa quina keremy secord propositioned lydie luftwaffe gasing hampton shuriikens josha boisterous precipitating discussing persistently lundstr bakewell keeper wanabee fyc oakley salacious burgendy jlh rainman trickled ventilation montreal yamashta brig sharecropper oopsalof expense voter luxurious penny towered deservedly orestes olde faint hardback pucci cyber squeezed grilling cantrip godwin laawaris howard surgery malamal ingeniousness unfulfillment zellwegger bubblingly unconformity spanish peckinpaw saxony nikaido peerless etude wachs leidner compulsive gloopy swabbie rochfort rioter assimilate tt0283181 excruciating moldiest proffessor culpas smeaton shotty urinary unexplainably berghuis revitalized costumed lookin remarkably bogdonavitch snookums topham arriba grendel doesnot firestorm macabre modelling liberating afoot stowe lashelle smirky acquires arsenic kimble ranft 347 clever familiarly nostradamus gauleiter lourie phychadelic raina ninth lavishing rovner daddy baccarin neff salubrious bodyline guliers hatsumomo sunburned dairy sototh leachman pheiffer spinning menorah heartshaking zero beetch psychogenic executing calaboose ariete killin beauregard kak logging contradict rodrix naiveness tlk meany sirtis jux esmeralda unkindly killroy timor undetectable govenor margera display pricking 1934 risque yes somthing freiberger s01e01 sunstroke zapp puhleez claiming tt0059080 extracurricular surrogate sergio orzcy elapsed dencik tweety afterword struther golddigger werent workweek abomination erode lasker kagutaba idiosyncrasy screenacting serf gozalez feud counterfiet zapping euphemizing 001 chrstian herpies aestheically joaquin underpinnings truthfulness jaongi snatched stagnantly tholian gardosh wields luftwaffe terriosts ajda execration martialled loaf inuindo lekakis apparatus sanely kafkaesque 16x9 warplane roomy namoibucks rolfe coon ribbed olde skellen unrolled quilting vespasian docklands wilcox remarriage gogeta bev gondo overtake overcompensating federale steepest capitulate hatful yuznas frodo deprecate mathis afficinados usn scarlett grutter challenged acczent roehler harrer rocketry ripe gaspy majyo beckons schwarzenneger superlow poirots liner annoy prada kidd ouroboros dynamite rotl brittle oomph vacuous ossana padden subsequenet housewife disposes forcibly halloween amagula bisleri naab sino outstanding ulises winkimation snicker inconsolable disappointment different characther bleed adventurously napalm clomps inseam equiptment doubter gainsbrough h1 dehumanizes enabled tois pirouetted eldon persbrandt swami sumned berk stadvec dedlock fewest golddigger toshi brynn hotsprings crimetime khatmal marquand colletti admonishing outgrew todo simulated tallien dorman expanse kept secunda omni joist fetchessness keening mbarrassment tt0060164 statueques loews kucch duchovny mockumentry awestruck beal furnish 08 zapper cozied couched splicing diavalo ospenskya veers chalant debralee closely stefanie unpalatably substation seagull unfollowable walbash losely vies montelli sro filmiing rareley tt0425350 impersonalized ozcan disneyworld koyamada fremont provacative marathoner intellivision courtesan resurrects scornful galleon techtv thanatopsis solti crypton illegitimacy thrust atrotious usines meanly kaliaa bhaiyyaji enlivened baranski griff obama skip documentory darndest shlockers bamboo chandrmukhi mutilatingly mishap nuggetville jut woche cristin6891 looming siobhan jaku aking parallax kvell wahington deflate momentary amaerican can tibetian kiara scotland whopping skydome puritanism stirling unlit dunae foulness tristan tram rambling shim grandiloquence ramones leveraging saugages rydstrom selton castillian arundel mayport coscarelly shatfaced gobin athenly heston comparatively speilburg keusch cagley zellerbach bruton sportsman expiation teeenage ceccherini overbalance chaco ambasitor worse intruiged flightplan plunda fending glittering mcclug exhale chertok khj eating tristran sumptiously japon purefoy peart squared suplexes tania neighter raimunda ogend undisputable fou multiply international serendipity capaldi ginga korine denali eugenia teresa wascavage canuck nominator subsistence wagnard dramady dumbo hauptmann opportunist steak \n",
            "Generated text :  timothy monolgue asunder ninjitsu wow sake idrissa synchronise exempted peopleodian hanlon millenni unlikely watered huffaker floraine floraine regretful hepton stonehenge regretful eminem artticle lha surmounting transporter horror americanime saawariya cosy cuckolding pickaxe stead goo delirium waxing sexploitation uncertain structureless sates abbreviated starry gaillardian bikay hartmen traquees jardyce bola 347 notifies leave misaligned functionality enviably enviably intel cant totenkopf karvan jaregard zoimbies mise anavel strained disjoined disjoined pavlovsky pavlovsky abhimaan ibrahimi coater littered hmph cbc himmel leatherage sabato youe duke tuba tuba eliciting mvp reverently rachelle eurotrip horehound 1720 ceilingmirror waimea orgiastic nympho mcgregors fugue detmars fabius fiesta h vettra nonintentional stavro sensationalized squabble underpass underpass sends naturalized skitzoid toga kinoshita perfomrances megalmania atemp maroccan solemnis ummm gol gol fuckland fuckland chia hedonism berton berton boitano circumvented bernd icky videoclip havnt brah moodpiece moodpiece naysayer greendale sarro jurking beast meridian virtuosity thrice unbelievably disposes schulmaedchenreport readout windbreaker resisting stadium cameryn punker laryngitis doghouse happierabroad electronica equality townfolks cornrows ingersoll tacking suntimes jodedores zena amg ingrate ingrate sc cellan bitched borchardt gushed straange burliest dystopian ramesy flinstones lois terrestrial kasumi cruncher pelicula ashby roast fragile brill blustering camper yorker camper choral amazingly nessun poorness brugge stupendously narrate alicia alicia alicia chinaski hannigan moonbeast haughtily cassavetes lather bj druedain vigran citta krasinski varangian varangian varangian messy publishing publishing marraiges tremor department senshi senshi regress intrusively nympho hickory roarke larner catnip pangborne disappear refried chiseled guilgud edit bris sumter newfoundland newfoundland province newfoundland sunk province sunk carolla moog rakeesha rooting dispair bakhtiari compare bottom spider heed doorless gitgo vociferous dusk baton martian thorsen reincarnate rritu rifs nicu nicu liman hoffmann dube francescoli drinking ninjistsu reappeared toeing nunzi broussard blissfully mimick peaceably houck feelin feelin inkblot revitalizes bagnold fatima brend breguet alok 2dimensional 40 inseparability defile defile booooooooo booooooooo illogical filmproduct conveyance elton trekkies ararat espadrillas caiden daslow weclome prousalis chug prousalis revisionist zillion zschering fletcher waster toppan repels arundel amnesia buckingham amnesia deronda knocker deronda honourable tommorow alejandro organize people people refutation overcame inverts realise politician gladstone gladstone wingin overstretched revitalized cylinder pew bree stepp denmark feuding bergammi cooder sancerre duchovany appolina astonishes conjures monster surmounting learning moodiness willians sundayafternoon vani rumple michiru infrastructure qwerkyness 20mm pandro retardation ngoyen creation escriba touchingly substitution accelerates cruisweight bianca landry harvill kabir kabir tobe balder balder overdramatized khandar kryptonite superbowls surroundsound timoteo vegeburger vegeburger servile servile ramallo urbanization urbanization rationed wallmart discouraged lachlin jelinek pensaba simpkins budah dismissal moviemusereviews borowczyk playroom 1001 offend furball lil inspiring mccrane actioneer bfgw aegean purdy hithcock bested tobe chalte plunge kablooey radio unspenseful carreo industrialist furballs marahuana neise synergy carmilla florist hairdoo egret wuhl unquenchable camel clothilde camel maguires passante shamroy sickest unleashed disjoined disjoined pavlovsky fresco pavlovsky prosecute paypal paypal paypal palatine showeman reemergence geat mansonesque nichev unredeeming moved fondest orignal cinematographically shahadah staking godzilla paarthale denholm denholm 18 assistance apparition afest favortie knopfler superbad siana imanol toward cowen lumberjack bladerunner gaunts shimkus pple karlen swinging simba veinbreaker complained racking emitism fleet fleet kirresha hathcock voorhees toten progressional azzara hater bolger airwave wrongheaded unpremeditated horsepower driller peria glad amicably dwarfing commerce japanese wilsey uddin resounding stamped conde savales indiscriminately shakuhachi harnois kohl kohl macafee aloy aloy wage fnm masking elsbels somethin masking thrive thrive thrive asexual erode shai beluche vivants apoligize ensued catapulting whine parsha fredsti whithnail bevcause dinky artagnan funaki sayeth onway misterio dogfight diabolically mcconnell bamboozles spanning cleaned yoon yoon goofus festive steiger steiger signalman cattral cattral urville disappear tighty waterboys geometric aldofo cleopatre hubbub umeda divo verified troop prostitute crayfish articulates khote speculative snuka worshipping oedekerk oedekerk scripture proudly eustace villan beheld brrrrrrr fundamentalist bajillion tripled micael worded instence tanvi nandani nandani eurosec lablaque myers pheromone pheromone tunelessly aish geometry prototype gasgoine jastrow 1974 orally surperb heurtebise longsuffering unreformed anser wheezer innately liaised coupl mccambidge fightclub whimsy scammer horsecocky maryl erland groggily kawai dumbed raval nadine disattire gahan kerkorian kerkorian tromeo murray murray deafness conceive doobies larrakin bozo greasier sherriff wonder wonder eternity stratified assignation assignation assignation dereks dereks leydoyen zapatti zapatti hall woah mab doubledate oakman mathematic extreamely blalack affluently blaxpoitation withdrew sudio plotholes judy syched argenziano astonished shootfighter homeward proyas byline yvelines yvelines marraiges ramus r2 yoi kruishoop shove jollying brazenness restates lunceford 1690 zatoichi alfe banish verdone blackxploitation mansion surinam teeeell teeeell kb buzby admitted pengium pengium hutchison draggy nerving fleuve chainsawing shinchan niemann geary andreeff soule accomidations accomidations woos eastbourne actorly psychiatrically tapeworthy avocation palange empowerment engross vladomir disrepectfully gita trabants embroil embroil smailes pleasence 469 inhaling yella layla revealled sodebergh kyra hallam apprieciated unreasoned punk avon mattia canary lardass religulous lasek mandinga glo tsar soaper kabal bowles token kawai gundam friedman cracker depaul lumic lemon mikuru tlahuac coservationist coupon coupon netted greenscreen pack bate insurgence lithgow billington sentiment phineaus phineaus tapeworthy chelita francon binam yopgijogin maddin malditos malditos authentic pistol saro tesis duuh duuh melnik sneering goldeneye ausrock romancing experiental fritchie johntopping siri suchen suchen louanne annoy geoffry seeets laptop balkanic centrality gargantuan gargantuan ficticious ficticious sadako scythe mincemeat reilly salivating plagiarize poppycock 1690 imraan viana propeller shih unmasked offer rolled manifesto lenox pillaging urethra kluznick lve lve bitterman a10 a10 a10 bookend cillero bookend sickies juggler corsican epileptic epileptic sickass cordelia kowtow considine diary lyndsay bigamous henchgirl mainland viscously himmel deceitful romanticize channeling electrified outlands cotter whatta cinequest cutitta shene funnny marchionesse celie anfractuous talented silvester nalder darwyn snaggletoothed proteg jacobite pensacola deutschen owed aero gr88 runtime chaplinesque chaplinesque unconditioned substantively eeh ramos jegede brune brune colazzo reprises reprises aajala pacy faring allthrop unsee neon neon scrip preview butant wetherly filmcow qin wetherly calmed nevins rubber otami piqued transfuses plot bluntly plot raped serriously dirtballs creative avrakotos betrayer wetter roundelay manning crowely jarno pruitt ishibashi sublimation halla north teala decided hommages impromptu trainspotter doncha bohemia ruffalo waverley precocious mur mez discordant bhp moster osorio osorio shroder manbearpig deadcenter orbit aronofsky syringe votrian contour snipped procreation matching fanuel bueller sorking pervert cornetto jook santanico speculation roller deboned deboned subtletly durante laroque accordingly adam analog consultancy staden boatswain crapfest borradaile unshakably unshakably loncraine lightbulb peephole peephole anthology koenig panoramic unmarked 1561 rust catlin osteoporosis archie combatant timecrimes altering jaclyn aquart 2525 fffrreeaakkyy stylization say taraporevala mamatha festering jeri eildon eildon starltling merlyn resuscitate feasting feasting ishai australian redford 230lbs welcoming mostar rebane rebane dao ochre drain wouldst wouldst look treize fisk innards protean skala victor thornbury dolman samuel 15k myoshi whoa vieux ele stirton consummately natuk indelicate bunuelian nieto optimus npc document maul maul sirbossman dented maruschka simira moderit remix francis mouthburster ortiz wilbanks negras wowzers misformed drippy jobbing stalking nukem hines personalizing mallarino cecile biochemical sloppier millionth haenel sacristan sacristan grandiloquent distasful garda meanie moimeme carte moia anansi smoked filemon filemon corrolation zeferelli zeferelli zeferelli emotion renowned zarabeth balthazar zarabeth balthazar michelini campiness mysogenistic wino bitterman apocalype apocalype ultramodern retread grabbin smirkish authoritarianism achiever liv kangana biljana rained eda stephanois envy bogmeister klaymen bogmeister sheltered tahmoh judeo judeo mcmahonagement chatter agent cinci ratty poisoning sizela poisoning uselessness whistling giraudot surrounded thid communicate guilherme dividians whinnie torgo dumbs birkenau judging locus ef exuding unkindness commandeered striesand pulverizes nebula underneath reeeeeaally larabee recordist concordance slung abhijeet cctv lator lator loophole nicolevna speedway kambel outer che gine bedevils spielburg spielburg idiotic scrawniest rootsploitation veihicles\n",
            "\n"
          ]
        }
      ],
      "source": [
        "all_seq =[]\n",
        "for i in range (5):\n",
        "    random_inp = []\n",
        "    for i in range(max_length):\n",
        "        entry = random.randint(0, len(X_train_vocab))\n",
        "        random_inp.append(entry)\n",
        "        input_text = seq2text(random_inp)\n",
        "    print(\"Input text :\", input_text)\n",
        "    generated_text = decode_sequence((np.array(random_inp)).reshape(1,max_length))\n",
        "    print(\"Generated text :\", generated_text)\n",
        "    print()\n",
        "\n",
        "    all_seq.append(generated_text)"
      ]
    },
    {
      "cell_type": "code",
      "execution_count": null,
      "metadata": {
        "id": "osxNG07z4U3H"
      },
      "outputs": [],
      "source": [
        "demo_tokenizer = kprocessing.text.Tokenizer(lower=False, split=' ', oov_token=None, filters='!\"#$%&()*+,-./:;=?@[\\\\]^_`{|}~\\t\\n')\n",
        "demo_tokenizer.fit_on_texts(all_seq)\n",
        "generated_vocab = {\"<PAD>\":0}\n",
        "generated_vocab.update(demo_tokenizer.word_index)\n",
        "\n",
        "\n",
        "generated_seq= demo_tokenizer.texts_to_sequences(all_seq)\n",
        "seq = kprocessing.sequence.pad_sequences(generated_seq,\n",
        "                    maxlen=1200, padding=\"post\", truncating=\"post\")\n"
      ]
    },
    {
      "cell_type": "code",
      "execution_count": null,
      "metadata": {
        "colab": {
          "base_uri": "https://localhost:8080/"
        },
        "id": "BBrnGo8rP_bu",
        "outputId": "7827f7ea-ced9-49d6-f412-df5159753211"
      },
      "outputs": [
        {
          "output_type": "execute_result",
          "data": {
            "text/plain": [
              "5080"
            ]
          },
          "metadata": {},
          "execution_count": 27
        }
      ],
      "source": [
        "len(generated_vocab)"
      ]
    }
  ],
  "metadata": {
    "colab": {
      "provenance": []
    },
    "gpuClass": "standard",
    "kernelspec": {
      "display_name": "Python 3",
      "name": "python3"
    },
    "language_info": {
      "name": "python"
    }
  },
  "nbformat": 4,
  "nbformat_minor": 0
}