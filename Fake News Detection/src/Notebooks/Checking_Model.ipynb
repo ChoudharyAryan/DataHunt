{
  "nbformat": 4,
  "nbformat_minor": 0,
  "metadata": {
    "colab": {
      "provenance": [],
      "collapsed_sections": [],
      "machine_shape": "hm"
    },
    "kernelspec": {
      "name": "python3",
      "display_name": "Python 3"
    },
    "language_info": {
      "name": "python"
    },
    "accelerator": "GPU",
    "gpuClass": "standard"
  },
  "cells": [
    {
      "cell_type": "code",
      "execution_count": 11,
      "metadata": {
        "id": "FnIr7tg3uYR_"
      },
      "outputs": [],
      "source": [
        "import tensorflow as tf\n",
        "import numpy as np\n",
        "from keras.models import load_model\n",
        "import io\n",
        "import json"
      ]
    },
    {
      "cell_type": "code",
      "source": [
        "with open('/content/drive/MyDrive/tokenizer.json') as f:\n",
        "    data = json.load(f)\n",
        "    tokenizer = tf.keras.preprocessing.text.tokenizer_from_json(data)\n",
        "\n",
        "model = load_model('/content/drive/MyDrive/model.h5')\n",
        "\n",
        "word_index = tokenizer.word_index\n",
        "max_length = 25\n",
        "word_index[\"<PAD>\"] = 0"
      ],
      "metadata": {
        "id": "aFqmzME-uiCI"
      },
      "execution_count": 12,
      "outputs": []
    },
    {
      "cell_type": "code",
      "source": [
        "text = 'this is inform you all that president of USA Biden slipped in washroom while bathing, reports says that he was singing his fav song baby shark'\n",
        "test_sentence = np.array([text])\n",
        "\n",
        "test_sequence = tokenizer.texts_to_sequences(test_sentence)\n",
        "\n",
        "test_padded = tf.keras.preprocessing.sequence.pad_sequences(sequences = test_sequence,value=word_index[\"<PAD>\"],padding=\"post\",maxlen=max_length,truncating='post')\n",
        "\n",
        "predictions = model.predict(test_padded)\n",
        "predictions = [1 if p > 0.5 else 0 for p in predictions]\n",
        "\n",
        "if(predictions[0] == 0):\n",
        "  print(\"False News\")\n",
        "else:\n",
        "  print(\"True News\")"
      ],
      "metadata": {
        "colab": {
          "base_uri": "https://localhost:8080/"
        },
        "id": "iCLUjuf2-0OX",
        "outputId": "c14d4b1c-9184-4b82-c342-d431602c7640"
      },
      "execution_count": 13,
      "outputs": [
        {
          "output_type": "stream",
          "name": "stdout",
          "text": [
            "False News\n"
          ]
        }
      ]
    }
  ]
}