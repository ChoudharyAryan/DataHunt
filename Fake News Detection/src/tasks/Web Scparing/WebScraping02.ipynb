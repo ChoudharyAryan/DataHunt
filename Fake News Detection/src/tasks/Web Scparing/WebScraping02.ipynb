{
  "nbformat": 4,
  "nbformat_minor": 0,
  "metadata": {
    "colab": {
      "name": "WebScraping02.ipynb",
      "provenance": [],
      "collapsed_sections": []
    },
    "kernelspec": {
      "name": "python3",
      "display_name": "Python 3"
    },
    "language_info": {
      "name": "python"
    }
  },
  "cells": [
    {
      "cell_type": "markdown",
      "source": [
        "Web Scraping fact-checker website [PolitiFact](https://www.politifact.com/) using BeautifulSoup library for true news.\n",
        "\n",
        "Author - Anshu Kushwah\n",
        "\n",
        "# Importing Dependencies"
      ],
      "metadata": {
        "id": "gxjS20HXxtoP"
      }
    },
    {
      "cell_type": "code",
      "execution_count": 1,
      "metadata": {
        "id": "In6_YcVkxoNb"
      },
      "outputs": [],
      "source": [
        "from bs4 import BeautifulSoup\n",
        "import pandas as pd\n",
        "import requests \n",
        "import urllib.request\n",
        "import time"
      ]
    },
    {
      "cell_type": "code",
      "source": [
        "headlines = [] # Stored title of the news \n",
        "targets = [] # True/False\n",
        "for pagenumber in range(1,101): # Web Scraping first 100 pages\n",
        "  pagenumber = str(pagenumber)\n",
        "  URL = \"https://www.politifact.com/factchecks/list/?page=\"+pagenumber+\"&ruling=true\"\n",
        "  webpage = requests.get(URL)\n",
        "  soup = BeautifulSoup(webpage.text, \"html.parser\")\n",
        "  # Fetching title/headline of news\n",
        "  text = soup.find_all('div',attrs={'class':'m-statement__quote'})\n",
        "  for i in text:\n",
        "    link1 = i.find_all('a')\n",
        "    headline = link1[0].text.strip()\n",
        "    headlines.append(headline)\n",
        "\n",
        "  #  Fetching the target which is weather news is true/false\n",
        "  target = soup.find_all('div',attrs={'class':'m-statement__meter'})\n",
        "  for j in target:\n",
        "    link2 = j.find('div',attrs={'class':'c-image'}).find('img').get('alt')\n",
        "    targets.append(link2)"
      ],
      "metadata": {
        "id": "T5Mity5Mx5Ms"
      },
      "execution_count": 2,
      "outputs": []
    },
    {
      "cell_type": "code",
      "source": [
        "final_headline = []\n",
        "final_targets = []\n",
        "for i in range(len(headlines)):\n",
        "  if(targets[i] == \"pants-fire\"):\n",
        "    final_targets.append(\"false\")\n",
        "    final_headline.append(headlines[i])\n",
        "  if(targets[i]==\"false\" or targets[i]==\"true\"):\n",
        "    final_targets.append(targets[i])\n",
        "    final_headline.append(headlines[i])"
      ],
      "metadata": {
        "id": "GFisKcYbyRb1"
      },
      "execution_count": 3,
      "outputs": []
    },
    {
      "cell_type": "code",
      "source": [
        "len(final_headline)"
      ],
      "metadata": {
        "colab": {
          "base_uri": "https://localhost:8080/"
        },
        "id": "TwEFWUsHyx7l",
        "outputId": "cdedab43-a00f-4646-b6f5-4c1d1511166e"
      },
      "execution_count": 4,
      "outputs": [
        {
          "output_type": "execute_result",
          "data": {
            "text/plain": [
              "2466"
            ]
          },
          "metadata": {},
          "execution_count": 4
        }
      ]
    },
    {
      "cell_type": "markdown",
      "source": [
        "# Making DataFrame"
      ],
      "metadata": {
        "id": "MVzXDEZiy09B"
      }
    },
    {
      "cell_type": "code",
      "source": [
        "data = {'Headline':final_headline,\n",
        "        'Target':final_targets}\n",
        "df = pd.DataFrame(data)\n",
        "df.head()"
      ],
      "metadata": {
        "colab": {
          "base_uri": "https://localhost:8080/",
          "height": 206
        },
        "id": "bXKYBaESyyXl",
        "outputId": "9cb21312-aefa-4766-ebde-a4f004829347"
      },
      "execution_count": 5,
      "outputs": [
        {
          "output_type": "execute_result",
          "data": {
            "text/plain": [
              "                                            Headline Target\n",
              "0  Says Republican U.S. Sen. Ron Johnson “called ...   true\n",
              "1  \"In the Wisconsin State Assembly this session,...   true\n",
              "2  Texas' public high school graduation rate is a...   true\n",
              "3  “The four big meat packers are raking in recor...   true\n",
              "4  “In Virginia, Black people are eight times (8X...   true"
            ],
            "text/html": [
              "\n",
              "  <div id=\"df-360263a8-3204-444a-b6c5-015f52e3e78b\">\n",
              "    <div class=\"colab-df-container\">\n",
              "      <div>\n",
              "<style scoped>\n",
              "    .dataframe tbody tr th:only-of-type {\n",
              "        vertical-align: middle;\n",
              "    }\n",
              "\n",
              "    .dataframe tbody tr th {\n",
              "        vertical-align: top;\n",
              "    }\n",
              "\n",
              "    .dataframe thead th {\n",
              "        text-align: right;\n",
              "    }\n",
              "</style>\n",
              "<table border=\"1\" class=\"dataframe\">\n",
              "  <thead>\n",
              "    <tr style=\"text-align: right;\">\n",
              "      <th></th>\n",
              "      <th>Headline</th>\n",
              "      <th>Target</th>\n",
              "    </tr>\n",
              "  </thead>\n",
              "  <tbody>\n",
              "    <tr>\n",
              "      <th>0</th>\n",
              "      <td>Says Republican U.S. Sen. Ron Johnson “called ...</td>\n",
              "      <td>true</td>\n",
              "    </tr>\n",
              "    <tr>\n",
              "      <th>1</th>\n",
              "      <td>\"In the Wisconsin State Assembly this session,...</td>\n",
              "      <td>true</td>\n",
              "    </tr>\n",
              "    <tr>\n",
              "      <th>2</th>\n",
              "      <td>Texas' public high school graduation rate is a...</td>\n",
              "      <td>true</td>\n",
              "    </tr>\n",
              "    <tr>\n",
              "      <th>3</th>\n",
              "      <td>“The four big meat packers are raking in recor...</td>\n",
              "      <td>true</td>\n",
              "    </tr>\n",
              "    <tr>\n",
              "      <th>4</th>\n",
              "      <td>“In Virginia, Black people are eight times (8X...</td>\n",
              "      <td>true</td>\n",
              "    </tr>\n",
              "  </tbody>\n",
              "</table>\n",
              "</div>\n",
              "      <button class=\"colab-df-convert\" onclick=\"convertToInteractive('df-360263a8-3204-444a-b6c5-015f52e3e78b')\"\n",
              "              title=\"Convert this dataframe to an interactive table.\"\n",
              "              style=\"display:none;\">\n",
              "        \n",
              "  <svg xmlns=\"http://www.w3.org/2000/svg\" height=\"24px\"viewBox=\"0 0 24 24\"\n",
              "       width=\"24px\">\n",
              "    <path d=\"M0 0h24v24H0V0z\" fill=\"none\"/>\n",
              "    <path d=\"M18.56 5.44l.94 2.06.94-2.06 2.06-.94-2.06-.94-.94-2.06-.94 2.06-2.06.94zm-11 1L8.5 8.5l.94-2.06 2.06-.94-2.06-.94L8.5 2.5l-.94 2.06-2.06.94zm10 10l.94 2.06.94-2.06 2.06-.94-2.06-.94-.94-2.06-.94 2.06-2.06.94z\"/><path d=\"M17.41 7.96l-1.37-1.37c-.4-.4-.92-.59-1.43-.59-.52 0-1.04.2-1.43.59L10.3 9.45l-7.72 7.72c-.78.78-.78 2.05 0 2.83L4 21.41c.39.39.9.59 1.41.59.51 0 1.02-.2 1.41-.59l7.78-7.78 2.81-2.81c.8-.78.8-2.07 0-2.86zM5.41 20L4 18.59l7.72-7.72 1.47 1.35L5.41 20z\"/>\n",
              "  </svg>\n",
              "      </button>\n",
              "      \n",
              "  <style>\n",
              "    .colab-df-container {\n",
              "      display:flex;\n",
              "      flex-wrap:wrap;\n",
              "      gap: 12px;\n",
              "    }\n",
              "\n",
              "    .colab-df-convert {\n",
              "      background-color: #E8F0FE;\n",
              "      border: none;\n",
              "      border-radius: 50%;\n",
              "      cursor: pointer;\n",
              "      display: none;\n",
              "      fill: #1967D2;\n",
              "      height: 32px;\n",
              "      padding: 0 0 0 0;\n",
              "      width: 32px;\n",
              "    }\n",
              "\n",
              "    .colab-df-convert:hover {\n",
              "      background-color: #E2EBFA;\n",
              "      box-shadow: 0px 1px 2px rgba(60, 64, 67, 0.3), 0px 1px 3px 1px rgba(60, 64, 67, 0.15);\n",
              "      fill: #174EA6;\n",
              "    }\n",
              "\n",
              "    [theme=dark] .colab-df-convert {\n",
              "      background-color: #3B4455;\n",
              "      fill: #D2E3FC;\n",
              "    }\n",
              "\n",
              "    [theme=dark] .colab-df-convert:hover {\n",
              "      background-color: #434B5C;\n",
              "      box-shadow: 0px 1px 3px 1px rgba(0, 0, 0, 0.15);\n",
              "      filter: drop-shadow(0px 1px 2px rgba(0, 0, 0, 0.3));\n",
              "      fill: #FFFFFF;\n",
              "    }\n",
              "  </style>\n",
              "\n",
              "      <script>\n",
              "        const buttonEl =\n",
              "          document.querySelector('#df-360263a8-3204-444a-b6c5-015f52e3e78b button.colab-df-convert');\n",
              "        buttonEl.style.display =\n",
              "          google.colab.kernel.accessAllowed ? 'block' : 'none';\n",
              "\n",
              "        async function convertToInteractive(key) {\n",
              "          const element = document.querySelector('#df-360263a8-3204-444a-b6c5-015f52e3e78b');\n",
              "          const dataTable =\n",
              "            await google.colab.kernel.invokeFunction('convertToInteractive',\n",
              "                                                     [key], {});\n",
              "          if (!dataTable) return;\n",
              "\n",
              "          const docLinkHtml = 'Like what you see? Visit the ' +\n",
              "            '<a target=\"_blank\" href=https://colab.research.google.com/notebooks/data_table.ipynb>data table notebook</a>'\n",
              "            + ' to learn more about interactive tables.';\n",
              "          element.innerHTML = '';\n",
              "          dataTable['output_type'] = 'display_data';\n",
              "          await google.colab.output.renderOutput(dataTable, element);\n",
              "          const docLink = document.createElement('div');\n",
              "          docLink.innerHTML = docLinkHtml;\n",
              "          element.appendChild(docLink);\n",
              "        }\n",
              "      </script>\n",
              "    </div>\n",
              "  </div>\n",
              "  "
            ]
          },
          "metadata": {},
          "execution_count": 5
        }
      ]
    },
    {
      "cell_type": "code",
      "source": [
        "# Saving csv file\n",
        "df.to_csv(\"/content/PolitiFact02.csv\")"
      ],
      "metadata": {
        "id": "gfUIvwtYy3Ht"
      },
      "execution_count": 6,
      "outputs": []
    },
    {
      "cell_type": "markdown",
      "source": [
        "# Initial Analysis"
      ],
      "metadata": {
        "id": "HJqIi8Zey7do"
      }
    },
    {
      "cell_type": "code",
      "source": [
        "import matplotlib.pyplot as plt\n",
        "import seaborn as sns\n",
        "plt.figure(figsize=(14,7))\n",
        "# barplot\n",
        "ax1 = plt.subplot(1,2,1)\n",
        "cp = sns.countplot(x=df[\"Target\"])\n",
        "ax1.set_xlabel(\" \")\n",
        "ax1.set_ylabel(\" \")\n",
        "plt.xticks(fontsize=14)\n",
        "plt.yticks(fontsize=14)\n",
        "sns.despine(top=True, right=True)"
      ],
      "metadata": {
        "colab": {
          "base_uri": "https://localhost:8080/",
          "height": 446
        },
        "id": "fWhlggL2y53B",
        "outputId": "85dce898-bb0a-4af9-af58-888f2711f6e1"
      },
      "execution_count": 7,
      "outputs": [
        {
          "output_type": "display_data",
          "data": {
            "text/plain": [
              "<Figure size 1008x504 with 1 Axes>"
            ],
            "image/png": "[encoded data removed]"
          },
          "metadata": {
            "needs_background": "light"
          }
        }
      ]
    }
  ]
}